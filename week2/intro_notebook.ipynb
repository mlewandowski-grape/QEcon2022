{
 "cells": [
  {
   "cell_type": "markdown",
   "metadata": {},
   "source": [
    "This is an intro to Julia! 🤓\n",
    "\n",
    "This file is a Jupyter notebook. There are two types of notebooks for Julia: Jupyter and Pluto.\n",
    "We can also work with our code in a more standard way...\n",
    "\n",
    "Notebooks allow us to add some nice math... do you recognize this formula?\n",
    "$$u'\\left(c_t\\right) = \\beta \\left(1+r\\right) u'\\left(c_{t+1}\\right)$$"
   ]
  },
  {
   "cell_type": "markdown",
   "metadata": {},
   "source": [
    "Today we will learn some Julia basics. I will also talk about Packages and Environments.\n"
   ]
  },
  {
   "cell_type": "code",
   "execution_count": null,
   "metadata": {},
   "outputs": [],
   "source": [
    "# assign value to a variable and do some simple stuff\n",
    "x = 2\n",
    "println(2 + x)\n",
    "\n",
    "y = 9\n",
    "println(y + x)\n",
    "\n",
    "x = √(81)\n",
    "println(x+y)\n",
    "\n",
    "z = \"hello! how are you?\"\n",
    "println(z)\n",
    "nail_polish = \"💅\" \n",
    "println(nail_polish)\n"
   ]
  },
  {
   "cell_type": "code",
   "execution_count": null,
   "metadata": {},
   "outputs": [],
   "source": [
    "# More with variables - simple math\n",
    "α = 3\n",
    "β = -11.22\n",
    "γ = 2 \n",
    "\n",
    "answer = (β + 2 * α ) ^ γ * (α + 1/γ)\n",
    "println(answer)"
   ]
  },
  {
   "cell_type": "code",
   "execution_count": null,
   "metadata": {},
   "outputs": [],
   "source": [
    "# types \n",
    "x = 1\n",
    "typeof(x)"
   ]
  },
  {
   "cell_type": "code",
   "execution_count": null,
   "metadata": {},
   "outputs": [],
   "source": [
    "# types \n",
    "x = 1.0\n",
    "typeof(x)"
   ]
  },
  {
   "cell_type": "code",
   "execution_count": null,
   "metadata": {},
   "outputs": [],
   "source": [
    "typeof(\"Stokey, Lucas, and Prescott\")"
   ]
  },
  {
   "cell_type": "code",
   "execution_count": null,
   "metadata": {},
   "outputs": [],
   "source": [
    "typeof('m')"
   ]
  },
  {
   "cell_type": "code",
   "execution_count": null,
   "metadata": {},
   "outputs": [],
   "source": [
    "# arithmetic operations\n",
    "x = 2\n",
    "y = 3.5\n",
    "\n",
    "println(\"x + y = \",x + y)\n",
    "println(\"x - y = \",x - y)\n",
    "println(\"x * y = \",x * y)\n",
    "println(\"x / y = \",x / y)\n",
    "println(\"x ^ y = \",x ^ y)\n",
    "println(\"x ÷ y = \",x ÷ y) #truncate to an integer\n",
    "println(\"x % y = \",x % y) #reminder\n"
   ]
  },
  {
   "cell_type": "code",
   "execution_count": null,
   "metadata": {},
   "outputs": [],
   "source": [
    "# logical \n",
    "x = true\n",
    "y = false\n",
    "println(!x)\n",
    "println(!y)\n",
    "println(x && !y)\n",
    "println(x || y)"
   ]
  },
  {
   "cell_type": "code",
   "execution_count": null,
   "metadata": {},
   "outputs": [],
   "source": [
    "# comparison \n",
    "x = 3\n",
    "y = 21\n",
    "\n",
    "println(x==y)\n",
    "println(x!=y)\n",
    "println(x<y)\n",
    "println(x>=y)"
   ]
  },
  {
   "cell_type": "code",
   "execution_count": null,
   "metadata": {},
   "outputs": [],
   "source": [
    "# functions - simple function\n",
    "my_power(x,y) = x^y\n",
    "println(my_power(2,5))\n",
    "println(my_power(2,6))\n",
    "#println(my_power(2,-3))\n",
    "println(my_power(2.0,-3))\n",
    "\n",
    "println(my_power(2,2) + my_power(2,3))"
   ]
  },
  {
   "cell_type": "code",
   "execution_count": null,
   "metadata": {},
   "outputs": [],
   "source": [
    "# functions - more complicated\n",
    "function my_mood(x)\n",
    "    if x == 0\n",
    "        return \"meh...\"\n",
    "    elseif x > 0\n",
    "        return \"I'm happy!\"\n",
    "    elseif x < 0\n",
    "        return \"I'm sad...\"\n",
    "    end\n",
    "end\n",
    "\n",
    "println(my_mood(10))"
   ]
  },
  {
   "cell_type": "code",
   "execution_count": null,
   "metadata": {},
   "outputs": [],
   "source": [
    "function how_does_it_work(x)\n",
    "    y = 1 + x\n",
    "    x\n",
    "end\n",
    "\n",
    "how_does_it_work(10)"
   ]
  },
  {
   "cell_type": "code",
   "execution_count": null,
   "metadata": {},
   "outputs": [],
   "source": [
    "# keywords\n",
    "function with_keyword(x; β = 0.2)\n",
    "    x + β\n",
    "end\n",
    "\n",
    "with_keyword(0)\n",
    "with_keyword(0, β = 0.4)"
   ]
  },
  {
   "cell_type": "code",
   "execution_count": null,
   "metadata": {},
   "outputs": [],
   "source": [
    "function multiple_outputs(x,y)\n",
    "    (x+y,x-y,x*y,x/y)\n",
    "end\n",
    "\n",
    "res = multiple_outputs(5,7)\n",
    "println(res)\n",
    "typeof(res)"
   ]
  },
  {
   "cell_type": "code",
   "execution_count": null,
   "metadata": {},
   "outputs": [],
   "source": [
    "# tuple\n",
    "my_tuple = (12,\"hello?\",\"Bernanke, Diamond, Dybvig\")\n",
    "\n",
    "println(my_tuple[1])\n",
    "println(my_tuple[2])\n",
    "println(my_tuple[3])"
   ]
  },
  {
   "cell_type": "code",
   "execution_count": null,
   "metadata": {},
   "outputs": [],
   "source": [
    "# unpack tuple\n",
    "a,b,c = my_tuple\n",
    "d,e = my_tuple\n",
    "d,e... = my_tuple"
   ]
  },
  {
   "cell_type": "code",
   "execution_count": null,
   "metadata": {},
   "outputs": [],
   "source": [
    "# can i modify a tuple?\n",
    "my_tuple[1] = \">>>???<<<\""
   ]
  },
  {
   "cell_type": "code",
   "execution_count": null,
   "metadata": {},
   "outputs": [],
   "source": [
    "# named tuples\n",
    "my_named_tuple = (α = 0.33, β = 0.9, r = 0.05)\n",
    "my_named_tuple[3]\n",
    "my_named_tuple.β\n",
    "my_named_tuple[:β]\n"
   ]
  },
  {
   "cell_type": "code",
   "execution_count": null,
   "metadata": {},
   "outputs": [],
   "source": [
    "# arrays and vectors\n",
    "\n",
    "my_vector = [1,2,3,4,5.2]\n",
    "typeof(my_vector)"
   ]
  },
  {
   "cell_type": "code",
   "execution_count": null,
   "metadata": {},
   "outputs": [],
   "source": [
    "# make it a bit bigger...?\n",
    "\n",
    "push!(my_vector,2.2)\n",
    "pushfirst!(my_vector,0)\n",
    "\n"
   ]
  },
  {
   "cell_type": "code",
   "execution_count": null,
   "metadata": {},
   "outputs": [],
   "source": [
    "# or smaller\n",
    "pop!(my_vector)"
   ]
  },
  {
   "cell_type": "code",
   "execution_count": null,
   "metadata": {},
   "outputs": [],
   "source": [
    "# this is an array\n",
    "my_array = [1 2 3; 4 5 6]"
   ]
  },
  {
   "cell_type": "code",
   "execution_count": null,
   "metadata": {},
   "outputs": [],
   "source": [
    "#some useful functions\n",
    "println(length(my_array))\n",
    "println(size(my_array))"
   ]
  },
  {
   "cell_type": "code",
   "execution_count": null,
   "metadata": {},
   "outputs": [],
   "source": [
    "#refer to a particular element\n",
    "println(my_array[1,2])\n",
    "my_array[2,2] = 3\n",
    "my_array"
   ]
  },
  {
   "cell_type": "code",
   "execution_count": null,
   "metadata": {},
   "outputs": [],
   "source": [
    "A = zeros(3,3)"
   ]
  },
  {
   "cell_type": "code",
   "execution_count": null,
   "metadata": {},
   "outputs": [],
   "source": [
    "B = ones(4,6)"
   ]
  },
  {
   "cell_type": "code",
   "execution_count": null,
   "metadata": {},
   "outputs": [],
   "source": [
    "M = A[2:end,1:end]\n",
    "N = B[3:end,4:end]\n",
    "U  = M + N\n",
    "\n",
    "x = A[1,:]\n",
    "y = B[:,2]"
   ]
  },
  {
   "cell_type": "code",
   "execution_count": null,
   "metadata": {},
   "outputs": [],
   "source": [
    "#broadcasting\n",
    "x = [1,2,3,4,5,6,7,8,9,10]\n",
    "cos.(x)\n"
   ]
  },
  {
   "cell_type": "code",
   "execution_count": null,
   "metadata": {},
   "outputs": [],
   "source": [
    "A[1:3,1] .= -9\n",
    "A"
   ]
  },
  {
   "cell_type": "code",
   "execution_count": null,
   "metadata": {},
   "outputs": [],
   "source": [
    "# our first package! - you need to add it first\n",
    "using Plots\n",
    "\n",
    "function my_sine_plot(x)\n",
    "    y = sin.(x)\n",
    "    display(plot(x, y))\n",
    "end\n",
    "\n",
    "my_sine_plot([0,π/4,π/2,3π/4,π])\n",
    "\n"
   ]
  },
  {
   "cell_type": "code",
   "execution_count": null,
   "metadata": {},
   "outputs": [],
   "source": [
    "# loops\n",
    "\n",
    "x = 1\n",
    "\n",
    "while x < 10 \n",
    "    x = x + 1\n",
    "    y = x ^ 2 \n",
    "end\n",
    "\n",
    "y"
   ]
  },
  {
   "cell_type": "code",
   "execution_count": null,
   "metadata": {},
   "outputs": [],
   "source": [
    "A = zeros(20,20)\n",
    "for i = 1:20\n",
    "    for j = 1:20\n",
    "    A[i,j] = i ^ 2 - j\n",
    "    end\n",
    "end\n",
    "A"
   ]
  },
  {
   "cell_type": "code",
   "execution_count": null,
   "metadata": {},
   "outputs": [],
   "source": [
    "B = zeros(10,5)\n",
    "for j = 1:5\n",
    "for i = 1:10\n",
    "    if i < 5\n",
    "        B[i,j] = i \n",
    "    else \n",
    "        B[i,j] = i ^ 2\n",
    "    end\n",
    "end\n",
    "end\n",
    "\n",
    "B"
   ]
  },
  {
   "cell_type": "code",
   "execution_count": null,
   "metadata": {},
   "outputs": [],
   "source": [
    "dogs = (\"pug\",\"husky\",\"bulldog\",\"corgi\",\"shiba inu\")\n",
    "for i in eachindex(dogs)\n",
    "    println(\"This is a dog: \", dogs[i])\n",
    "end\n"
   ]
  },
  {
   "cell_type": "code",
   "execution_count": null,
   "metadata": {},
   "outputs": [],
   "source": [
    "# some more complicated examples\n",
    "\n",
    "my_fun(x; y = 0.4) = x^y\n",
    "\n",
    "x = collect(1:0.25:100) # creates a sequence of numbers\n",
    "plot(my_fun.(x)) \n",
    "plot!(my_fun.(x,y=0.5))\n",
    "\n",
    "\n"
   ]
  },
  {
   "cell_type": "code",
   "execution_count": null,
   "metadata": {},
   "outputs": [],
   "source": [
    "# my bisection function\n",
    "function my_bisection(f::Function, a::Number, b::Number; tol::AbstractFloat=1e-5, maxiter::Integer=100)\n",
    "    fa = f(a)\n",
    "    fb = f(b)\n",
    "\n",
    "    fa*fb <= 0 || error(\"No real root in [a,b]!\")\n",
    "    local c\n",
    "    while b-a > tol\n",
    "        c = (a+b)/2\n",
    "        fc = f(c)\n",
    "        if fc == 0\n",
    "            break\n",
    "        elseif fa*fc > 0\n",
    "            a = c\n",
    "            fa = fc\n",
    "        else\n",
    "            b = c\n",
    "        end\n",
    "    \n",
    "    end\n",
    "    return c\n",
    "end\n",
    "\n",
    "# we will test it...\n",
    "funny_fun(x; α = 0.33) =   3*x ^ α - 20 \n",
    "display(plot(funny_fun,0,1000))\n",
    "\n",
    "root = my_bisection(funny_fun,0,1000)\n",
    "\n",
    "println(root)"
   ]
  },
  {
   "cell_type": "code",
   "execution_count": 38,
   "metadata": {},
   "outputs": [
    {
     "name": "stdout",
     "output_type": "stream",
     "text": [
      "Rectangle\n",
      "width of my rectangle: 2.0\n",
      "length: 0.25\n"
     ]
    }
   ],
   "source": [
    "# types\n",
    "\n",
    "struct Rectangle\n",
    "    width::Float64\n",
    "    length::Float64\n",
    "end\n",
    "\n",
    "struct Circle\n",
    "    radius::Float64\n",
    "end\n",
    "\n",
    "\n",
    "my_rectangle = Rectangle(2,0.25)\n",
    "my_circle = Circle(3)\n",
    "println(typeof(my_rectangle))\n",
    "println(\"width of my rectangle: \", my_rectangle.width)\n",
    "println(\"length: \", my_rectangle.length)"
   ]
  },
  {
   "cell_type": "code",
   "execution_count": 40,
   "metadata": {},
   "outputs": [
    {
     "data": {
      "text/plain": [
       "28.274333882308138"
      ]
     },
     "execution_count": 40,
     "metadata": {},
     "output_type": "execute_result"
    }
   ],
   "source": [
    "function area(x::Rectangle)\n",
    "    area = x.width * x.length\n",
    "end\n",
    "\n",
    "function area(x::Circle)\n",
    "    area = π * x.radius ^ 2\n",
    "end\n",
    "\n",
    "area(my_circle)"
   ]
  }
 ],
 "metadata": {
  "kernelspec": {
   "display_name": "Julia 1.7.2",
   "language": "julia",
   "name": "julia-1.7"
  },
  "language_info": {
   "file_extension": ".jl",
   "mimetype": "application/julia",
   "name": "julia",
   "version": "1.7.2"
  },
  "orig_nbformat": 4
 },
 "nbformat": 4,
 "nbformat_minor": 2
}
