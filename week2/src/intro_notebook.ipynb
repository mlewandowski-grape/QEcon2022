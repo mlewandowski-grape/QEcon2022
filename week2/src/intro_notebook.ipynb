{
 "cells": [
  {
   "cell_type": "markdown",
   "metadata": {},
   "source": [
    "This is an intro to Julia! 🤓\n",
    "\n",
    "This file is a Jupyter notebook. There are two types of notebooks for Julia: Jupyter and Pluto.\n",
    "We can also work with our code in a more standard way...\n",
    "\n",
    "Notebooks allow us to add some nice math... do you recognize this formula?\n",
    "$$u'\\left(c_t\\right) = \\beta \\left(1+r\\right) u'\\left(c_{t+1}\\right)$$"
   ]
  },
  {
   "cell_type": "markdown",
   "metadata": {},
   "source": [
    "Today we will learn some Julia basics. I will also talk about Packages and Environments.\n"
   ]
  },
  {
   "cell_type": "code",
   "execution_count": 1,
   "metadata": {},
   "outputs": [
    {
     "name": "stdout",
     "output_type": "stream",
     "text": [
      "4\n",
      "11\n",
      "18.0\n",
      "hello! how are you?\n",
      "💅\n"
     ]
    }
   ],
   "source": [
    "# assign value to a variable and do some simple stuff\n",
    "x = 2\n",
    "println(2 + x)\n",
    "\n",
    "y = 9\n",
    "println(y + x)\n",
    "\n",
    "x = √(81)\n",
    "println(x+y)\n",
    "\n",
    "z = \"hello! how are you?\"\n",
    "println(z)\n",
    "nail_polish = \"💅\" \n",
    "println(nail_polish)\n"
   ]
  },
  {
   "cell_type": "code",
   "execution_count": 184,
   "metadata": {},
   "outputs": [
    {
     "name": "stdout",
     "output_type": "stream",
     "text": [
      "95.36940000000003\n"
     ]
    }
   ],
   "source": [
    "# More with variables - simple math\n",
    "α = 3\n",
    "β = -11.22\n",
    "γ = 2 \n",
    "\n",
    "answer = (β + 2 * α ) ^ γ * (α + 1/γ)\n",
    "println(answer)"
   ]
  },
  {
   "cell_type": "code",
   "execution_count": 185,
   "metadata": {},
   "outputs": [
    {
     "data": {
      "text/plain": [
       "Int64"
      ]
     },
     "execution_count": 185,
     "metadata": {},
     "output_type": "execute_result"
    }
   ],
   "source": [
    "# types \n",
    "x = 1\n",
    "typeof(x)"
   ]
  },
  {
   "cell_type": "code",
   "execution_count": 186,
   "metadata": {},
   "outputs": [
    {
     "data": {
      "text/plain": [
       "Float64"
      ]
     },
     "execution_count": 186,
     "metadata": {},
     "output_type": "execute_result"
    }
   ],
   "source": [
    "# types \n",
    "x = 1.0\n",
    "typeof(x)"
   ]
  },
  {
   "cell_type": "code",
   "execution_count": 187,
   "metadata": {},
   "outputs": [
    {
     "data": {
      "text/plain": [
       "String"
      ]
     },
     "execution_count": 187,
     "metadata": {},
     "output_type": "execute_result"
    }
   ],
   "source": [
    "typeof(\"Stokey, Lucas, and Prescott\")"
   ]
  },
  {
   "cell_type": "code",
   "execution_count": 188,
   "metadata": {},
   "outputs": [
    {
     "data": {
      "text/plain": [
       "Char"
      ]
     },
     "execution_count": 188,
     "metadata": {},
     "output_type": "execute_result"
    }
   ],
   "source": [
    "typeof('m')"
   ]
  },
  {
   "cell_type": "code",
   "execution_count": 189,
   "metadata": {},
   "outputs": [
    {
     "name": "stdout",
     "output_type": "stream",
     "text": [
      "x + y = 5.5\n",
      "x - y = -1.5\n",
      "x * y = 7.0\n",
      "x / y = 0.5714285714285714\n",
      "x ^ y = 11.313708498984761\n",
      "x ÷ y = 0.0\n",
      "x % y = 2.0\n"
     ]
    }
   ],
   "source": [
    "# arithmetic operations\n",
    "x = 2\n",
    "y = 3.5\n",
    "\n",
    "println(\"x + y = \",x + y)\n",
    "println(\"x - y = \",x - y)\n",
    "println(\"x * y = \",x * y)\n",
    "println(\"x / y = \",x / y)\n",
    "println(\"x ^ y = \",x ^ y)\n",
    "println(\"x ÷ y = \",x ÷ y) #truncate to an integer\n",
    "println(\"x % y = \",x % y) #reminder\n"
   ]
  },
  {
   "cell_type": "code",
   "execution_count": 190,
   "metadata": {},
   "outputs": [
    {
     "name": "stdout",
     "output_type": "stream",
     "text": [
      "false\n",
      "true\n",
      "true\n",
      "true\n"
     ]
    }
   ],
   "source": [
    "# logical \n",
    "x = true\n",
    "y = false\n",
    "println(!x)\n",
    "println(!y)\n",
    "println(x && !y)\n",
    "println(x || y)"
   ]
  },
  {
   "cell_type": "code",
   "execution_count": 191,
   "metadata": {},
   "outputs": [
    {
     "name": "stdout",
     "output_type": "stream",
     "text": [
      "false\n",
      "true\n",
      "true\n",
      "false\n"
     ]
    }
   ],
   "source": [
    "# comparison \n",
    "x = 3\n",
    "y = 21\n",
    "\n",
    "println(x==y)\n",
    "println(x!=y)\n",
    "println(x<y)\n",
    "println(x>=y)"
   ]
  },
  {
   "cell_type": "code",
   "execution_count": 192,
   "metadata": {},
   "outputs": [
    {
     "name": "stdout",
     "output_type": "stream",
     "text": [
      "32\n",
      "64\n",
      "0.125\n",
      "12\n"
     ]
    }
   ],
   "source": [
    "# functions - simple function\n",
    "my_power(x,y) = x^y\n",
    "println(my_power(2,5))\n",
    "println(my_power(2,6))\n",
    "#println(my_power(2,-3))\n",
    "println(my_power(2.0,-3))\n",
    "\n",
    "println(my_power(2,2) + my_power(2,3))"
   ]
  },
  {
   "cell_type": "code",
   "execution_count": 193,
   "metadata": {},
   "outputs": [
    {
     "name": "stdout",
     "output_type": "stream",
     "text": [
      "I'm happy!\n"
     ]
    }
   ],
   "source": [
    "# functions - more complicated\n",
    "function my_mood(x)\n",
    "    if x == 0\n",
    "        return \"meh...\"\n",
    "    elseif x > 0\n",
    "        return \"I'm happy!\"\n",
    "    elseif x < 0\n",
    "        return \"I'm sad...\"\n",
    "    end\n",
    "end\n",
    "\n",
    "println(my_mood(10))"
   ]
  },
  {
   "cell_type": "code",
   "execution_count": 194,
   "metadata": {},
   "outputs": [
    {
     "data": {
      "text/plain": [
       "10"
      ]
     },
     "execution_count": 194,
     "metadata": {},
     "output_type": "execute_result"
    }
   ],
   "source": [
    "function how_does_it_work(x)\n",
    "    y = 1 + x\n",
    "    x\n",
    "end\n",
    "\n",
    "how_does_it_work(10)"
   ]
  },
  {
   "cell_type": "code",
   "execution_count": 195,
   "metadata": {},
   "outputs": [
    {
     "data": {
      "text/plain": [
       "0.4"
      ]
     },
     "execution_count": 195,
     "metadata": {},
     "output_type": "execute_result"
    }
   ],
   "source": [
    "# keywords\n",
    "function with_keyword(x; β = 0.2)\n",
    "    x + β\n",
    "end\n",
    "\n",
    "with_keyword(0)\n",
    "with_keyword(0, β = 0.4)"
   ]
  },
  {
   "cell_type": "code",
   "execution_count": 196,
   "metadata": {},
   "outputs": [
    {
     "name": "stdout",
     "output_type": "stream",
     "text": [
      "(12, -2, 35, 0.7142857142857143)\n"
     ]
    },
    {
     "data": {
      "text/plain": [
       "Tuple{Int64, Int64, Int64, Float64}"
      ]
     },
     "execution_count": 196,
     "metadata": {},
     "output_type": "execute_result"
    }
   ],
   "source": [
    "function multiple_outputs(x,y)\n",
    "    (x+y,x-y,x*y,x/y)\n",
    "end\n",
    "\n",
    "res = multiple_outputs(5,7)\n",
    "println(res)\n",
    "typeof(res)"
   ]
  },
  {
   "cell_type": "code",
   "execution_count": 197,
   "metadata": {},
   "outputs": [
    {
     "name": "stdout",
     "output_type": "stream",
     "text": [
      "12\n",
      "hello?\n",
      "Bernanke, Diamond, Dybvig\n"
     ]
    }
   ],
   "source": [
    "# tuple\n",
    "my_tuple = (12,\"hello?\",\"Bernanke, Diamond, Dybvig\")\n",
    "\n",
    "println(my_tuple[1])\n",
    "println(my_tuple[2])\n",
    "println(my_tuple[3])"
   ]
  },
  {
   "cell_type": "code",
   "execution_count": 198,
   "metadata": {},
   "outputs": [
    {
     "data": {
      "text/plain": [
       "(12, \"hello?\", \"Bernanke, Diamond, Dybvig\")"
      ]
     },
     "execution_count": 198,
     "metadata": {},
     "output_type": "execute_result"
    }
   ],
   "source": [
    "# unpack tuple\n",
    "a,b,c = my_tuple\n",
    "d,e = my_tuple\n",
    "d,e... = my_tuple"
   ]
  },
  {
   "cell_type": "code",
   "execution_count": 199,
   "metadata": {},
   "outputs": [
    {
     "ename": "LoadError",
     "evalue": "MethodError: no method matching setindex!(::Tuple{Int64, String, String}, ::String, ::Int64)",
     "output_type": "error",
     "traceback": [
      "MethodError: no method matching setindex!(::Tuple{Int64, String, String}, ::String, ::Int64)",
      "",
      "Stacktrace:",
      " [1] top-level scope",
      "   @ In[199]:2",
      " [2] eval",
      "   @ .\\boot.jl:373 [inlined]",
      " [3] include_string(mapexpr::typeof(REPL.softscope), mod::Module, code::String, filename::String)",
      "   @ Base .\\loading.jl:1196"
     ]
    }
   ],
   "source": [
    "# can i modify a tuple?\n",
    "my_tuple[1] = \">>>???<<<\""
   ]
  },
  {
   "cell_type": "code",
   "execution_count": null,
   "metadata": {},
   "outputs": [],
   "source": [
    "# named tuples\n",
    "my_named_tuple = (α = 0.33, β = 0.9, r = 0.05)\n",
    "my_named_tuple[3]\n",
    "my_named_tuple.β\n",
    "my_named_tuple[:β]\n"
   ]
  },
  {
   "cell_type": "code",
   "execution_count": null,
   "metadata": {},
   "outputs": [],
   "source": [
    "# arrays and vectors\n",
    "\n",
    "my_vector = [1,2,3,4,5.2]\n",
    "typeof(my_vector)"
   ]
  },
  {
   "cell_type": "code",
   "execution_count": null,
   "metadata": {},
   "outputs": [],
   "source": [
    "# make it a bit bigger...?\n",
    "\n",
    "push!(my_vector,2.2)\n",
    "pushfirst!(my_vector,0)\n",
    "\n"
   ]
  },
  {
   "cell_type": "code",
   "execution_count": null,
   "metadata": {},
   "outputs": [],
   "source": [
    "# or smaller\n",
    "pop!(my_vector)"
   ]
  },
  {
   "cell_type": "code",
   "execution_count": null,
   "metadata": {},
   "outputs": [],
   "source": [
    "# this is an array\n",
    "my_array = [1 2 3; 4 5 6]"
   ]
  },
  {
   "cell_type": "code",
   "execution_count": null,
   "metadata": {},
   "outputs": [],
   "source": [
    "#some useful functions\n",
    "println(length(my_array))\n",
    "println(size(my_array))"
   ]
  },
  {
   "cell_type": "code",
   "execution_count": null,
   "metadata": {},
   "outputs": [],
   "source": [
    "#refer to a particular element\n",
    "println(my_array[1,2])\n",
    "my_array[2,2] = 3\n",
    "my_array"
   ]
  },
  {
   "cell_type": "code",
   "execution_count": null,
   "metadata": {},
   "outputs": [],
   "source": [
    "A = zeros(3,3)"
   ]
  },
  {
   "cell_type": "code",
   "execution_count": null,
   "metadata": {},
   "outputs": [],
   "source": [
    "B = ones(4,6)"
   ]
  },
  {
   "cell_type": "code",
   "execution_count": null,
   "metadata": {},
   "outputs": [],
   "source": [
    "M = A[2:end,1:end]\n",
    "N = B[3:end,4:end]\n",
    "U  = M + N\n",
    "\n",
    "x = A[1,:]\n",
    "y = B[:,2]"
   ]
  },
  {
   "cell_type": "code",
   "execution_count": null,
   "metadata": {},
   "outputs": [],
   "source": [
    "#broadcasting\n",
    "x = [1,2,3,4,5,6,7,8,9,10]\n",
    "cos.(x)\n"
   ]
  },
  {
   "cell_type": "code",
   "execution_count": null,
   "metadata": {},
   "outputs": [],
   "source": [
    "A[1:3,1] .= -9\n",
    "A"
   ]
  },
  {
   "cell_type": "code",
   "execution_count": 10,
   "metadata": {},
   "outputs": [
    {
     "name": "stderr",
     "output_type": "stream",
     "text": [
      "┌ Info: Precompiling Plots [91a5bcdd-55d7-5caf-9e0b-520d859cae80]\n",
      "└ @ Base loading.jl:1423\n",
      "\u001b[33m\u001b[1m┌ \u001b[22m\u001b[39m\u001b[33m\u001b[1mWarning: \u001b[22m\u001b[39mKeyword argument widen not supported with Plots.GRBackend().  Choose from: annotations, arrow, aspect_ratio, background_color, background_color_inside, background_color_outside, background_color_subplot, bar_width, bins, bottom_margin, camera, clims, color_palette, colorbar, colorbar_entry, colorbar_scale, colorbar_title, connections, contour_labels, discrete_values, fill_z, fillalpha, fillcolor, fillrange, fillstyle, flip, foreground_color, foreground_color_axis, foreground_color_border, foreground_color_grid, foreground_color_subplot, foreground_color_text, framestyle, grid, gridalpha, gridlinewidth, gridstyle, group, guide, guidefontcolor, guidefontfamily, guidefonthalign, guidefontrotation, guidefontsize, guidefontvalign, html_output_format, inset_subplots, label, layout, left_margin, legend_background_color, legend_font_color, legend_font_family, legend_font_halign, legend_font_pointsize, legend_font_rotation, legend_font_valign, legend_foreground_color, legend_position, legend_title, levels, lims, line_z, linealpha, linecolor, linestyle, linewidth, link, margin, marker_z, markeralpha, markercolor, markershape, markersize, markerstrokealpha, markerstrokecolor, markerstrokewidth, normalize, orientation, overwrite_figure, permute, polar, primary, projection, quiver, ribbon, right_margin, scale, series_annotations, seriesalpha, seriescolor, seriestype, show, show_empty_bins, size, smooth, subplot, subplot_index, tick_direction, tickfontcolor, tickfontfamily, tickfonthalign, tickfontrotation, tickfontsize, tickfontvalign, ticks, title, titlefontcolor, titlefontfamily, titlefonthalign, titlefontrotation, titlefontsize, titlefontvalign, top_margin, weights, window_title, x, xdiscrete_values, xerror, xflip, xforeground_color_axis, xforeground_color_border, xforeground_color_grid, xforeground_color_text, xgrid, xgridalpha, xgridlinewidth, xgridstyle, xguide, xguidefontcolor, xguidefontfamily, xguidefonthalign, xguidefontrotation, xguidefontsize, xguidefontvalign, xlims, xlink, xscale, xtick_direction, xtickfontcolor, xtickfontfamily, xtickfonthalign, xtickfontrotation, xtickfontsize, xtickfontvalign, xticks, y, ydiscrete_values, yerror, yflip, yforeground_color_axis, yforeground_color_border, yforeground_color_grid, yforeground_color_text, ygrid, ygridalpha, ygridlinewidth, ygridstyle, yguide, yguidefontcolor, yguidefontfamily, yguidefonthalign, yguidefontrotation, yguidefontsize, yguidefontvalign, ylims, ylink, yscale, ytick_direction, ytickfontcolor, ytickfontfamily, ytickfonthalign, ytickfontrotation, ytickfontsize, ytickfontvalign, yticks, z, z_order, zdiscrete_values, zerror, zflip, zforeground_color_axis, zforeground_color_border, zforeground_color_grid, zforeground_color_text, zgrid, zgridalpha, zgridlinewidth, zgridstyle, zguide, zguidefontcolor, zguidefontfamily, zguidefonthalign, zguidefontrotation, zguidefontsize, zguidefontvalign, zlims, zlink, zscale, ztick_direction, ztickfontcolor, ztickfontfamily, ztickfonthalign, ztickfontrotation, ztickfontsize, ztickfontvalign, zticks\n",
      "\u001b[33m\u001b[1m└ \u001b[22m\u001b[39m\u001b[90m@ Plots C:\\Users\\pzoch.GRAPERS\\.julia\\packages\\Plots\\AAjgN\\src\\args.jl:1637\u001b[39m\n",
      "\u001b[33m\u001b[1m┌ \u001b[22m\u001b[39m\u001b[33m\u001b[1mWarning: \u001b[22m\u001b[39mKeyword argument xwiden not supported with Plots.GRBackend().  Choose from: annotations, arrow, aspect_ratio, background_color, background_color_inside, background_color_outside, background_color_subplot, bar_width, bins, bottom_margin, camera, clims, color_palette, colorbar, colorbar_entry, colorbar_scale, colorbar_title, connections, contour_labels, discrete_values, fill_z, fillalpha, fillcolor, fillrange, fillstyle, flip, foreground_color, foreground_color_axis, foreground_color_border, foreground_color_grid, foreground_color_subplot, foreground_color_text, framestyle, grid, gridalpha, gridlinewidth, gridstyle, group, guide, guidefontcolor, guidefontfamily, guidefonthalign, guidefontrotation, guidefontsize, guidefontvalign, html_output_format, inset_subplots, label, layout, left_margin, legend_background_color, legend_font_color, legend_font_family, legend_font_halign, legend_font_pointsize, legend_font_rotation, legend_font_valign, legend_foreground_color, legend_position, legend_title, levels, lims, line_z, linealpha, linecolor, linestyle, linewidth, link, margin, marker_z, markeralpha, markercolor, markershape, markersize, markerstrokealpha, markerstrokecolor, markerstrokewidth, normalize, orientation, overwrite_figure, permute, polar, primary, projection, quiver, ribbon, right_margin, scale, series_annotations, seriesalpha, seriescolor, seriestype, show, show_empty_bins, size, smooth, subplot, subplot_index, tick_direction, tickfontcolor, tickfontfamily, tickfonthalign, tickfontrotation, tickfontsize, tickfontvalign, ticks, title, titlefontcolor, titlefontfamily, titlefonthalign, titlefontrotation, titlefontsize, titlefontvalign, top_margin, weights, window_title, x, xdiscrete_values, xerror, xflip, xforeground_color_axis, xforeground_color_border, xforeground_color_grid, xforeground_color_text, xgrid, xgridalpha, xgridlinewidth, xgridstyle, xguide, xguidefontcolor, xguidefontfamily, xguidefonthalign, xguidefontrotation, xguidefontsize, xguidefontvalign, xlims, xlink, xscale, xtick_direction, xtickfontcolor, xtickfontfamily, xtickfonthalign, xtickfontrotation, xtickfontsize, xtickfontvalign, xticks, y, ydiscrete_values, yerror, yflip, yforeground_color_axis, yforeground_color_border, yforeground_color_grid, yforeground_color_text, ygrid, ygridalpha, ygridlinewidth, ygridstyle, yguide, yguidefontcolor, yguidefontfamily, yguidefonthalign, yguidefontrotation, yguidefontsize, yguidefontvalign, ylims, ylink, yscale, ytick_direction, ytickfontcolor, ytickfontfamily, ytickfonthalign, ytickfontrotation, ytickfontsize, ytickfontvalign, yticks, z, z_order, zdiscrete_values, zerror, zflip, zforeground_color_axis, zforeground_color_border, zforeground_color_grid, zforeground_color_text, zgrid, zgridalpha, zgridlinewidth, zgridstyle, zguide, zguidefontcolor, zguidefontfamily, zguidefonthalign, zguidefontrotation, zguidefontsize, zguidefontvalign, zlims, zlink, zscale, ztick_direction, ztickfontcolor, ztickfontfamily, ztickfonthalign, ztickfontrotation, ztickfontsize, ztickfontvalign, zticks\n",
      "\u001b[33m\u001b[1m└ \u001b[22m\u001b[39m\u001b[90m@ Plots C:\\Users\\pzoch.GRAPERS\\.julia\\packages\\Plots\\AAjgN\\src\\args.jl:1637\u001b[39m\n",
      "\u001b[33m\u001b[1m┌ \u001b[22m\u001b[39m\u001b[33m\u001b[1mWarning: \u001b[22m\u001b[39mKeyword argument ywiden not supported with Plots.GRBackend().  Choose from: annotations, arrow, aspect_ratio, background_color, background_color_inside, background_color_outside, background_color_subplot, bar_width, bins, bottom_margin, camera, clims, color_palette, colorbar, colorbar_entry, colorbar_scale, colorbar_title, connections, contour_labels, discrete_values, fill_z, fillalpha, fillcolor, fillrange, fillstyle, flip, foreground_color, foreground_color_axis, foreground_color_border, foreground_color_grid, foreground_color_subplot, foreground_color_text, framestyle, grid, gridalpha, gridlinewidth, gridstyle, group, guide, guidefontcolor, guidefontfamily, guidefonthalign, guidefontrotation, guidefontsize, guidefontvalign, html_output_format, inset_subplots, label, layout, left_margin, legend_background_color, legend_font_color, legend_font_family, legend_font_halign, legend_font_pointsize, legend_font_rotation, legend_font_valign, legend_foreground_color, legend_position, legend_title, levels, lims, line_z, linealpha, linecolor, linestyle, linewidth, link, margin, marker_z, markeralpha, markercolor, markershape, markersize, markerstrokealpha, markerstrokecolor, markerstrokewidth, normalize, orientation, overwrite_figure, permute, polar, primary, projection, quiver, ribbon, right_margin, scale, series_annotations, seriesalpha, seriescolor, seriestype, show, show_empty_bins, size, smooth, subplot, subplot_index, tick_direction, tickfontcolor, tickfontfamily, tickfonthalign, tickfontrotation, tickfontsize, tickfontvalign, ticks, title, titlefontcolor, titlefontfamily, titlefonthalign, titlefontrotation, titlefontsize, titlefontvalign, top_margin, weights, window_title, x, xdiscrete_values, xerror, xflip, xforeground_color_axis, xforeground_color_border, xforeground_color_grid, xforeground_color_text, xgrid, xgridalpha, xgridlinewidth, xgridstyle, xguide, xguidefontcolor, xguidefontfamily, xguidefonthalign, xguidefontrotation, xguidefontsize, xguidefontvalign, xlims, xlink, xscale, xtick_direction, xtickfontcolor, xtickfontfamily, xtickfonthalign, xtickfontrotation, xtickfontsize, xtickfontvalign, xticks, y, ydiscrete_values, yerror, yflip, yforeground_color_axis, yforeground_color_border, yforeground_color_grid, yforeground_color_text, ygrid, ygridalpha, ygridlinewidth, ygridstyle, yguide, yguidefontcolor, yguidefontfamily, yguidefonthalign, yguidefontrotation, yguidefontsize, yguidefontvalign, ylims, ylink, yscale, ytick_direction, ytickfontcolor, ytickfontfamily, ytickfonthalign, ytickfontrotation, ytickfontsize, ytickfontvalign, yticks, z, z_order, zdiscrete_values, zerror, zflip, zforeground_color_axis, zforeground_color_border, zforeground_color_grid, zforeground_color_text, zgrid, zgridalpha, zgridlinewidth, zgridstyle, zguide, zguidefontcolor, zguidefontfamily, zguidefonthalign, zguidefontrotation, zguidefontsize, zguidefontvalign, zlims, zlink, zscale, ztick_direction, ztickfontcolor, ztickfontfamily, ztickfonthalign, ztickfontrotation, ztickfontsize, ztickfontvalign, zticks\n",
      "\u001b[33m\u001b[1m└ \u001b[22m\u001b[39m\u001b[90m@ Plots C:\\Users\\pzoch.GRAPERS\\.julia\\packages\\Plots\\AAjgN\\src\\args.jl:1637\u001b[39m\n",
      "\u001b[33m\u001b[1m┌ \u001b[22m\u001b[39m\u001b[33m\u001b[1mWarning: \u001b[22m\u001b[39mKeyword argument zwiden not supported with Plots.GRBackend().  Choose from: annotations, arrow, aspect_ratio, background_color, background_color_inside, background_color_outside, background_color_subplot, bar_width, bins, bottom_margin, camera, clims, color_palette, colorbar, colorbar_entry, colorbar_scale, colorbar_title, connections, contour_labels, discrete_values, fill_z, fillalpha, fillcolor, fillrange, fillstyle, flip, foreground_color, foreground_color_axis, foreground_color_border, foreground_color_grid, foreground_color_subplot, foreground_color_text, framestyle, grid, gridalpha, gridlinewidth, gridstyle, group, guide, guidefontcolor, guidefontfamily, guidefonthalign, guidefontrotation, guidefontsize, guidefontvalign, html_output_format, inset_subplots, label, layout, left_margin, legend_background_color, legend_font_color, legend_font_family, legend_font_halign, legend_font_pointsize, legend_font_rotation, legend_font_valign, legend_foreground_color, legend_position, legend_title, levels, lims, line_z, linealpha, linecolor, linestyle, linewidth, link, margin, marker_z, markeralpha, markercolor, markershape, markersize, markerstrokealpha, markerstrokecolor, markerstrokewidth, normalize, orientation, overwrite_figure, permute, polar, primary, projection, quiver, ribbon, right_margin, scale, series_annotations, seriesalpha, seriescolor, seriestype, show, show_empty_bins, size, smooth, subplot, subplot_index, tick_direction, tickfontcolor, tickfontfamily, tickfonthalign, tickfontrotation, tickfontsize, tickfontvalign, ticks, title, titlefontcolor, titlefontfamily, titlefonthalign, titlefontrotation, titlefontsize, titlefontvalign, top_margin, weights, window_title, x, xdiscrete_values, xerror, xflip, xforeground_color_axis, xforeground_color_border, xforeground_color_grid, xforeground_color_text, xgrid, xgridalpha, xgridlinewidth, xgridstyle, xguide, xguidefontcolor, xguidefontfamily, xguidefonthalign, xguidefontrotation, xguidefontsize, xguidefontvalign, xlims, xlink, xscale, xtick_direction, xtickfontcolor, xtickfontfamily, xtickfonthalign, xtickfontrotation, xtickfontsize, xtickfontvalign, xticks, y, ydiscrete_values, yerror, yflip, yforeground_color_axis, yforeground_color_border, yforeground_color_grid, yforeground_color_text, ygrid, ygridalpha, ygridlinewidth, ygridstyle, yguide, yguidefontcolor, yguidefontfamily, yguidefonthalign, yguidefontrotation, yguidefontsize, yguidefontvalign, ylims, ylink, yscale, ytick_direction, ytickfontcolor, ytickfontfamily, ytickfonthalign, ytickfontrotation, ytickfontsize, ytickfontvalign, yticks, z, z_order, zdiscrete_values, zerror, zflip, zforeground_color_axis, zforeground_color_border, zforeground_color_grid, zforeground_color_text, zgrid, zgridalpha, zgridlinewidth, zgridstyle, zguide, zguidefontcolor, zguidefontfamily, zguidefonthalign, zguidefontrotation, zguidefontsize, zguidefontvalign, zlims, zlink, zscale, ztick_direction, ztickfontcolor, ztickfontfamily, ztickfonthalign, ztickfontrotation, ztickfontsize, ztickfontvalign, zticks\n",
      "\u001b[33m\u001b[1m└ \u001b[22m\u001b[39m\u001b[90m@ Plots C:\\Users\\pzoch.GRAPERS\\.julia\\packages\\Plots\\AAjgN\\src\\args.jl:1637\u001b[39m\n"
     ]
    },
    {
     "data": {
      "image/svg+xml": "<?xml version=\"1.0\" encoding=\"utf-8\"?>\n<svg xmlns=\"http://www.w3.org/2000/svg\" xmlns:xlink=\"http://www.w3.org/1999/xlink\" width=\"600\" height=\"400\" viewBox=\"0 0 2400 1600\">\n<defs>\n  <clipPath id=\"clip560\">\n    <rect x=\"0\" y=\"0\" width=\"2400\" height=\"1600\"/>\n  </clipPath>\n</defs>\n<path clip-path=\"url(#clip560)\" d=\"\nM0 1600 L2400 1600 L2400 0 L0 0  Z\n  \" fill=\"#ffffff\" fill-rule=\"evenodd\" fill-opacity=\"1\"/>\n<defs>\n  <clipPath id=\"clip561\">\n    <rect x=\"480\" y=\"0\" width=\"1681\" height=\"1600\"/>\n  </clipPath>\n</defs>\n<path clip-path=\"url(#clip560)\" d=\"\nM186.274 1486.45 L2352.76 1486.45 L2352.76 47.2441 L186.274 47.2441  Z\n  \" fill=\"#ffffff\" fill-rule=\"evenodd\" fill-opacity=\"1\"/>\n<defs>\n  <clipPath id=\"clip562\">\n    <rect x=\"186\" y=\"47\" width=\"2167\" height=\"1440\"/>\n  </clipPath>\n</defs>\n<polyline clip-path=\"url(#clip562)\" style=\"stroke:#000000; stroke-linecap:round; stroke-linejoin:round; stroke-width:2; stroke-opacity:0.1; fill:none\" points=\"\n  247.59,1486.45 247.59,47.2441 \n  \"/>\n<polyline clip-path=\"url(#clip562)\" style=\"stroke:#000000; stroke-linecap:round; stroke-linejoin:round; stroke-width:2; stroke-opacity:0.1; fill:none\" points=\"\n  898.167,1486.45 898.167,47.2441 \n  \"/>\n<polyline clip-path=\"url(#clip562)\" style=\"stroke:#000000; stroke-linecap:round; stroke-linejoin:round; stroke-width:2; stroke-opacity:0.1; fill:none\" points=\"\n  1548.75,1486.45 1548.75,47.2441 \n  \"/>\n<polyline clip-path=\"url(#clip562)\" style=\"stroke:#000000; stroke-linecap:round; stroke-linejoin:round; stroke-width:2; stroke-opacity:0.1; fill:none\" points=\"\n  2199.32,1486.45 2199.32,47.2441 \n  \"/>\n<polyline clip-path=\"url(#clip560)\" style=\"stroke:#000000; stroke-linecap:round; stroke-linejoin:round; stroke-width:4; stroke-opacity:1; fill:none\" points=\"\n  186.274,1486.45 2352.76,1486.45 \n  \"/>\n<polyline clip-path=\"url(#clip560)\" style=\"stroke:#000000; stroke-linecap:round; stroke-linejoin:round; stroke-width:4; stroke-opacity:1; fill:none\" points=\"\n  247.59,1486.45 247.59,1467.55 \n  \"/>\n<polyline clip-path=\"url(#clip560)\" style=\"stroke:#000000; stroke-linecap:round; stroke-linejoin:round; stroke-width:4; stroke-opacity:1; fill:none\" points=\"\n  898.167,1486.45 898.167,1467.55 \n  \"/>\n<polyline clip-path=\"url(#clip560)\" style=\"stroke:#000000; stroke-linecap:round; stroke-linejoin:round; stroke-width:4; stroke-opacity:1; fill:none\" points=\"\n  1548.75,1486.45 1548.75,1467.55 \n  \"/>\n<polyline clip-path=\"url(#clip560)\" style=\"stroke:#000000; stroke-linecap:round; stroke-linejoin:round; stroke-width:4; stroke-opacity:1; fill:none\" points=\"\n  2199.32,1486.45 2199.32,1467.55 \n  \"/>\n<path clip-path=\"url(#clip560)\" d=\"M247.59 1517.37 Q243.978 1517.37 242.15 1520.93 Q240.344 1524.47 240.344 1531.6 Q240.344 1538.71 242.15 1542.27 Q243.978 1545.82 247.59 1545.82 Q251.224 1545.82 253.029 1542.27 Q254.858 1538.71 254.858 1531.6 Q254.858 1524.47 253.029 1520.93 Q251.224 1517.37 247.59 1517.37 M247.59 1513.66 Q253.4 1513.66 256.455 1518.27 Q259.534 1522.85 259.534 1531.6 Q259.534 1540.33 256.455 1544.94 Q253.4 1549.52 247.59 1549.52 Q241.779 1549.52 238.701 1544.94 Q235.645 1540.33 235.645 1531.6 Q235.645 1522.85 238.701 1518.27 Q241.779 1513.66 247.59 1513.66 Z\" fill=\"#000000\" fill-rule=\"evenodd\" fill-opacity=\"1\" /><path clip-path=\"url(#clip560)\" d=\"M888.549 1544.91 L896.188 1544.91 L896.188 1518.55 L887.878 1520.21 L887.878 1515.95 L896.142 1514.29 L900.818 1514.29 L900.818 1544.91 L908.457 1544.91 L908.457 1548.85 L888.549 1548.85 L888.549 1544.91 Z\" fill=\"#000000\" fill-rule=\"evenodd\" fill-opacity=\"1\" /><path clip-path=\"url(#clip560)\" d=\"M1543.4 1544.91 L1559.72 1544.91 L1559.72 1548.85 L1537.77 1548.85 L1537.77 1544.91 Q1540.44 1542.16 1545.02 1537.53 Q1549.63 1532.88 1550.81 1531.53 Q1553.05 1529.01 1553.93 1527.27 Q1554.83 1525.51 1554.83 1523.82 Q1554.83 1521.07 1552.89 1519.33 Q1550.97 1517.6 1547.87 1517.6 Q1545.67 1517.6 1543.21 1518.36 Q1540.78 1519.13 1538 1520.68 L1538 1515.95 Q1540.83 1514.82 1543.28 1514.24 Q1545.74 1513.66 1547.77 1513.66 Q1553.14 1513.66 1556.34 1516.35 Q1559.53 1519.03 1559.53 1523.52 Q1559.53 1525.65 1558.72 1527.57 Q1557.94 1529.47 1555.83 1532.07 Q1555.25 1532.74 1552.15 1535.95 Q1549.05 1539.15 1543.4 1544.91 Z\" fill=\"#000000\" fill-rule=\"evenodd\" fill-opacity=\"1\" /><path clip-path=\"url(#clip560)\" d=\"M2203.57 1530.21 Q2206.93 1530.93 2208.8 1533.2 Q2210.7 1535.47 2210.7 1538.8 Q2210.7 1543.92 2207.18 1546.72 Q2203.66 1549.52 2197.18 1549.52 Q2195.01 1549.52 2192.69 1549.08 Q2190.4 1548.66 2187.95 1547.81 L2187.95 1543.29 Q2189.89 1544.43 2192.21 1545.01 Q2194.52 1545.58 2197.04 1545.58 Q2201.44 1545.58 2203.73 1543.85 Q2206.05 1542.11 2206.05 1538.8 Q2206.05 1535.75 2203.9 1534.03 Q2201.77 1532.3 2197.95 1532.3 L2193.92 1532.3 L2193.92 1528.45 L2198.13 1528.45 Q2201.58 1528.45 2203.41 1527.09 Q2205.24 1525.7 2205.24 1523.11 Q2205.24 1520.45 2203.34 1519.03 Q2201.46 1517.6 2197.95 1517.6 Q2196.02 1517.6 2193.83 1518.01 Q2191.63 1518.43 2188.99 1519.31 L2188.99 1515.14 Q2191.65 1514.4 2193.96 1514.03 Q2196.3 1513.66 2198.36 1513.66 Q2203.69 1513.66 2206.79 1516.09 Q2209.89 1518.5 2209.89 1522.62 Q2209.89 1525.49 2208.25 1527.48 Q2206.6 1529.45 2203.57 1530.21 Z\" fill=\"#000000\" fill-rule=\"evenodd\" fill-opacity=\"1\" /><polyline clip-path=\"url(#clip562)\" style=\"stroke:#000000; stroke-linecap:round; stroke-linejoin:round; stroke-width:2; stroke-opacity:0.1; fill:none\" points=\"\n  186.274,1445.72 2352.76,1445.72 \n  \"/>\n<polyline clip-path=\"url(#clip562)\" style=\"stroke:#000000; stroke-linecap:round; stroke-linejoin:round; stroke-width:2; stroke-opacity:0.1; fill:none\" points=\"\n  186.274,1106.28 2352.76,1106.28 \n  \"/>\n<polyline clip-path=\"url(#clip562)\" style=\"stroke:#000000; stroke-linecap:round; stroke-linejoin:round; stroke-width:2; stroke-opacity:0.1; fill:none\" points=\"\n  186.274,766.846 2352.76,766.846 \n  \"/>\n<polyline clip-path=\"url(#clip562)\" style=\"stroke:#000000; stroke-linecap:round; stroke-linejoin:round; stroke-width:2; stroke-opacity:0.1; fill:none\" points=\"\n  186.274,427.411 2352.76,427.411 \n  \"/>\n<polyline clip-path=\"url(#clip562)\" style=\"stroke:#000000; stroke-linecap:round; stroke-linejoin:round; stroke-width:2; stroke-opacity:0.1; fill:none\" points=\"\n  186.274,87.9763 2352.76,87.9763 \n  \"/>\n<polyline clip-path=\"url(#clip560)\" style=\"stroke:#000000; stroke-linecap:round; stroke-linejoin:round; stroke-width:4; stroke-opacity:1; fill:none\" points=\"\n  186.274,1486.45 186.274,47.2441 \n  \"/>\n<polyline clip-path=\"url(#clip560)\" style=\"stroke:#000000; stroke-linecap:round; stroke-linejoin:round; stroke-width:4; stroke-opacity:1; fill:none\" points=\"\n  186.274,1445.72 205.172,1445.72 \n  \"/>\n<polyline clip-path=\"url(#clip560)\" style=\"stroke:#000000; stroke-linecap:round; stroke-linejoin:round; stroke-width:4; stroke-opacity:1; fill:none\" points=\"\n  186.274,1106.28 205.172,1106.28 \n  \"/>\n<polyline clip-path=\"url(#clip560)\" style=\"stroke:#000000; stroke-linecap:round; stroke-linejoin:round; stroke-width:4; stroke-opacity:1; fill:none\" points=\"\n  186.274,766.846 205.172,766.846 \n  \"/>\n<polyline clip-path=\"url(#clip560)\" style=\"stroke:#000000; stroke-linecap:round; stroke-linejoin:round; stroke-width:4; stroke-opacity:1; fill:none\" points=\"\n  186.274,427.411 205.172,427.411 \n  \"/>\n<polyline clip-path=\"url(#clip560)\" style=\"stroke:#000000; stroke-linecap:round; stroke-linejoin:round; stroke-width:4; stroke-opacity:1; fill:none\" points=\"\n  186.274,87.9763 205.172,87.9763 \n  \"/>\n<path clip-path=\"url(#clip560)\" d=\"M62.9365 1431.51 Q59.3254 1431.51 57.4967 1435.08 Q55.6912 1438.62 55.6912 1445.75 Q55.6912 1452.86 57.4967 1456.42 Q59.3254 1459.96 62.9365 1459.96 Q66.5707 1459.96 68.3763 1456.42 Q70.205 1452.86 70.205 1445.75 Q70.205 1438.62 68.3763 1435.08 Q66.5707 1431.51 62.9365 1431.51 M62.9365 1427.81 Q68.7467 1427.81 71.8022 1432.42 Q74.8809 1437 74.8809 1445.75 Q74.8809 1454.48 71.8022 1459.08 Q68.7467 1463.67 62.9365 1463.67 Q57.1264 1463.67 54.0477 1459.08 Q50.9921 1454.48 50.9921 1445.75 Q50.9921 1437 54.0477 1432.42 Q57.1264 1427.81 62.9365 1427.81 Z\" fill=\"#000000\" fill-rule=\"evenodd\" fill-opacity=\"1\" /><path clip-path=\"url(#clip560)\" d=\"M83.0984 1457.12 L87.9827 1457.12 L87.9827 1463 L83.0984 1463 L83.0984 1457.12 Z\" fill=\"#000000\" fill-rule=\"evenodd\" fill-opacity=\"1\" /><path clip-path=\"url(#clip560)\" d=\"M108.168 1431.51 Q104.557 1431.51 102.728 1435.08 Q100.922 1438.62 100.922 1445.75 Q100.922 1452.86 102.728 1456.42 Q104.557 1459.96 108.168 1459.96 Q111.802 1459.96 113.608 1456.42 Q115.436 1452.86 115.436 1445.75 Q115.436 1438.62 113.608 1435.08 Q111.802 1431.51 108.168 1431.51 M108.168 1427.81 Q113.978 1427.81 117.033 1432.42 Q120.112 1437 120.112 1445.75 Q120.112 1454.48 117.033 1459.08 Q113.978 1463.67 108.168 1463.67 Q102.358 1463.67 99.2789 1459.08 Q96.2234 1454.48 96.2234 1445.75 Q96.2234 1437 99.2789 1432.42 Q102.358 1427.81 108.168 1427.81 Z\" fill=\"#000000\" fill-rule=\"evenodd\" fill-opacity=\"1\" /><path clip-path=\"url(#clip560)\" d=\"M138.33 1431.51 Q134.719 1431.51 132.89 1435.08 Q131.084 1438.62 131.084 1445.75 Q131.084 1452.86 132.89 1456.42 Q134.719 1459.96 138.33 1459.96 Q141.964 1459.96 143.769 1456.42 Q145.598 1452.86 145.598 1445.75 Q145.598 1438.62 143.769 1435.08 Q141.964 1431.51 138.33 1431.51 M138.33 1427.81 Q144.14 1427.81 147.195 1432.42 Q150.274 1437 150.274 1445.75 Q150.274 1454.48 147.195 1459.08 Q144.14 1463.67 138.33 1463.67 Q132.519 1463.67 129.441 1459.08 Q126.385 1454.48 126.385 1445.75 Q126.385 1437 129.441 1432.42 Q132.519 1427.81 138.33 1427.81 Z\" fill=\"#000000\" fill-rule=\"evenodd\" fill-opacity=\"1\" /><path clip-path=\"url(#clip560)\" d=\"M63.9319 1092.08 Q60.3208 1092.08 58.4921 1095.64 Q56.6865 1099.19 56.6865 1106.32 Q56.6865 1113.42 58.4921 1116.99 Q60.3208 1120.53 63.9319 1120.53 Q67.5661 1120.53 69.3717 1116.99 Q71.2004 1113.42 71.2004 1106.32 Q71.2004 1099.19 69.3717 1095.64 Q67.5661 1092.08 63.9319 1092.08 M63.9319 1088.38 Q69.742 1088.38 72.7976 1092.98 Q75.8763 1097.57 75.8763 1106.32 Q75.8763 1115.04 72.7976 1119.65 Q69.742 1124.23 63.9319 1124.23 Q58.1217 1124.23 55.043 1119.65 Q51.9875 1115.04 51.9875 1106.32 Q51.9875 1097.57 55.043 1092.98 Q58.1217 1088.38 63.9319 1088.38 Z\" fill=\"#000000\" fill-rule=\"evenodd\" fill-opacity=\"1\" /><path clip-path=\"url(#clip560)\" d=\"M84.0938 1117.68 L88.978 1117.68 L88.978 1123.56 L84.0938 1123.56 L84.0938 1117.68 Z\" fill=\"#000000\" fill-rule=\"evenodd\" fill-opacity=\"1\" /><path clip-path=\"url(#clip560)\" d=\"M103.191 1119.63 L119.51 1119.63 L119.51 1123.56 L97.566 1123.56 L97.566 1119.63 Q100.228 1116.87 104.811 1112.24 Q109.418 1107.59 110.598 1106.25 Q112.844 1103.72 113.723 1101.99 Q114.626 1100.23 114.626 1098.54 Q114.626 1095.78 112.682 1094.05 Q110.76 1092.31 107.658 1092.31 Q105.459 1092.31 103.006 1093.07 Q100.575 1093.84 97.7974 1095.39 L97.7974 1090.67 Q100.621 1089.53 103.075 1088.95 Q105.529 1088.38 107.566 1088.38 Q112.936 1088.38 116.131 1091.06 Q119.325 1093.75 119.325 1098.24 Q119.325 1100.37 118.515 1102.29 Q117.728 1104.19 115.621 1106.78 Q115.043 1107.45 111.941 1110.67 Q108.839 1113.86 103.191 1119.63 Z\" fill=\"#000000\" fill-rule=\"evenodd\" fill-opacity=\"1\" /><path clip-path=\"url(#clip560)\" d=\"M129.371 1089 L147.728 1089 L147.728 1092.94 L133.654 1092.94 L133.654 1101.41 Q134.672 1101.06 135.691 1100.9 Q136.709 1100.71 137.728 1100.71 Q143.515 1100.71 146.894 1103.89 Q150.274 1107.06 150.274 1112.47 Q150.274 1118.05 146.802 1121.15 Q143.33 1124.23 137.01 1124.23 Q134.834 1124.23 132.566 1123.86 Q130.32 1123.49 127.913 1122.75 L127.913 1118.05 Q129.996 1119.19 132.219 1119.74 Q134.441 1120.3 136.918 1120.3 Q140.922 1120.3 143.26 1118.19 Q145.598 1116.08 145.598 1112.47 Q145.598 1108.86 143.26 1106.76 Q140.922 1104.65 136.918 1104.65 Q135.043 1104.65 133.168 1105.07 Q131.316 1105.48 129.371 1106.36 L129.371 1089 Z\" fill=\"#000000\" fill-rule=\"evenodd\" fill-opacity=\"1\" /><path clip-path=\"url(#clip560)\" d=\"M62.9365 752.645 Q59.3254 752.645 57.4967 756.209 Q55.6912 759.751 55.6912 766.881 Q55.6912 773.987 57.4967 777.552 Q59.3254 781.094 62.9365 781.094 Q66.5707 781.094 68.3763 777.552 Q70.205 773.987 70.205 766.881 Q70.205 759.751 68.3763 756.209 Q66.5707 752.645 62.9365 752.645 M62.9365 748.941 Q68.7467 748.941 71.8022 753.547 Q74.8809 758.131 74.8809 766.881 Q74.8809 775.608 71.8022 780.214 Q68.7467 784.797 62.9365 784.797 Q57.1264 784.797 54.0477 780.214 Q50.9921 775.608 50.9921 766.881 Q50.9921 758.131 54.0477 753.547 Q57.1264 748.941 62.9365 748.941 Z\" fill=\"#000000\" fill-rule=\"evenodd\" fill-opacity=\"1\" /><path clip-path=\"url(#clip560)\" d=\"M83.0984 778.246 L87.9827 778.246 L87.9827 784.126 L83.0984 784.126 L83.0984 778.246 Z\" fill=\"#000000\" fill-rule=\"evenodd\" fill-opacity=\"1\" /><path clip-path=\"url(#clip560)\" d=\"M98.2141 749.566 L116.57 749.566 L116.57 753.501 L102.496 753.501 L102.496 761.973 Q103.515 761.626 104.534 761.464 Q105.552 761.279 106.571 761.279 Q112.358 761.279 115.737 764.45 Q119.117 767.621 119.117 773.038 Q119.117 778.617 115.645 781.719 Q112.172 784.797 105.853 784.797 Q103.677 784.797 101.409 784.427 Q99.1632 784.057 96.7558 783.316 L96.7558 778.617 Q98.8391 779.751 101.061 780.307 Q103.284 780.862 105.76 780.862 Q109.765 780.862 112.103 778.756 Q114.441 776.649 114.441 773.038 Q114.441 769.427 112.103 767.321 Q109.765 765.214 105.76 765.214 Q103.885 765.214 102.01 765.631 Q100.159 766.047 98.2141 766.927 L98.2141 749.566 Z\" fill=\"#000000\" fill-rule=\"evenodd\" fill-opacity=\"1\" /><path clip-path=\"url(#clip560)\" d=\"M138.33 752.645 Q134.719 752.645 132.89 756.209 Q131.084 759.751 131.084 766.881 Q131.084 773.987 132.89 777.552 Q134.719 781.094 138.33 781.094 Q141.964 781.094 143.769 777.552 Q145.598 773.987 145.598 766.881 Q145.598 759.751 143.769 756.209 Q141.964 752.645 138.33 752.645 M138.33 748.941 Q144.14 748.941 147.195 753.547 Q150.274 758.131 150.274 766.881 Q150.274 775.608 147.195 780.214 Q144.14 784.797 138.33 784.797 Q132.519 784.797 129.441 780.214 Q126.385 775.608 126.385 766.881 Q126.385 758.131 129.441 753.547 Q132.519 748.941 138.33 748.941 Z\" fill=\"#000000\" fill-rule=\"evenodd\" fill-opacity=\"1\" /><path clip-path=\"url(#clip560)\" d=\"M63.9319 413.21 Q60.3208 413.21 58.4921 416.775 Q56.6865 420.316 56.6865 427.446 Q56.6865 434.552 58.4921 438.117 Q60.3208 441.659 63.9319 441.659 Q67.5661 441.659 69.3717 438.117 Q71.2004 434.552 71.2004 427.446 Q71.2004 420.316 69.3717 416.775 Q67.5661 413.21 63.9319 413.21 M63.9319 409.506 Q69.742 409.506 72.7976 414.113 Q75.8763 418.696 75.8763 427.446 Q75.8763 436.173 72.7976 440.779 Q69.742 445.362 63.9319 445.362 Q58.1217 445.362 55.043 440.779 Q51.9875 436.173 51.9875 427.446 Q51.9875 418.696 55.043 414.113 Q58.1217 409.506 63.9319 409.506 Z\" fill=\"#000000\" fill-rule=\"evenodd\" fill-opacity=\"1\" /><path clip-path=\"url(#clip560)\" d=\"M84.0938 438.812 L88.978 438.812 L88.978 444.691 L84.0938 444.691 L84.0938 438.812 Z\" fill=\"#000000\" fill-rule=\"evenodd\" fill-opacity=\"1\" /><path clip-path=\"url(#clip560)\" d=\"M97.9826 410.131 L120.205 410.131 L120.205 412.122 L107.658 444.691 L102.774 444.691 L114.58 414.066 L97.9826 414.066 L97.9826 410.131 Z\" fill=\"#000000\" fill-rule=\"evenodd\" fill-opacity=\"1\" /><path clip-path=\"url(#clip560)\" d=\"M129.371 410.131 L147.728 410.131 L147.728 414.066 L133.654 414.066 L133.654 422.538 Q134.672 422.191 135.691 422.029 Q136.709 421.844 137.728 421.844 Q143.515 421.844 146.894 425.015 Q150.274 428.187 150.274 433.603 Q150.274 439.182 146.802 442.284 Q143.33 445.362 137.01 445.362 Q134.834 445.362 132.566 444.992 Q130.32 444.622 127.913 443.881 L127.913 439.182 Q129.996 440.316 132.219 440.872 Q134.441 441.427 136.918 441.427 Q140.922 441.427 143.26 439.321 Q145.598 437.214 145.598 433.603 Q145.598 429.992 143.26 427.886 Q140.922 425.779 136.918 425.779 Q135.043 425.779 133.168 426.196 Q131.316 426.613 129.371 427.492 L129.371 410.131 Z\" fill=\"#000000\" fill-rule=\"evenodd\" fill-opacity=\"1\" /><path clip-path=\"url(#clip560)\" d=\"M53.7467 101.321 L61.3856 101.321 L61.3856 74.9555 L53.0754 76.6222 L53.0754 72.3629 L61.3393 70.6963 L66.0152 70.6963 L66.0152 101.321 L73.654 101.321 L73.654 105.256 L53.7467 105.256 L53.7467 101.321 Z\" fill=\"#000000\" fill-rule=\"evenodd\" fill-opacity=\"1\" /><path clip-path=\"url(#clip560)\" d=\"M83.0984 99.3767 L87.9827 99.3767 L87.9827 105.256 L83.0984 105.256 L83.0984 99.3767 Z\" fill=\"#000000\" fill-rule=\"evenodd\" fill-opacity=\"1\" /><path clip-path=\"url(#clip560)\" d=\"M108.168 73.775 Q104.557 73.775 102.728 77.3398 Q100.922 80.8814 100.922 88.011 Q100.922 95.1174 102.728 98.6822 Q104.557 102.224 108.168 102.224 Q111.802 102.224 113.608 98.6822 Q115.436 95.1174 115.436 88.011 Q115.436 80.8814 113.608 77.3398 Q111.802 73.775 108.168 73.775 M108.168 70.0713 Q113.978 70.0713 117.033 74.6777 Q120.112 79.261 120.112 88.011 Q120.112 96.7378 117.033 101.344 Q113.978 105.928 108.168 105.928 Q102.358 105.928 99.2789 101.344 Q96.2234 96.7378 96.2234 88.011 Q96.2234 79.261 99.2789 74.6777 Q102.358 70.0713 108.168 70.0713 Z\" fill=\"#000000\" fill-rule=\"evenodd\" fill-opacity=\"1\" /><path clip-path=\"url(#clip560)\" d=\"M138.33 73.775 Q134.719 73.775 132.89 77.3398 Q131.084 80.8814 131.084 88.011 Q131.084 95.1174 132.89 98.6822 Q134.719 102.224 138.33 102.224 Q141.964 102.224 143.769 98.6822 Q145.598 95.1174 145.598 88.011 Q145.598 80.8814 143.769 77.3398 Q141.964 73.775 138.33 73.775 M138.33 70.0713 Q144.14 70.0713 147.195 74.6777 Q150.274 79.261 150.274 88.011 Q150.274 96.7378 147.195 101.344 Q144.14 105.928 138.33 105.928 Q132.519 105.928 129.441 101.344 Q126.385 96.7378 126.385 88.011 Q126.385 79.261 129.441 74.6777 Q132.519 70.0713 138.33 70.0713 Z\" fill=\"#000000\" fill-rule=\"evenodd\" fill-opacity=\"1\" /><polyline clip-path=\"url(#clip562)\" style=\"stroke:#009af9; stroke-linecap:round; stroke-linejoin:round; stroke-width:4; stroke-opacity:1; fill:none\" points=\"\n  247.59,1445.72 758.552,485.649 1269.51,87.9763 1780.48,485.649 2291.44,1445.72 \n  \"/>\n<path clip-path=\"url(#clip560)\" d=\"\nM1987.39 198.898 L2280.54 198.898 L2280.54 95.2176 L1987.39 95.2176  Z\n  \" fill=\"#ffffff\" fill-rule=\"evenodd\" fill-opacity=\"1\"/>\n<polyline clip-path=\"url(#clip560)\" style=\"stroke:#000000; stroke-linecap:round; stroke-linejoin:round; stroke-width:4; stroke-opacity:1; fill:none\" points=\"\n  1987.39,198.898 2280.54,198.898 2280.54,95.2176 1987.39,95.2176 1987.39,198.898 \n  \"/>\n<polyline clip-path=\"url(#clip560)\" style=\"stroke:#009af9; stroke-linecap:round; stroke-linejoin:round; stroke-width:4; stroke-opacity:1; fill:none\" points=\"\n  2011.46,147.058 2155.89,147.058 \n  \"/>\n<path clip-path=\"url(#clip560)\" d=\"M2193.81 166.745 Q2192 171.375 2190.29 172.787 Q2188.58 174.199 2185.71 174.199 L2182.3 174.199 L2182.3 170.634 L2184.8 170.634 Q2186.56 170.634 2187.53 169.8 Q2188.51 168.967 2189.69 165.865 L2190.45 163.921 L2179.97 138.412 L2184.48 138.412 L2192.58 158.689 L2200.68 138.412 L2205.2 138.412 L2193.81 166.745 Z\" fill=\"#000000\" fill-rule=\"evenodd\" fill-opacity=\"1\" /><path clip-path=\"url(#clip560)\" d=\"M2212.49 160.402 L2220.13 160.402 L2220.13 134.037 L2211.82 135.703 L2211.82 131.444 L2220.08 129.778 L2224.76 129.778 L2224.76 160.402 L2232.4 160.402 L2232.4 164.338 L2212.49 164.338 L2212.49 160.402 Z\" fill=\"#000000\" fill-rule=\"evenodd\" fill-opacity=\"1\" /></svg>\n"
     },
     "metadata": {},
     "output_type": "display_data"
    }
   ],
   "source": [
    "# our first package! - you need to add it first\n",
    "using Plots\n",
    "\n",
    "function my_sine_plot(x)\n",
    "    y = sin.(x)\n",
    "    display(plot(x, y))\n",
    "end\n",
    "\n",
    "my_sine_plot([0,π/4,π/2,3π/4,π])\n",
    "\n"
   ]
  },
  {
   "cell_type": "code",
   "execution_count": null,
   "metadata": {},
   "outputs": [],
   "source": [
    "# loops\n",
    "\n",
    "x = 1\n",
    "\n",
    "while x < 10 \n",
    "    x = x + 1\n",
    "    y = x ^ 2 \n",
    "end\n",
    "\n",
    "y"
   ]
  },
  {
   "cell_type": "code",
   "execution_count": null,
   "metadata": {},
   "outputs": [],
   "source": [
    "A = zeros(20,20)\n",
    "for i = 1:20\n",
    "    for j = 1:20\n",
    "    A[i,j] = i ^ 2 - j\n",
    "    end\n",
    "end\n",
    "A"
   ]
  },
  {
   "cell_type": "code",
   "execution_count": null,
   "metadata": {},
   "outputs": [],
   "source": [
    "B = zeros(10,5)\n",
    "for j = 1:5\n",
    "for i = 1:10\n",
    "    if i < 5\n",
    "        B[i,j] = i \n",
    "    else \n",
    "        B[i,j] = i ^ 2\n",
    "    end\n",
    "end\n",
    "end\n",
    "\n",
    "B"
   ]
  },
  {
   "cell_type": "code",
   "execution_count": null,
   "metadata": {},
   "outputs": [],
   "source": [
    "dogs = (\"pug\",\"husky\",\"bulldog\",\"corgi\",\"shiba inu\")\n",
    "for i in eachindex(dogs)\n",
    "    println(\"This is a dog: \", dogs[i])\n",
    "end\n"
   ]
  },
  {
   "cell_type": "code",
   "execution_count": null,
   "metadata": {},
   "outputs": [
    {
     "data": {
      "image/svg+xml": "<?xml version=\"1.0\" encoding=\"utf-8\"?>\n<svg xmlns=\"http://www.w3.org/2000/svg\" xmlns:xlink=\"http://www.w3.org/1999/xlink\" width=\"600\" height=\"400\" viewBox=\"0 0 2400 1600\">\n<defs>\n  <clipPath id=\"clip150\">\n    <rect x=\"0\" y=\"0\" width=\"2400\" height=\"1600\"/>\n  </clipPath>\n</defs>\n<path clip-path=\"url(#clip150)\" d=\"\nM0 1600 L2400 1600 L2400 0 L0 0  Z\n  \" fill=\"#ffffff\" fill-rule=\"evenodd\" fill-opacity=\"1\"/>\n<defs>\n  <clipPath id=\"clip151\">\n    <rect x=\"480\" y=\"0\" width=\"1681\" height=\"1600\"/>\n  </clipPath>\n</defs>\n<path clip-path=\"url(#clip150)\" d=\"\nM138.959 1486.45 L2352.76 1486.45 L2352.76 47.2441 L138.959 47.2441  Z\n  \" fill=\"#ffffff\" fill-rule=\"evenodd\" fill-opacity=\"1\"/>\n<defs>\n  <clipPath id=\"clip152\">\n    <rect x=\"138\" y=\"47\" width=\"2215\" height=\"1440\"/>\n  </clipPath>\n</defs>\n<polyline clip-path=\"url(#clip152)\" style=\"stroke:#000000; stroke-linecap:round; stroke-linejoin:round; stroke-width:2; stroke-opacity:0.1; fill:none\" points=\"\n  196.34,1486.45 196.34,47.2441 \n  \"/>\n<polyline clip-path=\"url(#clip152)\" style=\"stroke:#000000; stroke-linecap:round; stroke-linejoin:round; stroke-width:2; stroke-opacity:0.1; fill:none\" points=\"\n  723.736,1486.45 723.736,47.2441 \n  \"/>\n<polyline clip-path=\"url(#clip152)\" style=\"stroke:#000000; stroke-linecap:round; stroke-linejoin:round; stroke-width:2; stroke-opacity:0.1; fill:none\" points=\"\n  1251.13,1486.45 1251.13,47.2441 \n  \"/>\n<polyline clip-path=\"url(#clip152)\" style=\"stroke:#000000; stroke-linecap:round; stroke-linejoin:round; stroke-width:2; stroke-opacity:0.1; fill:none\" points=\"\n  1778.53,1486.45 1778.53,47.2441 \n  \"/>\n<polyline clip-path=\"url(#clip152)\" style=\"stroke:#000000; stroke-linecap:round; stroke-linejoin:round; stroke-width:2; stroke-opacity:0.1; fill:none\" points=\"\n  2305.92,1486.45 2305.92,47.2441 \n  \"/>\n<polyline clip-path=\"url(#clip150)\" style=\"stroke:#000000; stroke-linecap:round; stroke-linejoin:round; stroke-width:4; stroke-opacity:1; fill:none\" points=\"\n  138.959,1486.45 2352.76,1486.45 \n  \"/>\n<polyline clip-path=\"url(#clip150)\" style=\"stroke:#000000; stroke-linecap:round; stroke-linejoin:round; stroke-width:4; stroke-opacity:1; fill:none\" points=\"\n  196.34,1486.45 196.34,1467.55 \n  \"/>\n<polyline clip-path=\"url(#clip150)\" style=\"stroke:#000000; stroke-linecap:round; stroke-linejoin:round; stroke-width:4; stroke-opacity:1; fill:none\" points=\"\n  723.736,1486.45 723.736,1467.55 \n  \"/>\n<polyline clip-path=\"url(#clip150)\" style=\"stroke:#000000; stroke-linecap:round; stroke-linejoin:round; stroke-width:4; stroke-opacity:1; fill:none\" points=\"\n  1251.13,1486.45 1251.13,1467.55 \n  \"/>\n<polyline clip-path=\"url(#clip150)\" style=\"stroke:#000000; stroke-linecap:round; stroke-linejoin:round; stroke-width:4; stroke-opacity:1; fill:none\" points=\"\n  1778.53,1486.45 1778.53,1467.55 \n  \"/>\n<polyline clip-path=\"url(#clip150)\" style=\"stroke:#000000; stroke-linecap:round; stroke-linejoin:round; stroke-width:4; stroke-opacity:1; fill:none\" points=\"\n  2305.92,1486.45 2305.92,1467.55 \n  \"/>\n<path clip-path=\"url(#clip150)\" d=\"M196.34 1517.37 Q192.729 1517.37 190.9 1520.93 Q189.095 1524.47 189.095 1531.6 Q189.095 1538.71 190.9 1542.27 Q192.729 1545.82 196.34 1545.82 Q199.974 1545.82 201.78 1542.27 Q203.609 1538.71 203.609 1531.6 Q203.609 1524.47 201.78 1520.93 Q199.974 1517.37 196.34 1517.37 M196.34 1513.66 Q202.15 1513.66 205.206 1518.27 Q208.284 1522.85 208.284 1531.6 Q208.284 1540.33 205.206 1544.94 Q202.15 1549.52 196.34 1549.52 Q190.53 1549.52 187.451 1544.94 Q184.396 1540.33 184.396 1531.6 Q184.396 1522.85 187.451 1518.27 Q190.53 1513.66 196.34 1513.66 Z\" fill=\"#000000\" fill-rule=\"evenodd\" fill-opacity=\"1\" /><path clip-path=\"url(#clip150)\" d=\"M683.343 1544.91 L690.981 1544.91 L690.981 1518.55 L682.671 1520.21 L682.671 1515.95 L690.935 1514.29 L695.611 1514.29 L695.611 1544.91 L703.25 1544.91 L703.25 1548.85 L683.343 1548.85 L683.343 1544.91 Z\" fill=\"#000000\" fill-rule=\"evenodd\" fill-opacity=\"1\" /><path clip-path=\"url(#clip150)\" d=\"M722.694 1517.37 Q719.083 1517.37 717.254 1520.93 Q715.449 1524.47 715.449 1531.6 Q715.449 1538.71 717.254 1542.27 Q719.083 1545.82 722.694 1545.82 Q726.328 1545.82 728.134 1542.27 Q729.963 1538.71 729.963 1531.6 Q729.963 1524.47 728.134 1520.93 Q726.328 1517.37 722.694 1517.37 M722.694 1513.66 Q728.504 1513.66 731.56 1518.27 Q734.639 1522.85 734.639 1531.6 Q734.639 1540.33 731.56 1544.94 Q728.504 1549.52 722.694 1549.52 Q716.884 1549.52 713.805 1544.94 Q710.75 1540.33 710.75 1531.6 Q710.75 1522.85 713.805 1518.27 Q716.884 1513.66 722.694 1513.66 Z\" fill=\"#000000\" fill-rule=\"evenodd\" fill-opacity=\"1\" /><path clip-path=\"url(#clip150)\" d=\"M752.856 1517.37 Q749.245 1517.37 747.416 1520.93 Q745.611 1524.47 745.611 1531.6 Q745.611 1538.71 747.416 1542.27 Q749.245 1545.82 752.856 1545.82 Q756.49 1545.82 758.296 1542.27 Q760.125 1538.71 760.125 1531.6 Q760.125 1524.47 758.296 1520.93 Q756.49 1517.37 752.856 1517.37 M752.856 1513.66 Q758.666 1513.66 761.722 1518.27 Q764.8 1522.85 764.8 1531.6 Q764.8 1540.33 761.722 1544.94 Q758.666 1549.52 752.856 1549.52 Q747.046 1549.52 743.967 1544.94 Q740.912 1540.33 740.912 1531.6 Q740.912 1522.85 743.967 1518.27 Q747.046 1513.66 752.856 1513.66 Z\" fill=\"#000000\" fill-rule=\"evenodd\" fill-opacity=\"1\" /><path clip-path=\"url(#clip150)\" d=\"M1214.82 1544.91 L1231.14 1544.91 L1231.14 1548.85 L1209.2 1548.85 L1209.2 1544.91 Q1211.86 1542.16 1216.44 1537.53 Q1221.05 1532.88 1222.23 1531.53 Q1224.48 1529.01 1225.36 1527.27 Q1226.26 1525.51 1226.26 1523.82 Q1226.26 1521.07 1224.31 1519.33 Q1222.39 1517.6 1219.29 1517.6 Q1217.09 1517.6 1214.64 1518.36 Q1212.21 1519.13 1209.43 1520.68 L1209.43 1515.95 Q1212.25 1514.82 1214.71 1514.24 Q1217.16 1513.66 1219.2 1513.66 Q1224.57 1513.66 1227.76 1516.35 Q1230.96 1519.03 1230.96 1523.52 Q1230.96 1525.65 1230.15 1527.57 Q1229.36 1529.47 1227.25 1532.07 Q1226.68 1532.74 1223.57 1535.95 Q1220.47 1539.15 1214.82 1544.91 Z\" fill=\"#000000\" fill-rule=\"evenodd\" fill-opacity=\"1\" /><path clip-path=\"url(#clip150)\" d=\"M1250.96 1517.37 Q1247.35 1517.37 1245.52 1520.93 Q1243.71 1524.47 1243.71 1531.6 Q1243.71 1538.71 1245.52 1542.27 Q1247.35 1545.82 1250.96 1545.82 Q1254.59 1545.82 1256.4 1542.27 Q1258.23 1538.71 1258.23 1531.6 Q1258.23 1524.47 1256.4 1520.93 Q1254.59 1517.37 1250.96 1517.37 M1250.96 1513.66 Q1256.77 1513.66 1259.82 1518.27 Q1262.9 1522.85 1262.9 1531.6 Q1262.9 1540.33 1259.82 1544.94 Q1256.77 1549.52 1250.96 1549.52 Q1245.15 1549.52 1242.07 1544.94 Q1239.01 1540.33 1239.01 1531.6 Q1239.01 1522.85 1242.07 1518.27 Q1245.15 1513.66 1250.96 1513.66 Z\" fill=\"#000000\" fill-rule=\"evenodd\" fill-opacity=\"1\" /><path clip-path=\"url(#clip150)\" d=\"M1281.12 1517.37 Q1277.51 1517.37 1275.68 1520.93 Q1273.87 1524.47 1273.87 1531.6 Q1273.87 1538.71 1275.68 1542.27 Q1277.51 1545.82 1281.12 1545.82 Q1284.75 1545.82 1286.56 1542.27 Q1288.39 1538.71 1288.39 1531.6 Q1288.39 1524.47 1286.56 1520.93 Q1284.75 1517.37 1281.12 1517.37 M1281.12 1513.66 Q1286.93 1513.66 1289.99 1518.27 Q1293.06 1522.85 1293.06 1531.6 Q1293.06 1540.33 1289.99 1544.94 Q1286.93 1549.52 1281.12 1549.52 Q1275.31 1549.52 1272.23 1544.94 Q1269.18 1540.33 1269.18 1531.6 Q1269.18 1522.85 1272.23 1518.27 Q1275.31 1513.66 1281.12 1513.66 Z\" fill=\"#000000\" fill-rule=\"evenodd\" fill-opacity=\"1\" /><path clip-path=\"url(#clip150)\" d=\"M1752.29 1530.21 Q1755.65 1530.93 1757.52 1533.2 Q1759.42 1535.47 1759.42 1538.8 Q1759.42 1543.92 1755.9 1546.72 Q1752.38 1549.52 1745.9 1549.52 Q1743.72 1549.52 1741.41 1549.08 Q1739.12 1548.66 1736.66 1547.81 L1736.66 1543.29 Q1738.61 1544.43 1740.92 1545.01 Q1743.24 1545.58 1745.76 1545.58 Q1750.16 1545.58 1752.45 1543.85 Q1754.77 1542.11 1754.77 1538.8 Q1754.77 1535.75 1752.61 1534.03 Q1750.48 1532.3 1746.66 1532.3 L1742.64 1532.3 L1742.64 1528.45 L1746.85 1528.45 Q1750.3 1528.45 1752.13 1527.09 Q1753.96 1525.7 1753.96 1523.11 Q1753.96 1520.45 1752.06 1519.03 Q1750.18 1517.6 1746.66 1517.6 Q1744.74 1517.6 1742.54 1518.01 Q1740.34 1518.43 1737.71 1519.31 L1737.71 1515.14 Q1740.37 1514.4 1742.68 1514.03 Q1745.02 1513.66 1747.08 1513.66 Q1752.4 1513.66 1755.51 1516.09 Q1758.61 1518.5 1758.61 1522.62 Q1758.61 1525.49 1756.97 1527.48 Q1755.32 1529.45 1752.29 1530.21 Z\" fill=\"#000000\" fill-rule=\"evenodd\" fill-opacity=\"1\" /><path clip-path=\"url(#clip150)\" d=\"M1778.28 1517.37 Q1774.67 1517.37 1772.84 1520.93 Q1771.04 1524.47 1771.04 1531.6 Q1771.04 1538.71 1772.84 1542.27 Q1774.67 1545.82 1778.28 1545.82 Q1781.92 1545.82 1783.72 1542.27 Q1785.55 1538.71 1785.55 1531.6 Q1785.55 1524.47 1783.72 1520.93 Q1781.92 1517.37 1778.28 1517.37 M1778.28 1513.66 Q1784.09 1513.66 1787.15 1518.27 Q1790.23 1522.85 1790.23 1531.6 Q1790.23 1540.33 1787.15 1544.94 Q1784.09 1549.52 1778.28 1549.52 Q1772.47 1549.52 1769.4 1544.94 Q1766.34 1540.33 1766.34 1531.6 Q1766.34 1522.85 1769.4 1518.27 Q1772.47 1513.66 1778.28 1513.66 Z\" fill=\"#000000\" fill-rule=\"evenodd\" fill-opacity=\"1\" /><path clip-path=\"url(#clip150)\" d=\"M1808.45 1517.37 Q1804.84 1517.37 1803.01 1520.93 Q1801.2 1524.47 1801.2 1531.6 Q1801.2 1538.71 1803.01 1542.27 Q1804.84 1545.82 1808.45 1545.82 Q1812.08 1545.82 1813.89 1542.27 Q1815.71 1538.71 1815.71 1531.6 Q1815.71 1524.47 1813.89 1520.93 Q1812.08 1517.37 1808.45 1517.37 M1808.45 1513.66 Q1814.26 1513.66 1817.31 1518.27 Q1820.39 1522.85 1820.39 1531.6 Q1820.39 1540.33 1817.31 1544.94 Q1814.26 1549.52 1808.45 1549.52 Q1802.64 1549.52 1799.56 1544.94 Q1796.5 1540.33 1796.5 1531.6 Q1796.5 1522.85 1799.56 1518.27 Q1802.64 1513.66 1808.45 1513.66 Z\" fill=\"#000000\" fill-rule=\"evenodd\" fill-opacity=\"1\" /><path clip-path=\"url(#clip150)\" d=\"M2279.01 1518.36 L2267.21 1536.81 L2279.01 1536.81 L2279.01 1518.36 M2277.79 1514.29 L2283.67 1514.29 L2283.67 1536.81 L2288.6 1536.81 L2288.6 1540.7 L2283.67 1540.7 L2283.67 1548.85 L2279.01 1548.85 L2279.01 1540.7 L2263.41 1540.7 L2263.41 1536.19 L2277.79 1514.29 Z\" fill=\"#000000\" fill-rule=\"evenodd\" fill-opacity=\"1\" /><path clip-path=\"url(#clip150)\" d=\"M2306.33 1517.37 Q2302.72 1517.37 2300.89 1520.93 Q2299.08 1524.47 2299.08 1531.6 Q2299.08 1538.71 2300.89 1542.27 Q2302.72 1545.82 2306.33 1545.82 Q2309.96 1545.82 2311.77 1542.27 Q2313.6 1538.71 2313.6 1531.6 Q2313.6 1524.47 2311.77 1520.93 Q2309.96 1517.37 2306.33 1517.37 M2306.33 1513.66 Q2312.14 1513.66 2315.19 1518.27 Q2318.27 1522.85 2318.27 1531.6 Q2318.27 1540.33 2315.19 1544.94 Q2312.14 1549.52 2306.33 1549.52 Q2300.52 1549.52 2297.44 1544.94 Q2294.38 1540.33 2294.38 1531.6 Q2294.38 1522.85 2297.44 1518.27 Q2300.52 1513.66 2306.33 1513.66 Z\" fill=\"#000000\" fill-rule=\"evenodd\" fill-opacity=\"1\" /><path clip-path=\"url(#clip150)\" d=\"M2336.49 1517.37 Q2332.88 1517.37 2331.05 1520.93 Q2329.24 1524.47 2329.24 1531.6 Q2329.24 1538.71 2331.05 1542.27 Q2332.88 1545.82 2336.49 1545.82 Q2340.12 1545.82 2341.93 1542.27 Q2343.76 1538.71 2343.76 1531.6 Q2343.76 1524.47 2341.93 1520.93 Q2340.12 1517.37 2336.49 1517.37 M2336.49 1513.66 Q2342.3 1513.66 2345.36 1518.27 Q2348.43 1522.85 2348.43 1531.6 Q2348.43 1540.33 2345.36 1544.94 Q2342.3 1549.52 2336.49 1549.52 Q2330.68 1549.52 2327.6 1544.94 Q2324.55 1540.33 2324.55 1531.6 Q2324.55 1522.85 2327.6 1518.27 Q2330.68 1513.66 2336.49 1513.66 Z\" fill=\"#000000\" fill-rule=\"evenodd\" fill-opacity=\"1\" /><polyline clip-path=\"url(#clip152)\" style=\"stroke:#000000; stroke-linecap:round; stroke-linejoin:round; stroke-width:2; stroke-opacity:0.1; fill:none\" points=\"\n  138.959,1294.86 2352.76,1294.86 \n  \"/>\n<polyline clip-path=\"url(#clip152)\" style=\"stroke:#000000; stroke-linecap:round; stroke-linejoin:round; stroke-width:2; stroke-opacity:0.1; fill:none\" points=\"\n  138.959,993.136 2352.76,993.136 \n  \"/>\n<polyline clip-path=\"url(#clip152)\" style=\"stroke:#000000; stroke-linecap:round; stroke-linejoin:round; stroke-width:2; stroke-opacity:0.1; fill:none\" points=\"\n  138.959,691.416 2352.76,691.416 \n  \"/>\n<polyline clip-path=\"url(#clip152)\" style=\"stroke:#000000; stroke-linecap:round; stroke-linejoin:round; stroke-width:2; stroke-opacity:0.1; fill:none\" points=\"\n  138.959,389.696 2352.76,389.696 \n  \"/>\n<polyline clip-path=\"url(#clip152)\" style=\"stroke:#000000; stroke-linecap:round; stroke-linejoin:round; stroke-width:2; stroke-opacity:0.1; fill:none\" points=\"\n  138.959,87.9763 2352.76,87.9763 \n  \"/>\n<polyline clip-path=\"url(#clip150)\" style=\"stroke:#000000; stroke-linecap:round; stroke-linejoin:round; stroke-width:4; stroke-opacity:1; fill:none\" points=\"\n  138.959,1486.45 138.959,47.2441 \n  \"/>\n<polyline clip-path=\"url(#clip150)\" style=\"stroke:#000000; stroke-linecap:round; stroke-linejoin:round; stroke-width:4; stroke-opacity:1; fill:none\" points=\"\n  138.959,1294.86 157.857,1294.86 \n  \"/>\n<polyline clip-path=\"url(#clip150)\" style=\"stroke:#000000; stroke-linecap:round; stroke-linejoin:round; stroke-width:4; stroke-opacity:1; fill:none\" points=\"\n  138.959,993.136 157.857,993.136 \n  \"/>\n<polyline clip-path=\"url(#clip150)\" style=\"stroke:#000000; stroke-linecap:round; stroke-linejoin:round; stroke-width:4; stroke-opacity:1; fill:none\" points=\"\n  138.959,691.416 157.857,691.416 \n  \"/>\n<polyline clip-path=\"url(#clip150)\" style=\"stroke:#000000; stroke-linecap:round; stroke-linejoin:round; stroke-width:4; stroke-opacity:1; fill:none\" points=\"\n  138.959,389.696 157.857,389.696 \n  \"/>\n<polyline clip-path=\"url(#clip150)\" style=\"stroke:#000000; stroke-linecap:round; stroke-linejoin:round; stroke-width:4; stroke-opacity:1; fill:none\" points=\"\n  138.959,87.9763 157.857,87.9763 \n  \"/>\n<path clip-path=\"url(#clip150)\" d=\"M86.6401 1308.2 L102.959 1308.2 L102.959 1312.14 L81.0151 1312.14 L81.0151 1308.2 Q83.6771 1305.45 88.2604 1300.82 Q92.8669 1296.16 94.0475 1294.82 Q96.2928 1292.3 97.1724 1290.56 Q98.0752 1288.8 98.0752 1287.11 Q98.0752 1284.36 96.1308 1282.62 Q94.2095 1280.89 91.1077 1280.89 Q88.9086 1280.89 86.4549 1281.65 Q84.0244 1282.41 81.2466 1283.96 L81.2466 1279.24 Q84.0707 1278.11 86.5243 1277.53 Q88.978 1276.95 91.0151 1276.95 Q96.3854 1276.95 99.5798 1279.64 Q102.774 1282.32 102.774 1286.81 Q102.774 1288.94 101.964 1290.86 Q101.177 1292.76 99.0706 1295.35 Q98.4919 1296.02 95.39 1299.24 Q92.2882 1302.44 86.6401 1308.2 Z\" fill=\"#000000\" fill-rule=\"evenodd\" fill-opacity=\"1\" /><path clip-path=\"url(#clip150)\" d=\"M93.3762 979.93 L81.5707 998.379 L93.3762 998.379 L93.3762 979.93 M92.1493 975.856 L98.0289 975.856 L98.0289 998.379 L102.959 998.379 L102.959 1002.27 L98.0289 1002.27 L98.0289 1010.42 L93.3762 1010.42 L93.3762 1002.27 L77.7744 1002.27 L77.7744 997.754 L92.1493 975.856 Z\" fill=\"#000000\" fill-rule=\"evenodd\" fill-opacity=\"1\" /><path clip-path=\"url(#clip150)\" d=\"M91.4317 689.553 Q88.2836 689.553 86.4318 691.705 Q84.6031 693.858 84.6031 697.608 Q84.6031 701.335 86.4318 703.511 Q88.2836 705.664 91.4317 705.664 Q94.5799 705.664 96.4085 703.511 Q98.2604 701.335 98.2604 697.608 Q98.2604 693.858 96.4085 691.705 Q94.5799 689.553 91.4317 689.553 M100.714 674.9 L100.714 679.159 Q98.9548 678.326 97.1493 677.886 Q95.3669 677.446 93.6076 677.446 Q88.978 677.446 86.5243 680.571 Q84.0938 683.696 83.7466 690.016 Q85.1123 688.002 87.1725 686.937 Q89.2327 685.849 91.7095 685.849 Q96.9178 685.849 99.927 689.02 Q102.959 692.168 102.959 697.608 Q102.959 702.932 99.8113 706.15 Q96.6632 709.367 91.4317 709.367 Q85.4364 709.367 82.2651 704.784 Q79.0938 700.178 79.0938 691.451 Q79.0938 683.256 82.9827 678.395 Q86.8716 673.511 93.4225 673.511 Q95.1817 673.511 96.9641 673.858 Q98.7696 674.205 100.714 674.9 Z\" fill=\"#000000\" fill-rule=\"evenodd\" fill-opacity=\"1\" /><path clip-path=\"url(#clip150)\" d=\"M91.1077 390.564 Q87.7743 390.564 85.8531 392.347 Q83.9549 394.129 83.9549 397.254 Q83.9549 400.379 85.8531 402.161 Q87.7743 403.944 91.1077 403.944 Q94.441 403.944 96.3623 402.161 Q98.2835 400.356 98.2835 397.254 Q98.2835 394.129 96.3623 392.347 Q94.4641 390.564 91.1077 390.564 M86.4318 388.573 Q83.4225 387.833 81.7327 385.773 Q80.066 383.712 80.066 380.749 Q80.066 376.606 83.0058 374.199 Q85.9688 371.791 91.1077 371.791 Q96.2697 371.791 99.2095 374.199 Q102.149 376.606 102.149 380.749 Q102.149 383.712 100.459 385.773 Q98.7928 387.833 95.8067 388.573 Q99.1863 389.361 101.061 391.652 Q102.959 393.944 102.959 397.254 Q102.959 402.277 99.8808 404.962 Q96.8252 407.647 91.1077 407.647 Q85.3901 407.647 82.3114 404.962 Q79.2559 402.277 79.2559 397.254 Q79.2559 393.944 81.154 391.652 Q83.0521 389.361 86.4318 388.573 M84.7188 381.189 Q84.7188 383.874 86.3855 385.379 Q88.0753 386.884 91.1077 386.884 Q94.1169 386.884 95.8067 385.379 Q97.5197 383.874 97.5197 381.189 Q97.5197 378.504 95.8067 376.999 Q94.1169 375.495 91.1077 375.495 Q88.0753 375.495 86.3855 376.999 Q84.7188 378.504 84.7188 381.189 Z\" fill=\"#000000\" fill-rule=\"evenodd\" fill-opacity=\"1\" /><path clip-path=\"url(#clip150)\" d=\"M51.6634 101.321 L59.3023 101.321 L59.3023 74.9555 L50.9921 76.6222 L50.9921 72.3629 L59.256 70.6963 L63.9319 70.6963 L63.9319 101.321 L71.5707 101.321 L71.5707 105.256 L51.6634 105.256 L51.6634 101.321 Z\" fill=\"#000000\" fill-rule=\"evenodd\" fill-opacity=\"1\" /><path clip-path=\"url(#clip150)\" d=\"M91.0151 73.775 Q87.404 73.775 85.5753 77.3398 Q83.7697 80.8814 83.7697 88.011 Q83.7697 95.1174 85.5753 98.6822 Q87.404 102.224 91.0151 102.224 Q94.6493 102.224 96.4548 98.6822 Q98.2835 95.1174 98.2835 88.011 Q98.2835 80.8814 96.4548 77.3398 Q94.6493 73.775 91.0151 73.775 M91.0151 70.0713 Q96.8252 70.0713 99.8808 74.6777 Q102.959 79.261 102.959 88.011 Q102.959 96.7378 99.8808 101.344 Q96.8252 105.928 91.0151 105.928 Q85.2049 105.928 82.1262 101.344 Q79.0707 96.7378 79.0707 88.011 Q79.0707 79.261 82.1262 74.6777 Q85.2049 70.0713 91.0151 70.0713 Z\" fill=\"#000000\" fill-rule=\"evenodd\" fill-opacity=\"1\" /><polyline clip-path=\"url(#clip152)\" style=\"stroke:#009af9; stroke-linecap:round; stroke-linejoin:round; stroke-width:4; stroke-opacity:1; fill:none\" points=\"\n  201.614,1445.72 206.888,1431.63 212.162,1419.15 217.436,1407.87 222.71,1397.51 227.984,1387.91 233.258,1378.93 238.532,1370.47 243.806,1362.46 249.08,1354.85 \n  254.354,1347.57 259.628,1340.61 264.902,1333.91 270.176,1327.47 275.449,1321.24 280.723,1315.22 285.997,1309.39 291.271,1303.73 296.545,1298.23 301.819,1292.88 \n  307.093,1287.66 312.367,1282.58 317.641,1277.61 322.915,1272.76 328.189,1268.02 333.463,1263.37 338.737,1258.82 344.011,1254.36 349.285,1249.99 354.559,1245.7 \n  359.833,1241.48 365.107,1237.34 370.381,1233.27 375.655,1229.27 380.929,1225.33 386.203,1221.45 391.477,1217.63 396.75,1213.87 402.024,1210.16 407.298,1206.51 \n  412.572,1202.91 417.846,1199.35 423.12,1195.84 428.394,1192.38 433.668,1188.96 438.942,1185.59 444.216,1182.25 449.49,1178.96 454.764,1175.7 460.038,1172.48 \n  465.312,1169.3 470.586,1166.15 475.86,1163.04 481.134,1159.96 486.408,1156.91 491.682,1153.89 496.956,1150.91 502.23,1147.95 507.504,1145.02 512.778,1142.13 \n  518.052,1139.25 523.325,1136.41 528.599,1133.59 533.873,1130.8 539.147,1128.03 544.421,1125.28 549.695,1122.56 554.969,1119.87 560.243,1117.19 565.517,1114.54 \n  570.791,1111.91 576.065,1109.3 581.339,1106.71 586.613,1104.14 591.887,1101.6 597.161,1099.07 602.435,1096.56 607.709,1094.07 612.983,1091.59 618.257,1089.14 \n  623.531,1086.7 628.805,1084.28 634.079,1081.88 639.353,1079.5 644.627,1077.13 649.9,1074.77 655.174,1072.44 660.448,1070.11 665.722,1067.81 670.996,1065.52 \n  676.27,1063.24 681.544,1060.98 686.818,1058.73 692.092,1056.49 697.366,1054.27 702.64,1052.07 707.914,1049.87 713.188,1047.69 718.462,1045.53 723.736,1043.37 \n  729.01,1041.23 734.284,1039.1 739.558,1036.98 744.832,1034.88 750.106,1032.78 755.38,1030.7 760.654,1028.63 765.928,1026.57 771.201,1024.52 776.475,1022.48 \n  781.749,1020.46 787.023,1018.44 792.297,1016.44 797.571,1014.44 802.845,1012.45 808.119,1010.48 813.393,1008.51 818.667,1006.56 823.941,1004.61 829.215,1002.68 \n  834.489,1000.75 839.763,998.833 845.037,996.925 850.311,995.026 855.585,993.136 860.859,991.255 866.133,989.382 871.407,987.518 876.681,985.662 881.955,983.815 \n  887.229,981.977 892.503,980.146 897.776,978.324 903.05,976.509 908.324,974.703 913.598,972.904 918.872,971.113 924.146,969.33 929.42,967.554 934.694,965.786 \n  939.968,964.026 945.242,962.272 950.516,960.526 955.79,958.787 961.064,957.055 966.338,955.33 971.612,953.612 976.886,951.901 982.16,950.196 987.434,948.499 \n  992.708,946.808 997.982,945.123 1003.26,943.445 1008.53,941.774 1013.8,940.109 1019.08,938.45 1024.35,936.798 1029.63,935.151 1034.9,933.511 1040.17,931.877 \n  1045.45,930.249 1050.72,928.626 1056,927.01 1061.27,925.399 1066.54,923.795 1071.82,922.196 1077.09,920.602 1082.36,919.015 1087.64,917.433 1092.91,915.856 \n  1098.19,914.285 1103.46,912.719 1108.73,911.158 1114.01,909.603 1119.28,908.053 1124.56,906.509 1129.83,904.969 1135.1,903.435 1140.38,901.906 1145.65,900.381 \n  1150.93,898.862 1156.2,897.348 1161.47,895.839 1166.75,894.334 1172.02,892.834 1177.3,891.339 1182.57,889.849 1187.84,888.364 1193.12,886.883 1198.39,885.407 \n  1203.67,883.935 1208.94,882.468 1214.21,881.005 1219.49,879.547 1224.76,878.093 1230.04,876.644 1235.31,875.199 1240.58,873.759 1245.86,872.322 1251.13,870.89 \n  1256.41,869.462 1261.68,868.039 1266.95,866.619 1272.23,865.204 1277.5,863.793 1282.78,862.386 1288.05,860.983 1293.32,859.583 1298.6,858.188 1303.87,856.797 \n  1309.15,855.41 1314.42,854.026 1319.69,852.647 1324.97,851.271 1330.24,849.899 1335.51,848.531 1340.79,847.166 1346.06,845.806 1351.34,844.449 1356.61,843.095 \n  1361.88,841.746 1367.16,840.4 1372.43,839.057 1377.71,837.718 1382.98,836.383 1388.25,835.051 1393.53,833.722 1398.8,832.397 1404.08,831.076 1409.35,829.758 \n  1414.62,828.443 1419.9,827.132 1425.17,825.824 1430.45,824.519 1435.72,823.217 1440.99,821.919 1446.27,820.624 1451.54,819.333 1456.82,818.044 1462.09,816.759 \n  1467.36,815.477 1472.64,814.198 1477.91,812.922 1483.19,811.65 1488.46,810.38 1493.73,809.114 1499.01,807.85 1504.28,806.59 1509.56,805.332 1514.83,804.078 \n  1520.1,802.826 1525.38,801.578 1530.65,800.332 1535.93,799.089 1541.2,797.85 1546.47,796.613 1551.75,795.379 1557.02,794.148 1562.3,792.919 1567.57,791.694 \n  1572.84,790.471 1578.12,789.251 1583.39,788.034 1588.66,786.819 1593.94,785.607 1599.21,784.398 1604.49,783.192 1609.76,781.988 1615.03,780.787 1620.31,779.589 \n  1625.58,778.393 1630.86,777.2 1636.13,776.01 1641.4,774.822 1646.68,773.636 1651.95,772.453 1657.23,771.273 1662.5,770.095 1667.77,768.92 1673.05,767.747 \n  1678.32,766.577 1683.6,765.409 1688.87,764.244 1694.14,763.081 1699.42,761.921 1704.69,760.763 1709.97,759.607 1715.24,758.454 1720.51,757.303 1725.79,756.154 \n  1731.06,755.008 1736.34,753.865 1741.61,752.723 1746.88,751.584 1752.16,750.447 1757.43,749.312 1762.71,748.18 1767.98,747.05 1773.25,745.922 1778.53,744.797 \n  1783.8,743.673 1789.08,742.552 1794.35,741.433 1799.62,740.316 1804.9,739.202 1810.17,738.089 1815.45,736.979 1820.72,735.871 1825.99,734.765 1831.27,733.661 \n  1836.54,732.56 1841.81,731.46 1847.09,730.363 1852.36,729.267 1857.64,728.174 1862.91,727.082 1868.18,725.993 1873.46,724.906 1878.73,723.821 1884.01,722.738 \n  1889.28,721.656 1894.55,720.577 1899.83,719.5 1905.1,718.425 1910.38,717.352 1915.65,716.281 1920.92,715.211 1926.2,714.144 1931.47,713.078 1936.75,712.015 \n  1942.02,710.953 1947.29,709.894 1952.57,708.836 1957.84,707.78 1963.12,706.726 1968.39,705.674 1973.66,704.624 1978.94,703.575 1984.21,702.529 1989.49,701.484 \n  1994.76,700.441 2000.03,699.4 2005.31,698.361 2010.58,697.323 2015.86,696.287 2021.13,695.253 2026.4,694.221 2031.68,693.191 2036.95,692.162 2042.23,691.135 \n  2047.5,690.11 2052.77,689.087 2058.05,688.065 2063.32,687.045 2068.6,686.027 2073.87,685.011 2079.14,683.996 2084.42,682.983 2089.69,681.971 2094.96,680.961 \n  2100.24,679.953 2105.51,678.947 2110.79,677.942 2116.06,676.939 2121.33,675.937 2126.61,674.937 2131.88,673.939 2137.16,672.943 2142.43,671.948 2147.7,670.954 \n  2152.98,669.962 2158.25,668.972 2163.53,667.983 2168.8,666.996 2174.07,666.011 2179.35,665.027 2184.62,664.044 2189.9,663.064 2195.17,662.084 2200.44,661.107 \n  2205.72,660.13 2210.99,659.156 2216.27,658.182 2221.54,657.211 2226.81,656.241 2232.09,655.272 2237.36,654.305 2242.64,653.339 2247.91,652.375 2253.18,651.412 \n  2258.46,650.451 2263.73,649.491 2269.01,648.533 2274.28,647.576 2279.55,646.62 2284.83,645.666 2290.1,644.714 \n  \"/>\n<polyline clip-path=\"url(#clip152)\" style=\"stroke:#e26f46; stroke-linecap:round; stroke-linejoin:round; stroke-width:4; stroke-opacity:1; fill:none\" points=\"\n  201.614,1445.72 206.888,1427.91 212.162,1411.81 217.436,1397.01 222.71,1383.23 227.984,1370.29 233.258,1358.05 238.532,1346.4 243.806,1335.28 249.08,1324.61 \n  254.354,1314.34 259.628,1304.44 264.902,1294.86 270.176,1285.57 275.449,1276.55 280.723,1267.78 285.997,1259.24 291.271,1250.91 296.545,1242.78 301.819,1234.83 \n  307.093,1227.05 312.367,1219.43 317.641,1211.96 322.915,1204.63 328.189,1197.44 333.463,1190.37 338.737,1183.43 344.011,1176.6 349.285,1169.88 354.559,1163.26 \n  359.833,1156.75 365.107,1150.33 370.381,1144 375.655,1137.75 380.929,1131.59 386.203,1125.52 391.477,1119.51 396.75,1113.59 402.024,1107.73 407.298,1101.95 \n  412.572,1096.23 417.846,1090.58 423.12,1084.98 428.394,1079.45 433.668,1073.98 438.942,1068.57 444.216,1063.21 449.49,1057.9 454.764,1052.64 460.038,1047.44 \n  465.312,1042.28 470.586,1037.17 475.86,1032.11 481.134,1027.09 486.408,1022.12 491.682,1017.19 496.956,1012.3 502.23,1007.45 507.504,1002.64 512.778,997.869 \n  518.052,993.136 523.325,988.44 528.599,983.78 533.873,979.155 539.147,974.564 544.421,970.007 549.695,965.483 554.969,960.991 560.243,956.531 565.517,952.102 \n  570.791,947.703 576.065,943.333 581.339,938.992 586.613,934.68 591.887,930.396 597.161,926.139 602.435,921.909 607.709,917.706 612.983,913.528 618.257,909.376 \n  623.531,905.249 628.805,901.146 634.079,897.067 639.353,893.012 644.627,888.98 649.9,884.971 655.174,880.984 660.448,877.02 665.722,873.077 670.996,869.155 \n  676.27,865.255 681.544,861.375 686.818,857.516 692.092,853.677 697.366,849.857 702.64,846.057 707.914,842.276 713.188,838.514 718.462,834.77 723.736,831.045 \n  729.01,827.338 734.284,823.648 739.558,819.977 744.832,816.322 750.106,812.684 755.38,809.064 760.654,805.459 765.928,801.872 771.201,798.3 776.475,794.744 \n  781.749,791.204 787.023,787.679 792.297,784.17 797.571,780.676 802.845,777.196 808.119,773.732 813.393,770.282 818.667,766.846 823.941,763.424 829.215,760.017 \n  834.489,756.623 839.763,753.243 845.037,749.876 850.311,746.523 855.585,743.183 860.859,739.856 866.133,736.542 871.407,733.24 876.681,729.951 881.955,726.675 \n  887.229,723.411 892.503,720.159 897.776,716.919 903.05,713.69 908.324,710.474 913.598,707.269 918.872,704.076 924.146,700.894 929.42,697.724 934.694,694.564 \n  939.968,691.416 945.242,688.279 950.516,685.152 955.79,682.036 961.064,678.93 966.338,675.836 971.612,672.751 976.886,669.677 982.16,666.613 987.434,663.558 \n  992.708,660.514 997.982,657.48 1003.26,654.456 1008.53,651.441 1013.8,648.436 1019.08,645.44 1024.35,642.454 1029.63,639.477 1034.9,636.509 1040.17,633.55 \n  1045.45,630.601 1050.72,627.66 1056,624.728 1061.27,621.806 1066.54,618.892 1071.82,615.986 1077.09,613.089 1082.36,610.201 1087.64,607.321 1092.91,604.449 \n  1098.19,601.586 1103.46,598.731 1108.73,595.884 1114.01,593.045 1119.28,590.214 1124.56,587.391 1129.83,584.576 1135.1,581.769 1140.38,578.97 1145.65,576.178 \n  1150.93,573.394 1156.2,570.617 1161.47,567.848 1166.75,565.086 1172.02,562.332 1177.3,559.585 1182.57,556.845 1187.84,554.113 1193.12,551.387 1198.39,548.669 \n  1203.67,545.958 1208.94,543.253 1214.21,540.556 1219.49,537.866 1224.76,535.182 1230.04,532.505 1235.31,529.835 1240.58,527.171 1245.86,524.514 1251.13,521.864 \n  1256.41,519.22 1261.68,516.583 1266.95,513.952 1272.23,511.327 1277.5,508.709 1282.78,506.097 1288.05,503.492 1293.32,500.892 1298.6,498.299 1303.87,495.711 \n  1309.15,493.13 1314.42,490.555 1319.69,487.986 1324.97,485.423 1330.24,482.866 1335.51,480.314 1340.79,477.768 1346.06,475.229 1351.34,472.694 1356.61,470.166 \n  1361.88,467.643 1367.16,465.126 1372.43,462.615 1377.71,460.109 1382.98,457.608 1388.25,455.113 1393.53,452.624 1398.8,450.139 1404.08,447.661 1409.35,445.187 \n  1414.62,442.719 1419.9,440.256 1425.17,437.798 1430.45,435.346 1435.72,432.899 1440.99,430.457 1446.27,428.02 1451.54,425.588 1456.82,423.161 1462.09,420.739 \n  1467.36,418.322 1472.64,415.91 1477.91,413.503 1483.19,411.101 1488.46,408.703 1493.73,406.311 1499.01,403.923 1504.28,401.54 1509.56,399.162 1514.83,396.789 \n  1520.1,394.42 1525.38,392.056 1530.65,389.696 1535.93,387.341 1541.2,384.991 1546.47,382.645 1551.75,380.304 1557.02,377.967 1562.3,375.635 1567.57,373.307 \n  1572.84,370.984 1578.12,368.665 1583.39,366.35 1588.66,364.04 1593.94,361.734 1599.21,359.432 1604.49,357.135 1609.76,354.842 1615.03,352.553 1620.31,350.268 \n  1625.58,347.987 1630.86,345.711 1636.13,343.439 1641.4,341.171 1646.68,338.907 1651.95,336.647 1657.23,334.391 1662.5,332.139 1667.77,329.891 1673.05,327.647 \n  1678.32,325.407 1683.6,323.171 1688.87,320.939 1694.14,318.711 1699.42,316.487 1704.69,314.266 1709.97,312.05 1715.24,309.837 1720.51,307.628 1725.79,305.423 \n  1731.06,303.221 1736.34,301.023 1741.61,298.829 1746.88,296.639 1752.16,294.452 1757.43,292.27 1762.71,290.09 1767.98,287.915 1773.25,285.743 1778.53,283.574 \n  1783.8,281.409 1789.08,279.248 1794.35,277.09 1799.62,274.936 1804.9,272.785 1810.17,270.638 1815.45,268.494 1820.72,266.354 1825.99,264.217 1831.27,262.083 \n  1836.54,259.953 1841.81,257.827 1847.09,255.703 1852.36,253.583 1857.64,251.467 1862.91,249.353 1868.18,247.243 1873.46,245.137 1878.73,243.033 1884.01,240.933 \n  1889.28,238.836 1894.55,236.743 1899.83,234.652 1905.1,232.565 1910.38,230.481 1915.65,228.4 1920.92,226.322 1926.2,224.248 1931.47,222.176 1936.75,220.108 \n  1942.02,218.043 1947.29,215.981 1952.57,213.921 1957.84,211.865 1963.12,209.813 1968.39,207.763 1973.66,205.716 1978.94,203.672 1984.21,201.631 1989.49,199.593 \n  1994.76,197.558 2000.03,195.526 2005.31,193.497 2010.58,191.471 2015.86,189.448 2021.13,187.428 2026.4,185.41 2031.68,183.396 2036.95,181.384 2042.23,179.375 \n  2047.5,177.369 2052.77,175.366 2058.05,173.366 2063.32,171.368 2068.6,169.374 2073.87,167.382 2079.14,165.393 2084.42,163.406 2089.69,161.423 2094.96,159.442 \n  2100.24,157.464 2105.51,155.488 2110.79,153.515 2116.06,151.545 2121.33,149.578 2126.61,147.613 2131.88,145.651 2137.16,143.692 2142.43,141.735 2147.7,139.781 \n  2152.98,137.829 2158.25,135.881 2163.53,133.934 2168.8,131.991 2174.07,130.049 2179.35,128.111 2184.62,126.175 2189.9,124.241 2195.17,122.31 2200.44,120.382 \n  2205.72,118.456 2210.99,116.533 2216.27,114.612 2221.54,112.694 2226.81,110.778 2232.09,108.864 2237.36,106.953 2242.64,105.045 2247.91,103.138 2253.18,101.235 \n  2258.46,99.3335 2263.73,97.4347 2269.01,95.5382 2274.28,93.6442 2279.55,91.7525 2284.83,89.8632 2290.1,87.9763 \n  \"/>\n<path clip-path=\"url(#clip150)\" d=\"\nM1980.56 250.738 L2278.96 250.738 L2278.96 95.2176 L1980.56 95.2176  Z\n  \" fill=\"#ffffff\" fill-rule=\"evenodd\" fill-opacity=\"1\"/>\n<polyline clip-path=\"url(#clip150)\" style=\"stroke:#000000; stroke-linecap:round; stroke-linejoin:round; stroke-width:4; stroke-opacity:1; fill:none\" points=\"\n  1980.56,250.738 2278.96,250.738 2278.96,95.2176 1980.56,95.2176 1980.56,250.738 \n  \"/>\n<polyline clip-path=\"url(#clip150)\" style=\"stroke:#009af9; stroke-linecap:round; stroke-linejoin:round; stroke-width:4; stroke-opacity:1; fill:none\" points=\"\n  2005.15,147.058 2152.74,147.058 \n  \"/>\n<path clip-path=\"url(#clip150)\" d=\"M2191.18 166.745 Q2189.37 171.375 2187.66 172.787 Q2185.95 174.199 2183.08 174.199 L2179.67 174.199 L2179.67 170.634 L2182.17 170.634 Q2183.93 170.634 2184.91 169.8 Q2185.88 168.967 2187.06 165.865 L2187.82 163.921 L2177.34 138.412 L2181.85 138.412 L2189.95 158.689 L2198.05 138.412 L2202.57 138.412 L2191.18 166.745 Z\" fill=\"#000000\" fill-rule=\"evenodd\" fill-opacity=\"1\" /><path clip-path=\"url(#clip150)\" d=\"M2209.86 160.402 L2217.5 160.402 L2217.5 134.037 L2209.19 135.703 L2209.19 131.444 L2217.45 129.778 L2222.13 129.778 L2222.13 160.402 L2229.77 160.402 L2229.77 164.338 L2209.86 164.338 L2209.86 160.402 Z\" fill=\"#000000\" fill-rule=\"evenodd\" fill-opacity=\"1\" /><polyline clip-path=\"url(#clip150)\" style=\"stroke:#e26f46; stroke-linecap:round; stroke-linejoin:round; stroke-width:4; stroke-opacity:1; fill:none\" points=\"\n  2005.15,198.898 2152.74,198.898 \n  \"/>\n<path clip-path=\"url(#clip150)\" d=\"M2191.18 218.585 Q2189.37 223.215 2187.66 224.627 Q2185.95 226.039 2183.08 226.039 L2179.67 226.039 L2179.67 222.474 L2182.17 222.474 Q2183.93 222.474 2184.91 221.64 Q2185.88 220.807 2187.06 217.705 L2187.82 215.761 L2177.34 190.252 L2181.85 190.252 L2189.95 210.529 L2198.05 190.252 L2202.57 190.252 L2191.18 218.585 Z\" fill=\"#000000\" fill-rule=\"evenodd\" fill-opacity=\"1\" /><path clip-path=\"url(#clip150)\" d=\"M2213.08 212.242 L2229.4 212.242 L2229.4 216.178 L2207.45 216.178 L2207.45 212.242 Q2210.11 209.488 2214.7 204.858 Q2219.3 200.205 2220.48 198.863 Q2222.73 196.34 2223.61 194.604 Q2224.51 192.844 2224.51 191.155 Q2224.51 188.4 2222.57 186.664 Q2220.65 184.928 2217.55 184.928 Q2215.35 184.928 2212.89 185.692 Q2210.46 186.455 2207.68 188.006 L2207.68 183.284 Q2210.51 182.15 2212.96 181.571 Q2215.42 180.993 2217.45 180.993 Q2222.82 180.993 2226.02 183.678 Q2229.21 186.363 2229.21 190.854 Q2229.21 192.983 2228.4 194.905 Q2227.61 196.803 2225.51 199.395 Q2224.93 200.067 2221.83 203.284 Q2218.73 206.479 2213.08 212.242 Z\" fill=\"#000000\" fill-rule=\"evenodd\" fill-opacity=\"1\" /></svg>\n"
     },
     "execution_count": 142,
     "metadata": {},
     "output_type": "execute_result"
    }
   ],
   "source": [
    "# some more complicated examples\n",
    "\n",
    "my_fun(x; y = 0.4) = x^y\n",
    "\n",
    "x = collect(1:0.25:100) # creates a sequence of numbers\n",
    "plot(my_fun.(x)) \n",
    "plot!(my_fun.(x,y=0.5))\n",
    "\n",
    "\n"
   ]
  },
  {
   "cell_type": "code",
   "execution_count": 28,
   "metadata": {},
   "outputs": [
    {
     "data": {
      "image/svg+xml": "<?xml version=\"1.0\" encoding=\"utf-8\"?>\n<svg xmlns=\"http://www.w3.org/2000/svg\" xmlns:xlink=\"http://www.w3.org/1999/xlink\" width=\"600\" height=\"400\" viewBox=\"0 0 2400 1600\">\n<defs>\n  <clipPath id=\"clip880\">\n    <rect x=\"0\" y=\"0\" width=\"2400\" height=\"1600\"/>\n  </clipPath>\n</defs>\n<path clip-path=\"url(#clip880)\" d=\"\nM0 1600 L2400 1600 L2400 0 L0 0  Z\n  \" fill=\"#ffffff\" fill-rule=\"evenodd\" fill-opacity=\"1\"/>\n<defs>\n  <clipPath id=\"clip881\">\n    <rect x=\"480\" y=\"0\" width=\"1681\" height=\"1600\"/>\n  </clipPath>\n</defs>\n<path clip-path=\"url(#clip880)\" d=\"\nM178.867 1486.45 L2352.76 1486.45 L2352.76 47.2441 L178.867 47.2441  Z\n  \" fill=\"#ffffff\" fill-rule=\"evenodd\" fill-opacity=\"1\"/>\n<defs>\n  <clipPath id=\"clip882\">\n    <rect x=\"178\" y=\"47\" width=\"2175\" height=\"1440\"/>\n  </clipPath>\n</defs>\n<polyline clip-path=\"url(#clip882)\" style=\"stroke:#000000; stroke-linecap:round; stroke-linejoin:round; stroke-width:2; stroke-opacity:0.1; fill:none\" points=\"\n  240.392,1486.45 240.392,47.2441 \n  \"/>\n<polyline clip-path=\"url(#clip882)\" style=\"stroke:#000000; stroke-linecap:round; stroke-linejoin:round; stroke-width:2; stroke-opacity:0.1; fill:none\" points=\"\n  753.102,1486.45 753.102,47.2441 \n  \"/>\n<polyline clip-path=\"url(#clip882)\" style=\"stroke:#000000; stroke-linecap:round; stroke-linejoin:round; stroke-width:2; stroke-opacity:0.1; fill:none\" points=\"\n  1265.81,1486.45 1265.81,47.2441 \n  \"/>\n<polyline clip-path=\"url(#clip882)\" style=\"stroke:#000000; stroke-linecap:round; stroke-linejoin:round; stroke-width:2; stroke-opacity:0.1; fill:none\" points=\"\n  1778.52,1486.45 1778.52,47.2441 \n  \"/>\n<polyline clip-path=\"url(#clip882)\" style=\"stroke:#000000; stroke-linecap:round; stroke-linejoin:round; stroke-width:2; stroke-opacity:0.1; fill:none\" points=\"\n  2291.23,1486.45 2291.23,47.2441 \n  \"/>\n<polyline clip-path=\"url(#clip880)\" style=\"stroke:#000000; stroke-linecap:round; stroke-linejoin:round; stroke-width:4; stroke-opacity:1; fill:none\" points=\"\n  178.867,1486.45 2352.76,1486.45 \n  \"/>\n<polyline clip-path=\"url(#clip880)\" style=\"stroke:#000000; stroke-linecap:round; stroke-linejoin:round; stroke-width:4; stroke-opacity:1; fill:none\" points=\"\n  240.392,1486.45 240.392,1467.55 \n  \"/>\n<polyline clip-path=\"url(#clip880)\" style=\"stroke:#000000; stroke-linecap:round; stroke-linejoin:round; stroke-width:4; stroke-opacity:1; fill:none\" points=\"\n  753.102,1486.45 753.102,1467.55 \n  \"/>\n<polyline clip-path=\"url(#clip880)\" style=\"stroke:#000000; stroke-linecap:round; stroke-linejoin:round; stroke-width:4; stroke-opacity:1; fill:none\" points=\"\n  1265.81,1486.45 1265.81,1467.55 \n  \"/>\n<polyline clip-path=\"url(#clip880)\" style=\"stroke:#000000; stroke-linecap:round; stroke-linejoin:round; stroke-width:4; stroke-opacity:1; fill:none\" points=\"\n  1778.52,1486.45 1778.52,1467.55 \n  \"/>\n<polyline clip-path=\"url(#clip880)\" style=\"stroke:#000000; stroke-linecap:round; stroke-linejoin:round; stroke-width:4; stroke-opacity:1; fill:none\" points=\"\n  2291.23,1486.45 2291.23,1467.55 \n  \"/>\n<path clip-path=\"url(#clip880)\" d=\"M240.392 1517.37 Q236.781 1517.37 234.952 1520.93 Q233.146 1524.47 233.146 1531.6 Q233.146 1538.71 234.952 1542.27 Q236.781 1545.82 240.392 1545.82 Q244.026 1545.82 245.832 1542.27 Q247.66 1538.71 247.66 1531.6 Q247.66 1524.47 245.832 1520.93 Q244.026 1517.37 240.392 1517.37 M240.392 1513.66 Q246.202 1513.66 249.257 1518.27 Q252.336 1522.85 252.336 1531.6 Q252.336 1540.33 249.257 1544.94 Q246.202 1549.52 240.392 1549.52 Q234.582 1549.52 231.503 1544.94 Q228.447 1540.33 228.447 1531.6 Q228.447 1522.85 231.503 1518.27 Q234.582 1513.66 240.392 1513.66 Z\" fill=\"#000000\" fill-rule=\"evenodd\" fill-opacity=\"1\" /><path clip-path=\"url(#clip880)\" d=\"M716.794 1544.91 L733.113 1544.91 L733.113 1548.85 L711.169 1548.85 L711.169 1544.91 Q713.831 1542.16 718.414 1537.53 Q723.021 1532.88 724.201 1531.53 Q726.447 1529.01 727.326 1527.27 Q728.229 1525.51 728.229 1523.82 Q728.229 1521.07 726.285 1519.33 Q724.363 1517.6 721.261 1517.6 Q719.062 1517.6 716.609 1518.36 Q714.178 1519.13 711.4 1520.68 L711.4 1515.95 Q714.224 1514.82 716.678 1514.24 Q719.132 1513.66 721.169 1513.66 Q726.539 1513.66 729.734 1516.35 Q732.928 1519.03 732.928 1523.52 Q732.928 1525.65 732.118 1527.57 Q731.331 1529.47 729.224 1532.07 Q728.646 1532.74 725.544 1535.95 Q722.442 1539.15 716.794 1544.91 Z\" fill=\"#000000\" fill-rule=\"evenodd\" fill-opacity=\"1\" /><path clip-path=\"url(#clip880)\" d=\"M742.974 1514.29 L761.331 1514.29 L761.331 1518.22 L747.257 1518.22 L747.257 1526.7 Q748.275 1526.35 749.294 1526.19 Q750.312 1526 751.331 1526 Q757.118 1526 760.497 1529.17 Q763.877 1532.34 763.877 1537.76 Q763.877 1543.34 760.405 1546.44 Q756.933 1549.52 750.613 1549.52 Q748.437 1549.52 746.169 1549.15 Q743.923 1548.78 741.516 1548.04 L741.516 1543.34 Q743.599 1544.47 745.821 1545.03 Q748.044 1545.58 750.521 1545.58 Q754.525 1545.58 756.863 1543.48 Q759.201 1541.37 759.201 1537.76 Q759.201 1534.15 756.863 1532.04 Q754.525 1529.94 750.521 1529.94 Q748.646 1529.94 746.771 1530.35 Q744.919 1530.77 742.974 1531.65 L742.974 1514.29 Z\" fill=\"#000000\" fill-rule=\"evenodd\" fill-opacity=\"1\" /><path clip-path=\"url(#clip880)\" d=\"M783.09 1517.37 Q779.479 1517.37 777.65 1520.93 Q775.844 1524.47 775.844 1531.6 Q775.844 1538.71 777.65 1542.27 Q779.479 1545.82 783.09 1545.82 Q786.724 1545.82 788.53 1542.27 Q790.358 1538.71 790.358 1531.6 Q790.358 1524.47 788.53 1520.93 Q786.724 1517.37 783.09 1517.37 M783.09 1513.66 Q788.9 1513.66 791.955 1518.27 Q795.034 1522.85 795.034 1531.6 Q795.034 1540.33 791.955 1544.94 Q788.9 1549.52 783.09 1549.52 Q777.28 1549.52 774.201 1544.94 Q771.145 1540.33 771.145 1531.6 Q771.145 1522.85 774.201 1518.27 Q777.28 1513.66 783.09 1513.66 Z\" fill=\"#000000\" fill-rule=\"evenodd\" fill-opacity=\"1\" /><path clip-path=\"url(#clip880)\" d=\"M1225.43 1514.29 L1243.79 1514.29 L1243.79 1518.22 L1229.71 1518.22 L1229.71 1526.7 Q1230.73 1526.35 1231.75 1526.19 Q1232.77 1526 1233.79 1526 Q1239.57 1526 1242.95 1529.17 Q1246.33 1532.34 1246.33 1537.76 Q1246.33 1543.34 1242.86 1546.44 Q1239.39 1549.52 1233.07 1549.52 Q1230.89 1549.52 1228.62 1549.15 Q1226.38 1548.78 1223.97 1548.04 L1223.97 1543.34 Q1226.05 1544.47 1228.28 1545.03 Q1230.5 1545.58 1232.98 1545.58 Q1236.98 1545.58 1239.32 1543.48 Q1241.66 1541.37 1241.66 1537.76 Q1241.66 1534.15 1239.32 1532.04 Q1236.98 1529.94 1232.98 1529.94 Q1231.1 1529.94 1229.23 1530.35 Q1227.37 1530.77 1225.43 1531.65 L1225.43 1514.29 Z\" fill=\"#000000\" fill-rule=\"evenodd\" fill-opacity=\"1\" /><path clip-path=\"url(#clip880)\" d=\"M1265.55 1517.37 Q1261.93 1517.37 1260.11 1520.93 Q1258.3 1524.47 1258.3 1531.6 Q1258.3 1538.71 1260.11 1542.27 Q1261.93 1545.82 1265.55 1545.82 Q1269.18 1545.82 1270.98 1542.27 Q1272.81 1538.71 1272.81 1531.6 Q1272.81 1524.47 1270.98 1520.93 Q1269.18 1517.37 1265.55 1517.37 M1265.55 1513.66 Q1271.36 1513.66 1274.41 1518.27 Q1277.49 1522.85 1277.49 1531.6 Q1277.49 1540.33 1274.41 1544.94 Q1271.36 1549.52 1265.55 1549.52 Q1259.73 1549.52 1256.66 1544.94 Q1253.6 1540.33 1253.6 1531.6 Q1253.6 1522.85 1256.66 1518.27 Q1259.73 1513.66 1265.55 1513.66 Z\" fill=\"#000000\" fill-rule=\"evenodd\" fill-opacity=\"1\" /><path clip-path=\"url(#clip880)\" d=\"M1295.71 1517.37 Q1292.1 1517.37 1290.27 1520.93 Q1288.46 1524.47 1288.46 1531.6 Q1288.46 1538.71 1290.27 1542.27 Q1292.1 1545.82 1295.71 1545.82 Q1299.34 1545.82 1301.15 1542.27 Q1302.98 1538.71 1302.98 1531.6 Q1302.98 1524.47 1301.15 1520.93 Q1299.34 1517.37 1295.71 1517.37 M1295.71 1513.66 Q1301.52 1513.66 1304.57 1518.27 Q1307.65 1522.85 1307.65 1531.6 Q1307.65 1540.33 1304.57 1544.94 Q1301.52 1549.52 1295.71 1549.52 Q1289.9 1549.52 1286.82 1544.94 Q1283.76 1540.33 1283.76 1531.6 Q1283.76 1522.85 1286.82 1518.27 Q1289.9 1513.66 1295.71 1513.66 Z\" fill=\"#000000\" fill-rule=\"evenodd\" fill-opacity=\"1\" /><path clip-path=\"url(#clip880)\" d=\"M1736.8 1514.29 L1759.02 1514.29 L1759.02 1516.28 L1746.47 1548.85 L1741.59 1548.85 L1753.39 1518.22 L1736.8 1518.22 L1736.8 1514.29 Z\" fill=\"#000000\" fill-rule=\"evenodd\" fill-opacity=\"1\" /><path clip-path=\"url(#clip880)\" d=\"M1768.19 1514.29 L1786.54 1514.29 L1786.54 1518.22 L1772.47 1518.22 L1772.47 1526.7 Q1773.49 1526.35 1774.5 1526.19 Q1775.52 1526 1776.54 1526 Q1782.33 1526 1785.71 1529.17 Q1789.09 1532.34 1789.09 1537.76 Q1789.09 1543.34 1785.62 1546.44 Q1782.14 1549.52 1775.82 1549.52 Q1773.65 1549.52 1771.38 1549.15 Q1769.13 1548.78 1766.73 1548.04 L1766.73 1543.34 Q1768.81 1544.47 1771.03 1545.03 Q1773.25 1545.58 1775.73 1545.58 Q1779.74 1545.58 1782.07 1543.48 Q1784.41 1541.37 1784.41 1537.76 Q1784.41 1534.15 1782.07 1532.04 Q1779.74 1529.94 1775.73 1529.94 Q1773.86 1529.94 1771.98 1530.35 Q1770.13 1530.77 1768.19 1531.65 L1768.19 1514.29 Z\" fill=\"#000000\" fill-rule=\"evenodd\" fill-opacity=\"1\" /><path clip-path=\"url(#clip880)\" d=\"M1808.3 1517.37 Q1804.69 1517.37 1802.86 1520.93 Q1801.06 1524.47 1801.06 1531.6 Q1801.06 1538.71 1802.86 1542.27 Q1804.69 1545.82 1808.3 1545.82 Q1811.94 1545.82 1813.74 1542.27 Q1815.57 1538.71 1815.57 1531.6 Q1815.57 1524.47 1813.74 1520.93 Q1811.94 1517.37 1808.3 1517.37 M1808.3 1513.66 Q1814.11 1513.66 1817.17 1518.27 Q1820.25 1522.85 1820.25 1531.6 Q1820.25 1540.33 1817.17 1544.94 Q1814.11 1549.52 1808.3 1549.52 Q1802.49 1549.52 1799.41 1544.94 Q1796.36 1540.33 1796.36 1531.6 Q1796.36 1522.85 1799.41 1518.27 Q1802.49 1513.66 1808.3 1513.66 Z\" fill=\"#000000\" fill-rule=\"evenodd\" fill-opacity=\"1\" /><path clip-path=\"url(#clip880)\" d=\"M2235.76 1544.91 L2243.4 1544.91 L2243.4 1518.55 L2235.09 1520.21 L2235.09 1515.95 L2243.35 1514.29 L2248.02 1514.29 L2248.02 1544.91 L2255.66 1544.91 L2255.66 1548.85 L2235.76 1548.85 L2235.76 1544.91 Z\" fill=\"#000000\" fill-rule=\"evenodd\" fill-opacity=\"1\" /><path clip-path=\"url(#clip880)\" d=\"M2275.11 1517.37 Q2271.5 1517.37 2269.67 1520.93 Q2267.86 1524.47 2267.86 1531.6 Q2267.86 1538.71 2269.67 1542.27 Q2271.5 1545.82 2275.11 1545.82 Q2278.74 1545.82 2280.55 1542.27 Q2282.38 1538.71 2282.38 1531.6 Q2282.38 1524.47 2280.55 1520.93 Q2278.74 1517.37 2275.11 1517.37 M2275.11 1513.66 Q2280.92 1513.66 2283.97 1518.27 Q2287.05 1522.85 2287.05 1531.6 Q2287.05 1540.33 2283.97 1544.94 Q2280.92 1549.52 2275.11 1549.52 Q2269.3 1549.52 2266.22 1544.94 Q2263.16 1540.33 2263.16 1531.6 Q2263.16 1522.85 2266.22 1518.27 Q2269.3 1513.66 2275.11 1513.66 Z\" fill=\"#000000\" fill-rule=\"evenodd\" fill-opacity=\"1\" /><path clip-path=\"url(#clip880)\" d=\"M2305.27 1517.37 Q2301.66 1517.37 2299.83 1520.93 Q2298.02 1524.47 2298.02 1531.6 Q2298.02 1538.71 2299.83 1542.27 Q2301.66 1545.82 2305.27 1545.82 Q2308.9 1545.82 2310.71 1542.27 Q2312.54 1538.71 2312.54 1531.6 Q2312.54 1524.47 2310.71 1520.93 Q2308.9 1517.37 2305.27 1517.37 M2305.27 1513.66 Q2311.08 1513.66 2314.14 1518.27 Q2317.21 1522.85 2317.21 1531.6 Q2317.21 1540.33 2314.14 1544.94 Q2311.08 1549.52 2305.27 1549.52 Q2299.46 1549.52 2296.38 1544.94 Q2293.33 1540.33 2293.33 1531.6 Q2293.33 1522.85 2296.38 1518.27 Q2299.46 1513.66 2305.27 1513.66 Z\" fill=\"#000000\" fill-rule=\"evenodd\" fill-opacity=\"1\" /><path clip-path=\"url(#clip880)\" d=\"M2335.43 1517.37 Q2331.82 1517.37 2329.99 1520.93 Q2328.19 1524.47 2328.19 1531.6 Q2328.19 1538.71 2329.99 1542.27 Q2331.82 1545.82 2335.43 1545.82 Q2339.07 1545.82 2340.87 1542.27 Q2342.7 1538.71 2342.7 1531.6 Q2342.7 1524.47 2340.87 1520.93 Q2339.07 1517.37 2335.43 1517.37 M2335.43 1513.66 Q2341.24 1513.66 2344.3 1518.27 Q2347.38 1522.85 2347.38 1531.6 Q2347.38 1540.33 2344.3 1544.94 Q2341.24 1549.52 2335.43 1549.52 Q2329.62 1549.52 2326.54 1544.94 Q2323.49 1540.33 2323.49 1531.6 Q2323.49 1522.85 2326.54 1518.27 Q2329.62 1513.66 2335.43 1513.66 Z\" fill=\"#000000\" fill-rule=\"evenodd\" fill-opacity=\"1\" /><polyline clip-path=\"url(#clip882)\" style=\"stroke:#000000; stroke-linecap:round; stroke-linejoin:round; stroke-width:2; stroke-opacity:0.1; fill:none\" points=\"\n  178.867,1445.72 2352.76,1445.72 \n  \"/>\n<polyline clip-path=\"url(#clip882)\" style=\"stroke:#000000; stroke-linecap:round; stroke-linejoin:round; stroke-width:2; stroke-opacity:0.1; fill:none\" points=\"\n  178.867,982.594 2352.76,982.594 \n  \"/>\n<polyline clip-path=\"url(#clip882)\" style=\"stroke:#000000; stroke-linecap:round; stroke-linejoin:round; stroke-width:2; stroke-opacity:0.1; fill:none\" points=\"\n  178.867,519.472 2352.76,519.472 \n  \"/>\n<polyline clip-path=\"url(#clip882)\" style=\"stroke:#000000; stroke-linecap:round; stroke-linejoin:round; stroke-width:2; stroke-opacity:0.1; fill:none\" points=\"\n  178.867,56.3505 2352.76,56.3505 \n  \"/>\n<polyline clip-path=\"url(#clip880)\" style=\"stroke:#000000; stroke-linecap:round; stroke-linejoin:round; stroke-width:4; stroke-opacity:1; fill:none\" points=\"\n  178.867,1486.45 178.867,47.2441 \n  \"/>\n<polyline clip-path=\"url(#clip880)\" style=\"stroke:#000000; stroke-linecap:round; stroke-linejoin:round; stroke-width:4; stroke-opacity:1; fill:none\" points=\"\n  178.867,1445.72 197.764,1445.72 \n  \"/>\n<polyline clip-path=\"url(#clip880)\" style=\"stroke:#000000; stroke-linecap:round; stroke-linejoin:round; stroke-width:4; stroke-opacity:1; fill:none\" points=\"\n  178.867,982.594 197.764,982.594 \n  \"/>\n<polyline clip-path=\"url(#clip880)\" style=\"stroke:#000000; stroke-linecap:round; stroke-linejoin:round; stroke-width:4; stroke-opacity:1; fill:none\" points=\"\n  178.867,519.472 197.764,519.472 \n  \"/>\n<polyline clip-path=\"url(#clip880)\" style=\"stroke:#000000; stroke-linecap:round; stroke-linejoin:round; stroke-width:4; stroke-opacity:1; fill:none\" points=\"\n  178.867,56.3505 197.764,56.3505 \n  \"/>\n<path clip-path=\"url(#clip880)\" d=\"M50.9921 1446.17 L80.6679 1446.17 L80.6679 1450.1 L50.9921 1450.1 L50.9921 1446.17 Z\" fill=\"#000000\" fill-rule=\"evenodd\" fill-opacity=\"1\" /><path clip-path=\"url(#clip880)\" d=\"M94.7882 1459.06 L111.108 1459.06 L111.108 1463 L89.1632 1463 L89.1632 1459.06 Q91.8252 1456.31 96.4085 1451.68 Q101.015 1447.02 102.196 1445.68 Q104.441 1443.16 105.321 1441.42 Q106.223 1439.66 106.223 1437.97 Q106.223 1435.22 104.279 1433.48 Q102.358 1431.75 99.2558 1431.75 Q97.0567 1431.75 94.603 1432.51 Q92.1725 1433.27 89.3947 1434.82 L89.3947 1430.1 Q92.2188 1428.97 94.6724 1428.39 Q97.1261 1427.81 99.1632 1427.81 Q104.534 1427.81 107.728 1430.5 Q110.922 1433.18 110.922 1437.67 Q110.922 1439.8 110.112 1441.72 Q109.325 1443.62 107.219 1446.21 Q106.64 1446.88 103.538 1450.1 Q100.436 1453.3 94.7882 1459.06 Z\" fill=\"#000000\" fill-rule=\"evenodd\" fill-opacity=\"1\" /><path clip-path=\"url(#clip880)\" d=\"M130.922 1431.51 Q127.311 1431.51 125.482 1435.08 Q123.677 1438.62 123.677 1445.75 Q123.677 1452.86 125.482 1456.42 Q127.311 1459.96 130.922 1459.96 Q134.556 1459.96 136.362 1456.42 Q138.191 1452.86 138.191 1445.75 Q138.191 1438.62 136.362 1435.08 Q134.556 1431.51 130.922 1431.51 M130.922 1427.81 Q136.732 1427.81 139.788 1432.42 Q142.867 1437 142.867 1445.75 Q142.867 1454.48 139.788 1459.08 Q136.732 1463.67 130.922 1463.67 Q125.112 1463.67 122.033 1459.08 Q118.978 1454.48 118.978 1445.75 Q118.978 1437 122.033 1432.42 Q125.112 1427.81 130.922 1427.81 Z\" fill=\"#000000\" fill-rule=\"evenodd\" fill-opacity=\"1\" /><path clip-path=\"url(#clip880)\" d=\"M50.9921 983.045 L80.6679 983.045 L80.6679 986.98 L50.9921 986.98 L50.9921 983.045 Z\" fill=\"#000000\" fill-rule=\"evenodd\" fill-opacity=\"1\" /><path clip-path=\"url(#clip880)\" d=\"M91.5706 995.939 L99.2095 995.939 L99.2095 969.573 L90.8993 971.24 L90.8993 966.981 L99.1632 965.314 L103.839 965.314 L103.839 995.939 L111.478 995.939 L111.478 999.874 L91.5706 999.874 L91.5706 995.939 Z\" fill=\"#000000\" fill-rule=\"evenodd\" fill-opacity=\"1\" /><path clip-path=\"url(#clip880)\" d=\"M130.922 968.393 Q127.311 968.393 125.482 971.957 Q123.677 975.499 123.677 982.629 Q123.677 989.735 125.482 993.3 Q127.311 996.842 130.922 996.842 Q134.556 996.842 136.362 993.3 Q138.191 989.735 138.191 982.629 Q138.191 975.499 136.362 971.957 Q134.556 968.393 130.922 968.393 M130.922 964.689 Q136.732 964.689 139.788 969.295 Q142.867 973.879 142.867 982.629 Q142.867 991.355 139.788 995.962 Q136.732 1000.55 130.922 1000.55 Q125.112 1000.55 122.033 995.962 Q118.978 991.355 118.978 982.629 Q118.978 973.879 122.033 969.295 Q125.112 964.689 130.922 964.689 Z\" fill=\"#000000\" fill-rule=\"evenodd\" fill-opacity=\"1\" /><path clip-path=\"url(#clip880)\" d=\"M130.922 505.271 Q127.311 505.271 125.482 508.836 Q123.677 512.377 123.677 519.507 Q123.677 526.613 125.482 530.178 Q127.311 533.72 130.922 533.72 Q134.556 533.72 136.362 530.178 Q138.191 526.613 138.191 519.507 Q138.191 512.377 136.362 508.836 Q134.556 505.271 130.922 505.271 M130.922 501.567 Q136.732 501.567 139.788 506.174 Q142.867 510.757 142.867 519.507 Q142.867 528.234 139.788 532.84 Q136.732 537.423 130.922 537.423 Q125.112 537.423 122.033 532.84 Q118.978 528.234 118.978 519.507 Q118.978 510.757 122.033 506.174 Q125.112 501.567 130.922 501.567 Z\" fill=\"#000000\" fill-rule=\"evenodd\" fill-opacity=\"1\" /><path clip-path=\"url(#clip880)\" d=\"M91.5706 69.6953 L99.2095 69.6953 L99.2095 43.3297 L90.8993 44.9964 L90.8993 40.7371 L99.1632 39.0705 L103.839 39.0705 L103.839 69.6953 L111.478 69.6953 L111.478 73.6305 L91.5706 73.6305 L91.5706 69.6953 Z\" fill=\"#000000\" fill-rule=\"evenodd\" fill-opacity=\"1\" /><path clip-path=\"url(#clip880)\" d=\"M130.922 42.1492 Q127.311 42.1492 125.482 45.7139 Q123.677 49.2556 123.677 56.3852 Q123.677 63.4916 125.482 67.0564 Q127.311 70.5981 130.922 70.5981 Q134.556 70.5981 136.362 67.0564 Q138.191 63.4916 138.191 56.3852 Q138.191 49.2556 136.362 45.7139 Q134.556 42.1492 130.922 42.1492 M130.922 38.4455 Q136.732 38.4455 139.788 43.0519 Q142.867 47.6352 142.867 56.3852 Q142.867 65.112 139.788 69.7184 Q136.732 74.3018 130.922 74.3018 Q125.112 74.3018 122.033 69.7184 Q118.978 65.112 118.978 56.3852 Q118.978 47.6352 122.033 43.0519 Q125.112 38.4455 130.922 38.4455 Z\" fill=\"#000000\" fill-rule=\"evenodd\" fill-opacity=\"1\" /><polyline clip-path=\"url(#clip882)\" style=\"stroke:#009af9; stroke-linecap:round; stroke-linejoin:round; stroke-width:4; stroke-opacity:1; fill:none\" points=\"\n  240.392,1445.72 240.6,1380.36 240.809,1363.57 241.018,1351.8 241.226,1342.45 241.435,1334.56 241.644,1327.67 241.852,1321.51 242.061,1315.91 242.478,1305.99 \n  242.895,1297.33 243.313,1289.58 243.73,1282.55 244.564,1270.08 245.399,1259.19 246.233,1249.46 247.068,1240.61 248.737,1224.94 250.406,1211.25 251.24,1204.97 \n  252.075,1199.01 252.909,1193.33 253.744,1187.9 257.602,1165.37 261.46,1146.02 265.318,1128.92 269.176,1113.51 273.034,1099.44 276.892,1086.43 280.751,1074.32 \n  284.609,1062.96 292.325,1042.09 300.041,1023.21 307.757,1005.91 315.474,989.883 330.906,960.879 346.338,935.025 361.771,911.586 377.203,890.068 395.752,866.259 \n  414.3,844.286 432.849,823.832 451.397,804.66 482.762,774.662 514.127,747.165 548.198,719.592 582.269,693.995 613.68,671.871 645.091,650.962 678.766,629.72 \n  712.442,609.545 751.458,587.342 790.474,566.247 859.821,531.105 920.631,502.399 986.931,472.999 1053.62,445.14 1127.36,416.067 1197.52,389.872 1270.47,363.966 \n  1331.88,343.096 1406.86,318.657 1475.54,297.177 1538.97,278.038 1603.22,259.279 1675.23,238.947 1740.48,221.105 1815.2,201.305 1884.37,183.526 1952.57,166.481 \n  2018.78,150.363 2086.66,134.251 2161.03,117.048 2269.07,92.836 2291.23,87.9763 \n  \"/>\n<path clip-path=\"url(#clip880)\" d=\"\nM1986.32 198.898 L2280.29 198.898 L2280.29 95.2176 L1986.32 95.2176  Z\n  \" fill=\"#ffffff\" fill-rule=\"evenodd\" fill-opacity=\"1\"/>\n<polyline clip-path=\"url(#clip880)\" style=\"stroke:#000000; stroke-linecap:round; stroke-linejoin:round; stroke-width:4; stroke-opacity:1; fill:none\" points=\"\n  1986.32,198.898 2280.29,198.898 2280.29,95.2176 1986.32,95.2176 1986.32,198.898 \n  \"/>\n<polyline clip-path=\"url(#clip880)\" style=\"stroke:#009af9; stroke-linecap:round; stroke-linejoin:round; stroke-width:4; stroke-opacity:1; fill:none\" points=\"\n  2010.47,147.058 2155.4,147.058 \n  \"/>\n<path clip-path=\"url(#clip880)\" d=\"M2193.4 166.745 Q2191.59 171.375 2189.88 172.787 Q2188.17 174.199 2185.29 174.199 L2181.89 174.199 L2181.89 170.634 L2184.39 170.634 Q2186.15 170.634 2187.12 169.8 Q2188.1 168.967 2189.28 165.865 L2190.04 163.921 L2179.55 138.412 L2184.07 138.412 L2192.17 158.689 L2200.27 138.412 L2204.79 138.412 L2193.4 166.745 Z\" fill=\"#000000\" fill-rule=\"evenodd\" fill-opacity=\"1\" /><path clip-path=\"url(#clip880)\" d=\"M2212.08 160.402 L2219.72 160.402 L2219.72 134.037 L2211.41 135.703 L2211.41 131.444 L2219.67 129.778 L2224.35 129.778 L2224.35 160.402 L2231.98 160.402 L2231.98 164.338 L2212.08 164.338 L2212.08 160.402 Z\" fill=\"#000000\" fill-rule=\"evenodd\" fill-opacity=\"1\" /></svg>\n"
     },
     "metadata": {},
     "output_type": "display_data"
    },
    {
     "name": "stdout",
     "output_type": "stream",
     "text": [
      "313.82905691862106\n"
     ]
    }
   ],
   "source": [
    "# my bisection function\n",
    "function my_bisection(f::Function, a::Number, b::Number; tol::AbstractFloat=1e-5, maxiter::Integer=100)\n",
    "    fa = f(a)\n",
    "    fb = f(b)\n",
    "\n",
    "    fa*fb <= 0 || error(\"No real root in [a,b]!\")\n",
    "    local c\n",
    "    while b-a > tol\n",
    "        c = (a+b)/2\n",
    "        fc = f(c)\n",
    "        if fc == 0\n",
    "            break\n",
    "        elseif fa*fc > 0\n",
    "            a = c\n",
    "            fa = fc\n",
    "        else\n",
    "            b = c\n",
    "        end\n",
    "    \n",
    "    end\n",
    "    return c\n",
    "end\n",
    "\n",
    "# we will test it...\n",
    "funny_fun(x; α = 0.33) =   3*x ^ α - 20 \n",
    "display(plot(funny_fun,0,1000))\n",
    "\n",
    "root = my_bisection(funny_fun,0,1000)\n",
    "\n",
    "println(root)"
   ]
  },
  {
   "cell_type": "code",
   "execution_count": null,
   "metadata": {},
   "outputs": [],
   "source": []
  }
 ],
 "metadata": {
  "kernelspec": {
   "display_name": "Julia 1.7.2",
   "language": "julia",
   "name": "julia-1.7"
  },
  "language_info": {
   "file_extension": ".jl",
   "mimetype": "application/julia",
   "name": "julia",
   "version": "1.7.2"
  },
  "orig_nbformat": 4
 },
 "nbformat": 4,
 "nbformat_minor": 2
}
