{
 "cells": [
  {
   "cell_type": "markdown",
   "metadata": {},
   "source": [
    "Here we will plot some solutions to the problem we analyzed last week\n",
    "$$u'\\left(c_t\\right) = \\beta \\left(1+r\\right) u'\\left(c_{t+1}\\right)$$"
   ]
  },
  {
   "cell_type": "markdown",
   "metadata": {},
   "source": []
  },
  {
   "cell_type": "code",
   "execution_count": 7,
   "metadata": {},
   "outputs": [],
   "source": [
    "using Plots \n",
    "using Distributions\n",
    "using Parameters\n",
    "\n"
   ]
  },
  {
   "cell_type": "code",
   "execution_count": 108,
   "metadata": {},
   "outputs": [
    {
     "data": {
      "text/plain": [
       "##NamedTuple_kw#299 (generic function with 2 methods)"
      ]
     },
     "metadata": {},
     "output_type": "display_data"
    }
   ],
   "source": [
    "Household = @with_kw (r = 0.00,                 \n",
    "                      σ = 1.0,\n",
    "                      β = 1.00,\n",
    "                      T = 40,\n",
    "                      y = ones(T+1,1),\n",
    "                      a0 = 0.3,\n",
    "                      u = σ == 1 ? x -> log(x) : x -> (x^(1 - σ) - 1) / (1 - σ)\n",
    "\t\t\t\t\t  )"
   ]
  },
  {
   "cell_type": "code",
   "execution_count": 111,
   "metadata": {},
   "outputs": [
    {
     "data": {
      "image/png": "[encoded data removed]",
      "image/svg+xml": "<?xml version=\"1.0\" encoding=\"utf-8\"?>\n<svg xmlns=\"http://www.w3.org/2000/svg\" xmlns:xlink=\"http://www.w3.org/1999/xlink\" width=\"600\" height=\"400\" viewBox=\"0 0 2400 1600\">\n<defs>\n  <clipPath id=\"clip110\">\n    <rect x=\"0\" y=\"0\" width=\"2400\" height=\"1600\"/>\n  </clipPath>\n</defs>\n<path clip-path=\"url(#clip110)\" d=\"\nM0 1600 L2400 1600 L2400 0 L0 0  Z\n  \" fill=\"#ffffff\" fill-rule=\"evenodd\" fill-opacity=\"1\"/>\n<defs>\n  <clipPath id=\"clip111\">\n    <rect x=\"480\" y=\"0\" width=\"1681\" height=\"1600\"/>\n  </clipPath>\n</defs>\n<path clip-path=\"url(#clip110)\" d=\"\nM156.112 1486.45 L2352.76 1486.45 L2352.76 47.2441 L156.112 47.2441  Z\n  \" fill=\"#ffffff\" fill-rule=\"evenodd\" fill-opacity=\"1\"/>\n<defs>\n  <clipPath id=\"clip112\">\n    <rect x=\"156\" y=\"47\" width=\"2198\" height=\"1440\"/>\n  </clipPath>\n</defs>\n<polyline clip-path=\"url(#clip112)\" style=\"stroke:#000000; stroke-linecap:round; stroke-linejoin:round; stroke-width:2; stroke-opacity:0.1; fill:none\" points=\"\n  166.474,1486.45 166.474,47.2441 \n  \"/>\n<polyline clip-path=\"url(#clip112)\" style=\"stroke:#000000; stroke-linecap:round; stroke-linejoin:round; stroke-width:2; stroke-opacity:0.1; fill:none\" points=\"\n  684.55,1486.45 684.55,47.2441 \n  \"/>\n<polyline clip-path=\"url(#clip112)\" style=\"stroke:#000000; stroke-linecap:round; stroke-linejoin:round; stroke-width:2; stroke-opacity:0.1; fill:none\" points=\"\n  1202.63,1486.45 1202.63,47.2441 \n  \"/>\n<polyline clip-path=\"url(#clip112)\" style=\"stroke:#000000; stroke-linecap:round; stroke-linejoin:round; stroke-width:2; stroke-opacity:0.1; fill:none\" points=\"\n  1720.7,1486.45 1720.7,47.2441 \n  \"/>\n<polyline clip-path=\"url(#clip112)\" style=\"stroke:#000000; stroke-linecap:round; stroke-linejoin:round; stroke-width:2; stroke-opacity:0.1; fill:none\" points=\"\n  2238.78,1486.45 2238.78,47.2441 \n  \"/>\n<polyline clip-path=\"url(#clip110)\" style=\"stroke:#000000; stroke-linecap:round; stroke-linejoin:round; stroke-width:4; stroke-opacity:1; fill:none\" points=\"\n  156.112,1486.45 2352.76,1486.45 \n  \"/>\n<polyline clip-path=\"url(#clip110)\" style=\"stroke:#000000; stroke-linecap:round; stroke-linejoin:round; stroke-width:4; stroke-opacity:1; fill:none\" points=\"\n  166.474,1486.45 166.474,1467.55 \n  \"/>\n<polyline clip-path=\"url(#clip110)\" style=\"stroke:#000000; stroke-linecap:round; stroke-linejoin:round; stroke-width:4; stroke-opacity:1; fill:none\" points=\"\n  684.55,1486.45 684.55,1467.55 \n  \"/>\n<polyline clip-path=\"url(#clip110)\" style=\"stroke:#000000; stroke-linecap:round; stroke-linejoin:round; stroke-width:4; stroke-opacity:1; fill:none\" points=\"\n  1202.63,1486.45 1202.63,1467.55 \n  \"/>\n<polyline clip-path=\"url(#clip110)\" style=\"stroke:#000000; stroke-linecap:round; stroke-linejoin:round; stroke-width:4; stroke-opacity:1; fill:none\" points=\"\n  1720.7,1486.45 1720.7,1467.55 \n  \"/>\n<polyline clip-path=\"url(#clip110)\" style=\"stroke:#000000; stroke-linecap:round; stroke-linejoin:round; stroke-width:4; stroke-opacity:1; fill:none\" points=\"\n  2238.78,1486.45 2238.78,1467.55 \n  \"/>\n<path clip-path=\"url(#clip110)\" d=\"M166.474 1517.37 Q162.863 1517.37 161.034 1520.93 Q159.228 1524.47 159.228 1531.6 Q159.228 1538.71 161.034 1542.27 Q162.863 1545.82 166.474 1545.82 Q170.108 1545.82 171.913 1542.27 Q173.742 1538.71 173.742 1531.6 Q173.742 1524.47 171.913 1520.93 Q170.108 1517.37 166.474 1517.37 M166.474 1513.66 Q172.284 1513.66 175.339 1518.27 Q178.418 1522.85 178.418 1531.6 Q178.418 1540.33 175.339 1544.94 Q172.284 1549.52 166.474 1549.52 Q160.663 1549.52 157.585 1544.94 Q154.529 1540.33 154.529 1531.6 Q154.529 1522.85 157.585 1518.27 Q160.663 1513.66 166.474 1513.66 Z\" fill=\"#000000\" fill-rule=\"evenodd\" fill-opacity=\"1\" /><path clip-path=\"url(#clip110)\" d=\"M659.238 1544.91 L666.876 1544.91 L666.876 1518.55 L658.566 1520.21 L658.566 1515.95 L666.83 1514.29 L671.506 1514.29 L671.506 1544.91 L679.145 1544.91 L679.145 1548.85 L659.238 1548.85 L659.238 1544.91 Z\" fill=\"#000000\" fill-rule=\"evenodd\" fill-opacity=\"1\" /><path clip-path=\"url(#clip110)\" d=\"M698.589 1517.37 Q694.978 1517.37 693.15 1520.93 Q691.344 1524.47 691.344 1531.6 Q691.344 1538.71 693.15 1542.27 Q694.978 1545.82 698.589 1545.82 Q702.224 1545.82 704.029 1542.27 Q705.858 1538.71 705.858 1531.6 Q705.858 1524.47 704.029 1520.93 Q702.224 1517.37 698.589 1517.37 M698.589 1513.66 Q704.399 1513.66 707.455 1518.27 Q710.534 1522.85 710.534 1531.6 Q710.534 1540.33 707.455 1544.94 Q704.399 1549.52 698.589 1549.52 Q692.779 1549.52 689.7 1544.94 Q686.645 1540.33 686.645 1531.6 Q686.645 1522.85 689.7 1518.27 Q692.779 1513.66 698.589 1513.66 Z\" fill=\"#000000\" fill-rule=\"evenodd\" fill-opacity=\"1\" /><path clip-path=\"url(#clip110)\" d=\"M1181.4 1544.91 L1197.72 1544.91 L1197.72 1548.85 L1175.77 1548.85 L1175.77 1544.91 Q1178.44 1542.16 1183.02 1537.53 Q1187.63 1532.88 1188.81 1531.53 Q1191.05 1529.01 1191.93 1527.27 Q1192.83 1525.51 1192.83 1523.82 Q1192.83 1521.07 1190.89 1519.33 Q1188.97 1517.6 1185.87 1517.6 Q1183.67 1517.6 1181.21 1518.36 Q1178.78 1519.13 1176.01 1520.68 L1176.01 1515.95 Q1178.83 1514.82 1181.28 1514.24 Q1183.74 1513.66 1185.77 1513.66 Q1191.14 1513.66 1194.34 1516.35 Q1197.53 1519.03 1197.53 1523.52 Q1197.53 1525.65 1196.72 1527.57 Q1195.94 1529.47 1193.83 1532.07 Q1193.25 1532.74 1190.15 1535.95 Q1187.05 1539.15 1181.4 1544.91 Z\" fill=\"#000000\" fill-rule=\"evenodd\" fill-opacity=\"1\" /><path clip-path=\"url(#clip110)\" d=\"M1217.53 1517.37 Q1213.92 1517.37 1212.09 1520.93 Q1210.29 1524.47 1210.29 1531.6 Q1210.29 1538.71 1212.09 1542.27 Q1213.92 1545.82 1217.53 1545.82 Q1221.17 1545.82 1222.97 1542.27 Q1224.8 1538.71 1224.8 1531.6 Q1224.8 1524.47 1222.97 1520.93 Q1221.17 1517.37 1217.53 1517.37 M1217.53 1513.66 Q1223.34 1513.66 1226.4 1518.27 Q1229.48 1522.85 1229.48 1531.6 Q1229.48 1540.33 1226.4 1544.94 Q1223.34 1549.52 1217.53 1549.52 Q1211.72 1549.52 1208.64 1544.94 Q1205.59 1540.33 1205.59 1531.6 Q1205.59 1522.85 1208.64 1518.27 Q1211.72 1513.66 1217.53 1513.66 Z\" fill=\"#000000\" fill-rule=\"evenodd\" fill-opacity=\"1\" /><path clip-path=\"url(#clip110)\" d=\"M1709.55 1530.21 Q1712.9 1530.93 1714.78 1533.2 Q1716.67 1535.47 1716.67 1538.8 Q1716.67 1543.92 1713.16 1546.72 Q1709.64 1549.52 1703.16 1549.52 Q1700.98 1549.52 1698.67 1549.08 Q1696.37 1548.66 1693.92 1547.81 L1693.92 1543.29 Q1695.86 1544.43 1698.18 1545.01 Q1700.49 1545.58 1703.02 1545.58 Q1707.42 1545.58 1709.71 1543.85 Q1712.02 1542.11 1712.02 1538.8 Q1712.02 1535.75 1709.87 1534.03 Q1707.74 1532.3 1703.92 1532.3 L1699.89 1532.3 L1699.89 1528.45 L1704.11 1528.45 Q1707.55 1528.45 1709.38 1527.09 Q1711.21 1525.7 1711.21 1523.11 Q1711.21 1520.45 1709.31 1519.03 Q1707.44 1517.6 1703.92 1517.6 Q1702 1517.6 1699.8 1518.01 Q1697.6 1518.43 1694.96 1519.31 L1694.96 1515.14 Q1697.62 1514.4 1699.94 1514.03 Q1702.28 1513.66 1704.34 1513.66 Q1709.66 1513.66 1712.76 1516.09 Q1715.86 1518.5 1715.86 1522.62 Q1715.86 1525.49 1714.22 1527.48 Q1712.58 1529.45 1709.55 1530.21 Z\" fill=\"#000000\" fill-rule=\"evenodd\" fill-opacity=\"1\" /><path clip-path=\"url(#clip110)\" d=\"M1735.54 1517.37 Q1731.93 1517.37 1730.1 1520.93 Q1728.3 1524.47 1728.3 1531.6 Q1728.3 1538.71 1730.1 1542.27 Q1731.93 1545.82 1735.54 1545.82 Q1739.17 1545.82 1740.98 1542.27 Q1742.81 1538.71 1742.81 1531.6 Q1742.81 1524.47 1740.98 1520.93 Q1739.17 1517.37 1735.54 1517.37 M1735.54 1513.66 Q1741.35 1513.66 1744.41 1518.27 Q1747.49 1522.85 1747.49 1531.6 Q1747.49 1540.33 1744.41 1544.94 Q1741.35 1549.52 1735.54 1549.52 Q1729.73 1549.52 1726.65 1544.94 Q1723.6 1540.33 1723.6 1531.6 Q1723.6 1522.85 1726.65 1518.27 Q1729.73 1513.66 1735.54 1513.66 Z\" fill=\"#000000\" fill-rule=\"evenodd\" fill-opacity=\"1\" /><path clip-path=\"url(#clip110)\" d=\"M2226.95 1518.36 L2215.14 1536.81 L2226.95 1536.81 L2226.95 1518.36 M2225.72 1514.29 L2231.6 1514.29 L2231.6 1536.81 L2236.53 1536.81 L2236.53 1540.7 L2231.6 1540.7 L2231.6 1548.85 L2226.95 1548.85 L2226.95 1540.7 L2211.35 1540.7 L2211.35 1536.19 L2225.72 1514.29 Z\" fill=\"#000000\" fill-rule=\"evenodd\" fill-opacity=\"1\" /><path clip-path=\"url(#clip110)\" d=\"M2254.27 1517.37 Q2250.65 1517.37 2248.83 1520.93 Q2247.02 1524.47 2247.02 1531.6 Q2247.02 1538.71 2248.83 1542.27 Q2250.65 1545.82 2254.27 1545.82 Q2257.9 1545.82 2259.7 1542.27 Q2261.53 1538.71 2261.53 1531.6 Q2261.53 1524.47 2259.7 1520.93 Q2257.9 1517.37 2254.27 1517.37 M2254.27 1513.66 Q2260.08 1513.66 2263.13 1518.27 Q2266.21 1522.85 2266.21 1531.6 Q2266.21 1540.33 2263.13 1544.94 Q2260.08 1549.52 2254.27 1549.52 Q2248.45 1549.52 2245.38 1544.94 Q2242.32 1540.33 2242.32 1531.6 Q2242.32 1522.85 2245.38 1518.27 Q2248.45 1513.66 2254.27 1513.66 Z\" fill=\"#000000\" fill-rule=\"evenodd\" fill-opacity=\"1\" /><polyline clip-path=\"url(#clip112)\" style=\"stroke:#000000; stroke-linecap:round; stroke-linejoin:round; stroke-width:2; stroke-opacity:0.1; fill:none\" points=\"\n  156.112,1445.72 2352.76,1445.72 \n  \"/>\n<polyline clip-path=\"url(#clip112)\" style=\"stroke:#000000; stroke-linecap:round; stroke-linejoin:round; stroke-width:2; stroke-opacity:0.1; fill:none\" points=\"\n  156.112,981.821 2352.76,981.821 \n  \"/>\n<polyline clip-path=\"url(#clip112)\" style=\"stroke:#000000; stroke-linecap:round; stroke-linejoin:round; stroke-width:2; stroke-opacity:0.1; fill:none\" points=\"\n  156.112,517.927 2352.76,517.927 \n  \"/>\n<polyline clip-path=\"url(#clip112)\" style=\"stroke:#000000; stroke-linecap:round; stroke-linejoin:round; stroke-width:2; stroke-opacity:0.1; fill:none\" points=\"\n  156.112,54.0328 2352.76,54.0328 \n  \"/>\n<polyline clip-path=\"url(#clip110)\" style=\"stroke:#000000; stroke-linecap:round; stroke-linejoin:round; stroke-width:4; stroke-opacity:1; fill:none\" points=\"\n  156.112,1486.45 156.112,47.2441 \n  \"/>\n<polyline clip-path=\"url(#clip110)\" style=\"stroke:#000000; stroke-linecap:round; stroke-linejoin:round; stroke-width:4; stroke-opacity:1; fill:none\" points=\"\n  156.112,1445.72 175.01,1445.72 \n  \"/>\n<polyline clip-path=\"url(#clip110)\" style=\"stroke:#000000; stroke-linecap:round; stroke-linejoin:round; stroke-width:4; stroke-opacity:1; fill:none\" points=\"\n  156.112,981.821 175.01,981.821 \n  \"/>\n<polyline clip-path=\"url(#clip110)\" style=\"stroke:#000000; stroke-linecap:round; stroke-linejoin:round; stroke-width:4; stroke-opacity:1; fill:none\" points=\"\n  156.112,517.927 175.01,517.927 \n  \"/>\n<polyline clip-path=\"url(#clip110)\" style=\"stroke:#000000; stroke-linecap:round; stroke-linejoin:round; stroke-width:4; stroke-opacity:1; fill:none\" points=\"\n  156.112,54.0328 175.01,54.0328 \n  \"/>\n<path clip-path=\"url(#clip110)\" d=\"M62.9365 1431.51 Q59.3254 1431.51 57.4967 1435.08 Q55.6912 1438.62 55.6912 1445.75 Q55.6912 1452.86 57.4967 1456.42 Q59.3254 1459.96 62.9365 1459.96 Q66.5707 1459.96 68.3763 1456.42 Q70.205 1452.86 70.205 1445.75 Q70.205 1438.62 68.3763 1435.08 Q66.5707 1431.51 62.9365 1431.51 M62.9365 1427.81 Q68.7467 1427.81 71.8022 1432.42 Q74.8809 1437 74.8809 1445.75 Q74.8809 1454.48 71.8022 1459.08 Q68.7467 1463.67 62.9365 1463.67 Q57.1264 1463.67 54.0477 1459.08 Q50.9921 1454.48 50.9921 1445.75 Q50.9921 1437 54.0477 1432.42 Q57.1264 1427.81 62.9365 1427.81 Z\" fill=\"#000000\" fill-rule=\"evenodd\" fill-opacity=\"1\" /><path clip-path=\"url(#clip110)\" d=\"M83.0984 1457.12 L87.9827 1457.12 L87.9827 1463 L83.0984 1463 L83.0984 1457.12 Z\" fill=\"#000000\" fill-rule=\"evenodd\" fill-opacity=\"1\" /><path clip-path=\"url(#clip110)\" d=\"M108.168 1431.51 Q104.557 1431.51 102.728 1435.08 Q100.922 1438.62 100.922 1445.75 Q100.922 1452.86 102.728 1456.42 Q104.557 1459.96 108.168 1459.96 Q111.802 1459.96 113.608 1456.42 Q115.436 1452.86 115.436 1445.75 Q115.436 1438.62 113.608 1435.08 Q111.802 1431.51 108.168 1431.51 M108.168 1427.81 Q113.978 1427.81 117.033 1432.42 Q120.112 1437 120.112 1445.75 Q120.112 1454.48 117.033 1459.08 Q113.978 1463.67 108.168 1463.67 Q102.358 1463.67 99.2789 1459.08 Q96.2234 1454.48 96.2234 1445.75 Q96.2234 1437 99.2789 1432.42 Q102.358 1427.81 108.168 1427.81 Z\" fill=\"#000000\" fill-rule=\"evenodd\" fill-opacity=\"1\" /><path clip-path=\"url(#clip110)\" d=\"M64.1634 967.62 Q60.5523 967.62 58.7236 971.185 Q56.918 974.727 56.918 981.856 Q56.918 988.963 58.7236 992.527 Q60.5523 996.069 64.1634 996.069 Q67.7976 996.069 69.6031 992.527 Q71.4318 988.963 71.4318 981.856 Q71.4318 974.727 69.6031 971.185 Q67.7976 967.62 64.1634 967.62 M64.1634 963.916 Q69.9735 963.916 73.029 968.523 Q76.1077 973.106 76.1077 981.856 Q76.1077 990.583 73.029 995.189 Q69.9735 999.773 64.1634 999.773 Q58.3532 999.773 55.2745 995.189 Q52.219 990.583 52.219 981.856 Q52.219 973.106 55.2745 968.523 Q58.3532 963.916 64.1634 963.916 Z\" fill=\"#000000\" fill-rule=\"evenodd\" fill-opacity=\"1\" /><path clip-path=\"url(#clip110)\" d=\"M84.3253 993.222 L89.2095 993.222 L89.2095 999.101 L84.3253 999.101 L84.3253 993.222 Z\" fill=\"#000000\" fill-rule=\"evenodd\" fill-opacity=\"1\" /><path clip-path=\"url(#clip110)\" d=\"M100.205 995.166 L107.844 995.166 L107.844 968.801 L99.5335 970.467 L99.5335 966.208 L107.797 964.541 L112.473 964.541 L112.473 995.166 L120.112 995.166 L120.112 999.101 L100.205 999.101 L100.205 995.166 Z\" fill=\"#000000\" fill-rule=\"evenodd\" fill-opacity=\"1\" /><path clip-path=\"url(#clip110)\" d=\"M64.5337 503.726 Q60.9226 503.726 59.0939 507.291 Q57.2884 510.832 57.2884 517.962 Q57.2884 525.068 59.0939 528.633 Q60.9226 532.175 64.5337 532.175 Q68.168 532.175 69.9735 528.633 Q71.8022 525.068 71.8022 517.962 Q71.8022 510.832 69.9735 507.291 Q68.168 503.726 64.5337 503.726 M64.5337 500.022 Q70.3439 500.022 73.3994 504.629 Q76.4781 509.212 76.4781 517.962 Q76.4781 526.689 73.3994 531.295 Q70.3439 535.878 64.5337 535.878 Q58.7236 535.878 55.6449 531.295 Q52.5893 526.689 52.5893 517.962 Q52.5893 509.212 55.6449 504.629 Q58.7236 500.022 64.5337 500.022 Z\" fill=\"#000000\" fill-rule=\"evenodd\" fill-opacity=\"1\" /><path clip-path=\"url(#clip110)\" d=\"M84.6956 529.327 L89.5799 529.327 L89.5799 535.207 L84.6956 535.207 L84.6956 529.327 Z\" fill=\"#000000\" fill-rule=\"evenodd\" fill-opacity=\"1\" /><path clip-path=\"url(#clip110)\" d=\"M103.793 531.272 L120.112 531.272 L120.112 535.207 L98.1678 535.207 L98.1678 531.272 Q100.83 528.517 105.413 523.888 Q110.02 519.235 111.2 517.892 Q113.445 515.369 114.325 513.633 Q115.228 511.874 115.228 510.184 Q115.228 507.429 113.283 505.693 Q111.362 503.957 108.26 503.957 Q106.061 503.957 103.608 504.721 Q101.177 505.485 98.3993 507.036 L98.3993 502.314 Q101.223 501.179 103.677 500.601 Q106.131 500.022 108.168 500.022 Q113.538 500.022 116.733 502.707 Q119.927 505.392 119.927 509.883 Q119.927 512.013 119.117 513.934 Q118.33 515.832 116.223 518.425 Q115.645 519.096 112.543 522.314 Q109.441 525.508 103.793 531.272 Z\" fill=\"#000000\" fill-rule=\"evenodd\" fill-opacity=\"1\" /><path clip-path=\"url(#clip110)\" d=\"M63.5847 39.8315 Q59.9736 39.8315 58.1449 43.3963 Q56.3393 46.9379 56.3393 54.0675 Q56.3393 61.174 58.1449 64.7388 Q59.9736 68.2804 63.5847 68.2804 Q67.2189 68.2804 69.0244 64.7388 Q70.8531 61.174 70.8531 54.0675 Q70.8531 46.9379 69.0244 43.3963 Q67.2189 39.8315 63.5847 39.8315 M63.5847 36.1278 Q69.3948 36.1278 72.4503 40.7343 Q75.529 45.3176 75.529 54.0675 Q75.529 62.7943 72.4503 67.4008 Q69.3948 71.9841 63.5847 71.9841 Q57.7745 71.9841 54.6958 67.4008 Q51.6403 62.7943 51.6403 54.0675 Q51.6403 45.3176 54.6958 40.7343 Q57.7745 36.1278 63.5847 36.1278 Z\" fill=\"#000000\" fill-rule=\"evenodd\" fill-opacity=\"1\" /><path clip-path=\"url(#clip110)\" d=\"M83.7466 65.4332 L88.6308 65.4332 L88.6308 71.3128 L83.7466 71.3128 L83.7466 65.4332 Z\" fill=\"#000000\" fill-rule=\"evenodd\" fill-opacity=\"1\" /><path clip-path=\"url(#clip110)\" d=\"M112.983 52.6786 Q116.339 53.3962 118.214 55.6647 Q120.112 57.9332 120.112 61.2665 Q120.112 66.3823 116.594 69.1832 Q113.075 71.9841 106.594 71.9841 Q104.418 71.9841 102.103 71.5443 Q99.8113 71.1276 97.3576 70.2711 L97.3576 65.7573 Q99.3021 66.8915 101.617 67.4702 Q103.932 68.0489 106.455 68.0489 Q110.853 68.0489 113.145 66.3128 Q115.459 64.5767 115.459 61.2665 Q115.459 58.211 113.307 56.4981 Q111.177 54.762 107.358 54.762 L103.33 54.762 L103.33 50.9194 L107.543 50.9194 Q110.992 50.9194 112.82 49.5536 Q114.649 48.1648 114.649 45.5722 Q114.649 42.9102 112.751 41.4981 Q110.876 40.063 107.358 40.063 Q105.436 40.063 103.237 40.4796 Q101.038 40.8963 98.3993 41.7759 L98.3993 37.6093 Q101.061 36.8685 103.376 36.4982 Q105.714 36.1278 107.774 36.1278 Q113.098 36.1278 116.2 38.5583 Q119.302 40.9657 119.302 45.0861 Q119.302 47.9564 117.658 49.9472 Q116.015 51.9147 112.983 52.6786 Z\" fill=\"#000000\" fill-rule=\"evenodd\" fill-opacity=\"1\" /><polyline clip-path=\"url(#clip112)\" style=\"stroke:#009af9; stroke-linecap:round; stroke-linejoin:round; stroke-width:4; stroke-opacity:1; fill:none\" points=\"\n  218.281,87.9763 270.089,121.92 321.897,155.863 373.704,189.807 425.512,223.75 477.319,257.694 529.127,291.637 580.935,325.581 632.742,359.524 684.55,393.468 \n  736.358,427.411 788.165,461.355 839.973,495.298 891.781,529.242 943.588,563.185 995.396,597.129 1047.2,631.072 1099.01,665.016 1150.82,698.959 1202.63,732.902 \n  1254.43,766.846 1306.24,800.789 1358.05,834.733 1409.86,868.676 1461.66,902.62 1513.47,936.563 1565.28,970.507 1617.09,1004.45 1668.9,1038.39 1720.7,1072.34 \n  1772.51,1106.28 1824.32,1140.22 1876.13,1174.17 1927.93,1208.11 1979.74,1242.05 2031.55,1276 2083.36,1309.94 2135.16,1343.89 2186.97,1377.83 2238.78,1411.77 \n  2290.59,1445.72 \n  \"/>\n<path clip-path=\"url(#clip110)\" d=\"\nM1983.03 198.898 L2279.53 198.898 L2279.53 95.2176 L1983.03 95.2176  Z\n  \" fill=\"#ffffff\" fill-rule=\"evenodd\" fill-opacity=\"1\"/>\n<polyline clip-path=\"url(#clip110)\" style=\"stroke:#000000; stroke-linecap:round; stroke-linejoin:round; stroke-width:4; stroke-opacity:1; fill:none\" points=\"\n  1983.03,198.898 2279.53,198.898 2279.53,95.2176 1983.03,95.2176 1983.03,198.898 \n  \"/>\n<polyline clip-path=\"url(#clip110)\" style=\"stroke:#009af9; stroke-linecap:round; stroke-linejoin:round; stroke-width:4; stroke-opacity:1; fill:none\" points=\"\n  2007.44,147.058 2153.88,147.058 \n  \"/>\n<path clip-path=\"url(#clip110)\" d=\"M2192.13 166.745 Q2190.33 171.375 2188.61 172.787 Q2186.9 174.199 2184.03 174.199 L2180.63 174.199 L2180.63 170.634 L2183.13 170.634 Q2184.89 170.634 2185.86 169.8 Q2186.83 168.967 2188.01 165.865 L2188.78 163.921 L2178.29 138.412 L2182.8 138.412 L2190.91 158.689 L2199.01 138.412 L2203.52 138.412 L2192.13 166.745 Z\" fill=\"#000000\" fill-rule=\"evenodd\" fill-opacity=\"1\" /><path clip-path=\"url(#clip110)\" d=\"M2210.81 160.402 L2218.45 160.402 L2218.45 134.037 L2210.14 135.703 L2210.14 131.444 L2218.41 129.778 L2223.08 129.778 L2223.08 160.402 L2230.72 160.402 L2230.72 164.338 L2210.81 164.338 L2210.81 160.402 Z\" fill=\"#000000\" fill-rule=\"evenodd\" fill-opacity=\"1\" /></svg>\n",
      "text/html": [
       "<?xml version=\"1.0\" encoding=\"utf-8\"?>\n",
       "<svg xmlns=\"http://www.w3.org/2000/svg\" xmlns:xlink=\"http://www.w3.org/1999/xlink\" width=\"600\" height=\"400\" viewBox=\"0 0 2400 1600\">\n",
       "<defs>\n",
       "  <clipPath id=\"clip160\">\n",
       "    <rect x=\"0\" y=\"0\" width=\"2400\" height=\"1600\"/>\n",
       "  </clipPath>\n",
       "</defs>\n",
       "<path clip-path=\"url(#clip160)\" d=\"\n",
       "M0 1600 L2400 1600 L2400 0 L0 0  Z\n",
       "  \" fill=\"#ffffff\" fill-rule=\"evenodd\" fill-opacity=\"1\"/>\n",
       "<defs>\n",
       "  <clipPath id=\"clip161\">\n",
       "    <rect x=\"480\" y=\"0\" width=\"1681\" height=\"1600\"/>\n",
       "  </clipPath>\n",
       "</defs>\n",
       "<path clip-path=\"url(#clip160)\" d=\"\n",
       "M156.112 1486.45 L2352.76 1486.45 L2352.76 47.2441 L156.112 47.2441  Z\n",
       "  \" fill=\"#ffffff\" fill-rule=\"evenodd\" fill-opacity=\"1\"/>\n",
       "<defs>\n",
       "  <clipPath id=\"clip162\">\n",
       "    <rect x=\"156\" y=\"47\" width=\"2198\" height=\"1440\"/>\n",
       "  </clipPath>\n",
       "</defs>\n",
       "<polyline clip-path=\"url(#clip162)\" style=\"stroke:#000000; stroke-linecap:round; stroke-linejoin:round; stroke-width:2; stroke-opacity:0.1; fill:none\" points=\"\n",
       "  166.474,1486.45 166.474,47.2441 \n",
       "  \"/>\n",
       "<polyline clip-path=\"url(#clip162)\" style=\"stroke:#000000; stroke-linecap:round; stroke-linejoin:round; stroke-width:2; stroke-opacity:0.1; fill:none\" points=\"\n",
       "  684.55,1486.45 684.55,47.2441 \n",
       "  \"/>\n",
       "<polyline clip-path=\"url(#clip162)\" style=\"stroke:#000000; stroke-linecap:round; stroke-linejoin:round; stroke-width:2; stroke-opacity:0.1; fill:none\" points=\"\n",
       "  1202.63,1486.45 1202.63,47.2441 \n",
       "  \"/>\n",
       "<polyline clip-path=\"url(#clip162)\" style=\"stroke:#000000; stroke-linecap:round; stroke-linejoin:round; stroke-width:2; stroke-opacity:0.1; fill:none\" points=\"\n",
       "  1720.7,1486.45 1720.7,47.2441 \n",
       "  \"/>\n",
       "<polyline clip-path=\"url(#clip162)\" style=\"stroke:#000000; stroke-linecap:round; stroke-linejoin:round; stroke-width:2; stroke-opacity:0.1; fill:none\" points=\"\n",
       "  2238.78,1486.45 2238.78,47.2441 \n",
       "  \"/>\n",
       "<polyline clip-path=\"url(#clip160)\" style=\"stroke:#000000; stroke-linecap:round; stroke-linejoin:round; stroke-width:4; stroke-opacity:1; fill:none\" points=\"\n",
       "  156.112,1486.45 2352.76,1486.45 \n",
       "  \"/>\n",
       "<polyline clip-path=\"url(#clip160)\" style=\"stroke:#000000; stroke-linecap:round; stroke-linejoin:round; stroke-width:4; stroke-opacity:1; fill:none\" points=\"\n",
       "  166.474,1486.45 166.474,1467.55 \n",
       "  \"/>\n",
       "<polyline clip-path=\"url(#clip160)\" style=\"stroke:#000000; stroke-linecap:round; stroke-linejoin:round; stroke-width:4; stroke-opacity:1; fill:none\" points=\"\n",
       "  684.55,1486.45 684.55,1467.55 \n",
       "  \"/>\n",
       "<polyline clip-path=\"url(#clip160)\" style=\"stroke:#000000; stroke-linecap:round; stroke-linejoin:round; stroke-width:4; stroke-opacity:1; fill:none\" points=\"\n",
       "  1202.63,1486.45 1202.63,1467.55 \n",
       "  \"/>\n",
       "<polyline clip-path=\"url(#clip160)\" style=\"stroke:#000000; stroke-linecap:round; stroke-linejoin:round; stroke-width:4; stroke-opacity:1; fill:none\" points=\"\n",
       "  1720.7,1486.45 1720.7,1467.55 \n",
       "  \"/>\n",
       "<polyline clip-path=\"url(#clip160)\" style=\"stroke:#000000; stroke-linecap:round; stroke-linejoin:round; stroke-width:4; stroke-opacity:1; fill:none\" points=\"\n",
       "  2238.78,1486.45 2238.78,1467.55 \n",
       "  \"/>\n",
       "<path clip-path=\"url(#clip160)\" d=\"M166.474 1517.37 Q162.863 1517.37 161.034 1520.93 Q159.228 1524.47 159.228 1531.6 Q159.228 1538.71 161.034 1542.27 Q162.863 1545.82 166.474 1545.82 Q170.108 1545.82 171.913 1542.27 Q173.742 1538.71 173.742 1531.6 Q173.742 1524.47 171.913 1520.93 Q170.108 1517.37 166.474 1517.37 M166.474 1513.66 Q172.284 1513.66 175.339 1518.27 Q178.418 1522.85 178.418 1531.6 Q178.418 1540.33 175.339 1544.94 Q172.284 1549.52 166.474 1549.52 Q160.663 1549.52 157.585 1544.94 Q154.529 1540.33 154.529 1531.6 Q154.529 1522.85 157.585 1518.27 Q160.663 1513.66 166.474 1513.66 Z\" fill=\"#000000\" fill-rule=\"evenodd\" fill-opacity=\"1\" /><path clip-path=\"url(#clip160)\" d=\"M659.238 1544.91 L666.876 1544.91 L666.876 1518.55 L658.566 1520.21 L658.566 1515.95 L666.83 1514.29 L671.506 1514.29 L671.506 1544.91 L679.145 1544.91 L679.145 1548.85 L659.238 1548.85 L659.238 1544.91 Z\" fill=\"#000000\" fill-rule=\"evenodd\" fill-opacity=\"1\" /><path clip-path=\"url(#clip160)\" d=\"M698.589 1517.37 Q694.978 1517.37 693.15 1520.93 Q691.344 1524.47 691.344 1531.6 Q691.344 1538.71 693.15 1542.27 Q694.978 1545.82 698.589 1545.82 Q702.224 1545.82 704.029 1542.27 Q705.858 1538.71 705.858 1531.6 Q705.858 1524.47 704.029 1520.93 Q702.224 1517.37 698.589 1517.37 M698.589 1513.66 Q704.399 1513.66 707.455 1518.27 Q710.534 1522.85 710.534 1531.6 Q710.534 1540.33 707.455 1544.94 Q704.399 1549.52 698.589 1549.52 Q692.779 1549.52 689.7 1544.94 Q686.645 1540.33 686.645 1531.6 Q686.645 1522.85 689.7 1518.27 Q692.779 1513.66 698.589 1513.66 Z\" fill=\"#000000\" fill-rule=\"evenodd\" fill-opacity=\"1\" /><path clip-path=\"url(#clip160)\" d=\"M1181.4 1544.91 L1197.72 1544.91 L1197.72 1548.85 L1175.77 1548.85 L1175.77 1544.91 Q1178.44 1542.16 1183.02 1537.53 Q1187.63 1532.88 1188.81 1531.53 Q1191.05 1529.01 1191.93 1527.27 Q1192.83 1525.51 1192.83 1523.82 Q1192.83 1521.07 1190.89 1519.33 Q1188.97 1517.6 1185.87 1517.6 Q1183.67 1517.6 1181.21 1518.36 Q1178.78 1519.13 1176.01 1520.68 L1176.01 1515.95 Q1178.83 1514.82 1181.28 1514.24 Q1183.74 1513.66 1185.77 1513.66 Q1191.14 1513.66 1194.34 1516.35 Q1197.53 1519.03 1197.53 1523.52 Q1197.53 1525.65 1196.72 1527.57 Q1195.94 1529.47 1193.83 1532.07 Q1193.25 1532.74 1190.15 1535.95 Q1187.05 1539.15 1181.4 1544.91 Z\" fill=\"#000000\" fill-rule=\"evenodd\" fill-opacity=\"1\" /><path clip-path=\"url(#clip160)\" d=\"M1217.53 1517.37 Q1213.92 1517.37 1212.09 1520.93 Q1210.29 1524.47 1210.29 1531.6 Q1210.29 1538.71 1212.09 1542.27 Q1213.92 1545.82 1217.53 1545.82 Q1221.17 1545.82 1222.97 1542.27 Q1224.8 1538.71 1224.8 1531.6 Q1224.8 1524.47 1222.97 1520.93 Q1221.17 1517.37 1217.53 1517.37 M1217.53 1513.66 Q1223.34 1513.66 1226.4 1518.27 Q1229.48 1522.85 1229.48 1531.6 Q1229.48 1540.33 1226.4 1544.94 Q1223.34 1549.52 1217.53 1549.52 Q1211.72 1549.52 1208.64 1544.94 Q1205.59 1540.33 1205.59 1531.6 Q1205.59 1522.85 1208.64 1518.27 Q1211.72 1513.66 1217.53 1513.66 Z\" fill=\"#000000\" fill-rule=\"evenodd\" fill-opacity=\"1\" /><path clip-path=\"url(#clip160)\" d=\"M1709.55 1530.21 Q1712.9 1530.93 1714.78 1533.2 Q1716.67 1535.47 1716.67 1538.8 Q1716.67 1543.92 1713.16 1546.72 Q1709.64 1549.52 1703.16 1549.52 Q1700.98 1549.52 1698.67 1549.08 Q1696.37 1548.66 1693.92 1547.81 L1693.92 1543.29 Q1695.86 1544.43 1698.18 1545.01 Q1700.49 1545.58 1703.02 1545.58 Q1707.42 1545.58 1709.71 1543.85 Q1712.02 1542.11 1712.02 1538.8 Q1712.02 1535.75 1709.87 1534.03 Q1707.74 1532.3 1703.92 1532.3 L1699.89 1532.3 L1699.89 1528.45 L1704.11 1528.45 Q1707.55 1528.45 1709.38 1527.09 Q1711.21 1525.7 1711.21 1523.11 Q1711.21 1520.45 1709.31 1519.03 Q1707.44 1517.6 1703.92 1517.6 Q1702 1517.6 1699.8 1518.01 Q1697.6 1518.43 1694.96 1519.31 L1694.96 1515.14 Q1697.62 1514.4 1699.94 1514.03 Q1702.28 1513.66 1704.34 1513.66 Q1709.66 1513.66 1712.76 1516.09 Q1715.86 1518.5 1715.86 1522.62 Q1715.86 1525.49 1714.22 1527.48 Q1712.58 1529.45 1709.55 1530.21 Z\" fill=\"#000000\" fill-rule=\"evenodd\" fill-opacity=\"1\" /><path clip-path=\"url(#clip160)\" d=\"M1735.54 1517.37 Q1731.93 1517.37 1730.1 1520.93 Q1728.3 1524.47 1728.3 1531.6 Q1728.3 1538.71 1730.1 1542.27 Q1731.93 1545.82 1735.54 1545.82 Q1739.17 1545.82 1740.98 1542.27 Q1742.81 1538.71 1742.81 1531.6 Q1742.81 1524.47 1740.98 1520.93 Q1739.17 1517.37 1735.54 1517.37 M1735.54 1513.66 Q1741.35 1513.66 1744.41 1518.27 Q1747.49 1522.85 1747.49 1531.6 Q1747.49 1540.33 1744.41 1544.94 Q1741.35 1549.52 1735.54 1549.52 Q1729.73 1549.52 1726.65 1544.94 Q1723.6 1540.33 1723.6 1531.6 Q1723.6 1522.85 1726.65 1518.27 Q1729.73 1513.66 1735.54 1513.66 Z\" fill=\"#000000\" fill-rule=\"evenodd\" fill-opacity=\"1\" /><path clip-path=\"url(#clip160)\" d=\"M2226.95 1518.36 L2215.14 1536.81 L2226.95 1536.81 L2226.95 1518.36 M2225.72 1514.29 L2231.6 1514.29 L2231.6 1536.81 L2236.53 1536.81 L2236.53 1540.7 L2231.6 1540.7 L2231.6 1548.85 L2226.95 1548.85 L2226.95 1540.7 L2211.35 1540.7 L2211.35 1536.19 L2225.72 1514.29 Z\" fill=\"#000000\" fill-rule=\"evenodd\" fill-opacity=\"1\" /><path clip-path=\"url(#clip160)\" d=\"M2254.27 1517.37 Q2250.65 1517.37 2248.83 1520.93 Q2247.02 1524.47 2247.02 1531.6 Q2247.02 1538.71 2248.83 1542.27 Q2250.65 1545.82 2254.27 1545.82 Q2257.9 1545.82 2259.7 1542.27 Q2261.53 1538.71 2261.53 1531.6 Q2261.53 1524.47 2259.7 1520.93 Q2257.9 1517.37 2254.27 1517.37 M2254.27 1513.66 Q2260.08 1513.66 2263.13 1518.27 Q2266.21 1522.85 2266.21 1531.6 Q2266.21 1540.33 2263.13 1544.94 Q2260.08 1549.52 2254.27 1549.52 Q2248.45 1549.52 2245.38 1544.94 Q2242.32 1540.33 2242.32 1531.6 Q2242.32 1522.85 2245.38 1518.27 Q2248.45 1513.66 2254.27 1513.66 Z\" fill=\"#000000\" fill-rule=\"evenodd\" fill-opacity=\"1\" /><polyline clip-path=\"url(#clip162)\" style=\"stroke:#000000; stroke-linecap:round; stroke-linejoin:round; stroke-width:2; stroke-opacity:0.1; fill:none\" points=\"\n",
       "  156.112,1445.72 2352.76,1445.72 \n",
       "  \"/>\n",
       "<polyline clip-path=\"url(#clip162)\" style=\"stroke:#000000; stroke-linecap:round; stroke-linejoin:round; stroke-width:2; stroke-opacity:0.1; fill:none\" points=\"\n",
       "  156.112,981.821 2352.76,981.821 \n",
       "  \"/>\n",
       "<polyline clip-path=\"url(#clip162)\" style=\"stroke:#000000; stroke-linecap:round; stroke-linejoin:round; stroke-width:2; stroke-opacity:0.1; fill:none\" points=\"\n",
       "  156.112,517.927 2352.76,517.927 \n",
       "  \"/>\n",
       "<polyline clip-path=\"url(#clip162)\" style=\"stroke:#000000; stroke-linecap:round; stroke-linejoin:round; stroke-width:2; stroke-opacity:0.1; fill:none\" points=\"\n",
       "  156.112,54.0328 2352.76,54.0328 \n",
       "  \"/>\n",
       "<polyline clip-path=\"url(#clip160)\" style=\"stroke:#000000; stroke-linecap:round; stroke-linejoin:round; stroke-width:4; stroke-opacity:1; fill:none\" points=\"\n",
       "  156.112,1486.45 156.112,47.2441 \n",
       "  \"/>\n",
       "<polyline clip-path=\"url(#clip160)\" style=\"stroke:#000000; stroke-linecap:round; stroke-linejoin:round; stroke-width:4; stroke-opacity:1; fill:none\" points=\"\n",
       "  156.112,1445.72 175.01,1445.72 \n",
       "  \"/>\n",
       "<polyline clip-path=\"url(#clip160)\" style=\"stroke:#000000; stroke-linecap:round; stroke-linejoin:round; stroke-width:4; stroke-opacity:1; fill:none\" points=\"\n",
       "  156.112,981.821 175.01,981.821 \n",
       "  \"/>\n",
       "<polyline clip-path=\"url(#clip160)\" style=\"stroke:#000000; stroke-linecap:round; stroke-linejoin:round; stroke-width:4; stroke-opacity:1; fill:none\" points=\"\n",
       "  156.112,517.927 175.01,517.927 \n",
       "  \"/>\n",
       "<polyline clip-path=\"url(#clip160)\" style=\"stroke:#000000; stroke-linecap:round; stroke-linejoin:round; stroke-width:4; stroke-opacity:1; fill:none\" points=\"\n",
       "  156.112,54.0328 175.01,54.0328 \n",
       "  \"/>\n",
       "<path clip-path=\"url(#clip160)\" d=\"M62.9365 1431.51 Q59.3254 1431.51 57.4967 1435.08 Q55.6912 1438.62 55.6912 1445.75 Q55.6912 1452.86 57.4967 1456.42 Q59.3254 1459.96 62.9365 1459.96 Q66.5707 1459.96 68.3763 1456.42 Q70.205 1452.86 70.205 1445.75 Q70.205 1438.62 68.3763 1435.08 Q66.5707 1431.51 62.9365 1431.51 M62.9365 1427.81 Q68.7467 1427.81 71.8022 1432.42 Q74.8809 1437 74.8809 1445.75 Q74.8809 1454.48 71.8022 1459.08 Q68.7467 1463.67 62.9365 1463.67 Q57.1264 1463.67 54.0477 1459.08 Q50.9921 1454.48 50.9921 1445.75 Q50.9921 1437 54.0477 1432.42 Q57.1264 1427.81 62.9365 1427.81 Z\" fill=\"#000000\" fill-rule=\"evenodd\" fill-opacity=\"1\" /><path clip-path=\"url(#clip160)\" d=\"M83.0984 1457.12 L87.9827 1457.12 L87.9827 1463 L83.0984 1463 L83.0984 1457.12 Z\" fill=\"#000000\" fill-rule=\"evenodd\" fill-opacity=\"1\" /><path clip-path=\"url(#clip160)\" d=\"M108.168 1431.51 Q104.557 1431.51 102.728 1435.08 Q100.922 1438.62 100.922 1445.75 Q100.922 1452.86 102.728 1456.42 Q104.557 1459.96 108.168 1459.96 Q111.802 1459.96 113.608 1456.42 Q115.436 1452.86 115.436 1445.75 Q115.436 1438.62 113.608 1435.08 Q111.802 1431.51 108.168 1431.51 M108.168 1427.81 Q113.978 1427.81 117.033 1432.42 Q120.112 1437 120.112 1445.75 Q120.112 1454.48 117.033 1459.08 Q113.978 1463.67 108.168 1463.67 Q102.358 1463.67 99.2789 1459.08 Q96.2234 1454.48 96.2234 1445.75 Q96.2234 1437 99.2789 1432.42 Q102.358 1427.81 108.168 1427.81 Z\" fill=\"#000000\" fill-rule=\"evenodd\" fill-opacity=\"1\" /><path clip-path=\"url(#clip160)\" d=\"M64.1634 967.62 Q60.5523 967.62 58.7236 971.185 Q56.918 974.727 56.918 981.856 Q56.918 988.963 58.7236 992.527 Q60.5523 996.069 64.1634 996.069 Q67.7976 996.069 69.6031 992.527 Q71.4318 988.963 71.4318 981.856 Q71.4318 974.727 69.6031 971.185 Q67.7976 967.62 64.1634 967.62 M64.1634 963.916 Q69.9735 963.916 73.029 968.523 Q76.1077 973.106 76.1077 981.856 Q76.1077 990.583 73.029 995.189 Q69.9735 999.773 64.1634 999.773 Q58.3532 999.773 55.2745 995.189 Q52.219 990.583 52.219 981.856 Q52.219 973.106 55.2745 968.523 Q58.3532 963.916 64.1634 963.916 Z\" fill=\"#000000\" fill-rule=\"evenodd\" fill-opacity=\"1\" /><path clip-path=\"url(#clip160)\" d=\"M84.3253 993.222 L89.2095 993.222 L89.2095 999.101 L84.3253 999.101 L84.3253 993.222 Z\" fill=\"#000000\" fill-rule=\"evenodd\" fill-opacity=\"1\" /><path clip-path=\"url(#clip160)\" d=\"M100.205 995.166 L107.844 995.166 L107.844 968.801 L99.5335 970.467 L99.5335 966.208 L107.797 964.541 L112.473 964.541 L112.473 995.166 L120.112 995.166 L120.112 999.101 L100.205 999.101 L100.205 995.166 Z\" fill=\"#000000\" fill-rule=\"evenodd\" fill-opacity=\"1\" /><path clip-path=\"url(#clip160)\" d=\"M64.5337 503.726 Q60.9226 503.726 59.0939 507.291 Q57.2884 510.832 57.2884 517.962 Q57.2884 525.068 59.0939 528.633 Q60.9226 532.175 64.5337 532.175 Q68.168 532.175 69.9735 528.633 Q71.8022 525.068 71.8022 517.962 Q71.8022 510.832 69.9735 507.291 Q68.168 503.726 64.5337 503.726 M64.5337 500.022 Q70.3439 500.022 73.3994 504.629 Q76.4781 509.212 76.4781 517.962 Q76.4781 526.689 73.3994 531.295 Q70.3439 535.878 64.5337 535.878 Q58.7236 535.878 55.6449 531.295 Q52.5893 526.689 52.5893 517.962 Q52.5893 509.212 55.6449 504.629 Q58.7236 500.022 64.5337 500.022 Z\" fill=\"#000000\" fill-rule=\"evenodd\" fill-opacity=\"1\" /><path clip-path=\"url(#clip160)\" d=\"M84.6956 529.327 L89.5799 529.327 L89.5799 535.207 L84.6956 535.207 L84.6956 529.327 Z\" fill=\"#000000\" fill-rule=\"evenodd\" fill-opacity=\"1\" /><path clip-path=\"url(#clip160)\" d=\"M103.793 531.272 L120.112 531.272 L120.112 535.207 L98.1678 535.207 L98.1678 531.272 Q100.83 528.517 105.413 523.888 Q110.02 519.235 111.2 517.892 Q113.445 515.369 114.325 513.633 Q115.228 511.874 115.228 510.184 Q115.228 507.429 113.283 505.693 Q111.362 503.957 108.26 503.957 Q106.061 503.957 103.608 504.721 Q101.177 505.485 98.3993 507.036 L98.3993 502.314 Q101.223 501.179 103.677 500.601 Q106.131 500.022 108.168 500.022 Q113.538 500.022 116.733 502.707 Q119.927 505.392 119.927 509.883 Q119.927 512.013 119.117 513.934 Q118.33 515.832 116.223 518.425 Q115.645 519.096 112.543 522.314 Q109.441 525.508 103.793 531.272 Z\" fill=\"#000000\" fill-rule=\"evenodd\" fill-opacity=\"1\" /><path clip-path=\"url(#clip160)\" d=\"M63.5847 39.8315 Q59.9736 39.8315 58.1449 43.3963 Q56.3393 46.9379 56.3393 54.0675 Q56.3393 61.174 58.1449 64.7388 Q59.9736 68.2804 63.5847 68.2804 Q67.2189 68.2804 69.0244 64.7388 Q70.8531 61.174 70.8531 54.0675 Q70.8531 46.9379 69.0244 43.3963 Q67.2189 39.8315 63.5847 39.8315 M63.5847 36.1278 Q69.3948 36.1278 72.4503 40.7343 Q75.529 45.3176 75.529 54.0675 Q75.529 62.7943 72.4503 67.4008 Q69.3948 71.9841 63.5847 71.9841 Q57.7745 71.9841 54.6958 67.4008 Q51.6403 62.7943 51.6403 54.0675 Q51.6403 45.3176 54.6958 40.7343 Q57.7745 36.1278 63.5847 36.1278 Z\" fill=\"#000000\" fill-rule=\"evenodd\" fill-opacity=\"1\" /><path clip-path=\"url(#clip160)\" d=\"M83.7466 65.4332 L88.6308 65.4332 L88.6308 71.3128 L83.7466 71.3128 L83.7466 65.4332 Z\" fill=\"#000000\" fill-rule=\"evenodd\" fill-opacity=\"1\" /><path clip-path=\"url(#clip160)\" d=\"M112.983 52.6786 Q116.339 53.3962 118.214 55.6647 Q120.112 57.9332 120.112 61.2665 Q120.112 66.3823 116.594 69.1832 Q113.075 71.9841 106.594 71.9841 Q104.418 71.9841 102.103 71.5443 Q99.8113 71.1276 97.3576 70.2711 L97.3576 65.7573 Q99.3021 66.8915 101.617 67.4702 Q103.932 68.0489 106.455 68.0489 Q110.853 68.0489 113.145 66.3128 Q115.459 64.5767 115.459 61.2665 Q115.459 58.211 113.307 56.4981 Q111.177 54.762 107.358 54.762 L103.33 54.762 L103.33 50.9194 L107.543 50.9194 Q110.992 50.9194 112.82 49.5536 Q114.649 48.1648 114.649 45.5722 Q114.649 42.9102 112.751 41.4981 Q110.876 40.063 107.358 40.063 Q105.436 40.063 103.237 40.4796 Q101.038 40.8963 98.3993 41.7759 L98.3993 37.6093 Q101.061 36.8685 103.376 36.4982 Q105.714 36.1278 107.774 36.1278 Q113.098 36.1278 116.2 38.5583 Q119.302 40.9657 119.302 45.0861 Q119.302 47.9564 117.658 49.9472 Q116.015 51.9147 112.983 52.6786 Z\" fill=\"#000000\" fill-rule=\"evenodd\" fill-opacity=\"1\" /><polyline clip-path=\"url(#clip162)\" style=\"stroke:#009af9; stroke-linecap:round; stroke-linejoin:round; stroke-width:4; stroke-opacity:1; fill:none\" points=\"\n",
       "  218.281,87.9763 270.089,121.92 321.897,155.863 373.704,189.807 425.512,223.75 477.319,257.694 529.127,291.637 580.935,325.581 632.742,359.524 684.55,393.468 \n",
       "  736.358,427.411 788.165,461.355 839.973,495.298 891.781,529.242 943.588,563.185 995.396,597.129 1047.2,631.072 1099.01,665.016 1150.82,698.959 1202.63,732.902 \n",
       "  1254.43,766.846 1306.24,800.789 1358.05,834.733 1409.86,868.676 1461.66,902.62 1513.47,936.563 1565.28,970.507 1617.09,1004.45 1668.9,1038.39 1720.7,1072.34 \n",
       "  1772.51,1106.28 1824.32,1140.22 1876.13,1174.17 1927.93,1208.11 1979.74,1242.05 2031.55,1276 2083.36,1309.94 2135.16,1343.89 2186.97,1377.83 2238.78,1411.77 \n",
       "  2290.59,1445.72 \n",
       "  \"/>\n",
       "<path clip-path=\"url(#clip160)\" d=\"\n",
       "M1983.03 198.898 L2279.53 198.898 L2279.53 95.2176 L1983.03 95.2176  Z\n",
       "  \" fill=\"#ffffff\" fill-rule=\"evenodd\" fill-opacity=\"1\"/>\n",
       "<polyline clip-path=\"url(#clip160)\" style=\"stroke:#000000; stroke-linecap:round; stroke-linejoin:round; stroke-width:4; stroke-opacity:1; fill:none\" points=\"\n",
       "  1983.03,198.898 2279.53,198.898 2279.53,95.2176 1983.03,95.2176 1983.03,198.898 \n",
       "  \"/>\n",
       "<polyline clip-path=\"url(#clip160)\" style=\"stroke:#009af9; stroke-linecap:round; stroke-linejoin:round; stroke-width:4; stroke-opacity:1; fill:none\" points=\"\n",
       "  2007.44,147.058 2153.88,147.058 \n",
       "  \"/>\n",
       "<path clip-path=\"url(#clip160)\" d=\"M2192.13 166.745 Q2190.33 171.375 2188.61 172.787 Q2186.9 174.199 2184.03 174.199 L2180.63 174.199 L2180.63 170.634 L2183.13 170.634 Q2184.89 170.634 2185.86 169.8 Q2186.83 168.967 2188.01 165.865 L2188.78 163.921 L2178.29 138.412 L2182.8 138.412 L2190.91 158.689 L2199.01 138.412 L2203.52 138.412 L2192.13 166.745 Z\" fill=\"#000000\" fill-rule=\"evenodd\" fill-opacity=\"1\" /><path clip-path=\"url(#clip160)\" d=\"M2210.81 160.402 L2218.45 160.402 L2218.45 134.037 L2210.14 135.703 L2210.14 131.444 L2218.41 129.778 L2223.08 129.778 L2223.08 160.402 L2230.72 160.402 L2230.72 164.338 L2210.81 164.338 L2210.81 160.402 Z\" fill=\"#000000\" fill-rule=\"evenodd\" fill-opacity=\"1\" /></svg>\n"
      ]
     },
     "metadata": {},
     "output_type": "display_data"
    }
   ],
   "source": [
    "hh_par_1 = Household()\n",
    "\n",
    "function get_lifetime_income!(hh)\n",
    "    human_wealth     = 0 \n",
    "    for i in hh.T+1:-1:1\n",
    "        human_wealth = human_wealth / (1+hh.r) + hh.y[i,1]\n",
    "    end\n",
    "    financial_wealth = (1+hh.r) * hh.a0 \n",
    "\n",
    "    wealth = (H = human_wealth, fin = financial_wealth)\n",
    "    hh = merge(hh,wealth)\n",
    "end\n",
    "\n",
    "hh_1 = get_lifetime_income!(hh_par_1)\n",
    "\n",
    "function get_solution!(hh)\n",
    "    mpc_0 = 0\n",
    "    c_ratio         = zeros(hh.T+1,1)\n",
    "    c_opt           = zeros(hh.T+1,1)\n",
    "    s_opt           = zeros(hh.T+1,1)\n",
    "    intertemp_price = zeros(hh.T+1,1)\n",
    "    for i in 1:hh.T+1\n",
    "        c_ratio[i,1] = ((1 + hh.r) * hh.β) ^ ((1/hh.σ) * (i-1))\n",
    "        \n",
    "        intertemp_price[i,1] = (1/(1+hh.r)) ^ ((i-1))\n",
    "    end\n",
    "\n",
    "    mpc_0 = 1 / (sum(c_ratio.* intertemp_price))\n",
    "    c_opt[:] .= mpc_0 .* (hh.H .+ hh.fin) .* c_ratio\n",
    "    s_opt[1]  = hh.y[1] + (1+hh.r) * hh.a0 - c_opt[1]\n",
    "    for i in 2:hh.T+1\n",
    "        s_opt[i]  = hh.y[i] + (1+hh.r) * s_opt[i-1] - c_opt[i]\n",
    "    end\n",
    "    sol = (c = c_opt, s = s_opt)\n",
    "    return hh_new = merge(hh,sol)\n",
    "end\n",
    "\n",
    "plot(hh_sol_1.s)"
   ]
  },
  {
   "cell_type": "code",
   "execution_count": 59,
   "metadata": {},
   "outputs": [
    {
     "data": {
      "text/plain": [
       "(r = 0.0, σ = 1.0, β = 0.96, T = 40, y = [1.0; 1.0; … ; 1.0; 1.0;;], a0 = 0.3, u = var\"#46#50\"(), H = 41.0, fin = 0.3)"
      ]
     },
     "metadata": {},
     "output_type": "display_data"
    }
   ],
   "source": [
    "hh_1"
   ]
  },
  {
   "cell_type": "code",
   "execution_count": null,
   "metadata": {},
   "outputs": [],
   "source": [
    "# types \n",
    "x = 1\n",
    "typeof(x)"
   ]
  },
  {
   "cell_type": "code",
   "execution_count": null,
   "metadata": {},
   "outputs": [],
   "source": [
    "# types \n",
    "x = 1.0\n",
    "typeof(x)"
   ]
  },
  {
   "cell_type": "code",
   "execution_count": null,
   "metadata": {},
   "outputs": [],
   "source": [
    "typeof(\"Stokey, Lucas, and Prescott\")"
   ]
  },
  {
   "cell_type": "code",
   "execution_count": null,
   "metadata": {},
   "outputs": [],
   "source": [
    "typeof('m')"
   ]
  },
  {
   "cell_type": "code",
   "execution_count": null,
   "metadata": {},
   "outputs": [],
   "source": [
    "# arithmetic operations\n",
    "x = 2\n",
    "y = 3.5\n",
    "\n",
    "println(\"x + y = \",x + y)\n",
    "println(\"x - y = \",x - y)\n",
    "println(\"x * y = \",x * y)\n",
    "println(\"x / y = \",x / y)\n",
    "println(\"x ^ y = \",x ^ y)\n",
    "println(\"x ÷ y = \",x ÷ y) #truncate to an integer\n",
    "println(\"x % y = \",x % y) #reminder\n"
   ]
  },
  {
   "cell_type": "code",
   "execution_count": null,
   "metadata": {},
   "outputs": [],
   "source": [
    "# logical \n",
    "x = true\n",
    "y = false\n",
    "println(!x)\n",
    "println(!y)\n",
    "println(x && !y)\n",
    "println(x || y)"
   ]
  },
  {
   "cell_type": "code",
   "execution_count": null,
   "metadata": {},
   "outputs": [],
   "source": [
    "# comparison \n",
    "x = 3\n",
    "y = 21\n",
    "\n",
    "println(x==y)\n",
    "println(x!=y)\n",
    "println(x<y)\n",
    "println(x>=y)"
   ]
  },
  {
   "cell_type": "code",
   "execution_count": null,
   "metadata": {},
   "outputs": [],
   "source": [
    "# functions - simple function\n",
    "my_power(x,y) = x^y\n",
    "println(my_power(2,5))\n",
    "println(my_power(2,6))\n",
    "#println(my_power(2,-3))\n",
    "println(my_power(2.0,-3))\n",
    "\n",
    "println(my_power(2,2) + my_power(2,3))"
   ]
  },
  {
   "cell_type": "code",
   "execution_count": null,
   "metadata": {},
   "outputs": [],
   "source": [
    "# functions - more complicated\n",
    "function my_mood(x)\n",
    "    if x == 0\n",
    "        return \"meh...\"\n",
    "    elseif x > 0\n",
    "        return \"I'm happy!\"\n",
    "    elseif x < 0\n",
    "        return \"I'm sad...\"\n",
    "    end\n",
    "end\n",
    "\n",
    "println(my_mood(10))"
   ]
  },
  {
   "cell_type": "code",
   "execution_count": null,
   "metadata": {},
   "outputs": [],
   "source": [
    "function how_does_it_work(x)\n",
    "    y = 1 + x\n",
    "    x\n",
    "end\n",
    "\n",
    "how_does_it_work(10)"
   ]
  },
  {
   "cell_type": "code",
   "execution_count": null,
   "metadata": {},
   "outputs": [],
   "source": [
    "# keywords\n",
    "function with_keyword(x; β = 0.2)\n",
    "    x + β\n",
    "end\n",
    "\n",
    "with_keyword(0)\n",
    "with_keyword(0, β = 0.4)"
   ]
  },
  {
   "cell_type": "code",
   "execution_count": null,
   "metadata": {},
   "outputs": [],
   "source": [
    "function multiple_outputs(x,y)\n",
    "    (x+y,x-y,x*y,x/y)\n",
    "end\n",
    "\n",
    "res = multiple_outputs(5,7)\n",
    "println(res)\n",
    "typeof(res)"
   ]
  },
  {
   "cell_type": "code",
   "execution_count": null,
   "metadata": {},
   "outputs": [],
   "source": [
    "# tuple\n",
    "my_tuple = (12,\"hello?\",\"Bernanke, Diamond, Dybvig\")\n",
    "\n",
    "println(my_tuple[1])\n",
    "println(my_tuple[2])\n",
    "println(my_tuple[3])"
   ]
  },
  {
   "cell_type": "code",
   "execution_count": null,
   "metadata": {},
   "outputs": [],
   "source": [
    "# unpack tuple\n",
    "a,b,c = my_tuple\n",
    "d,e = my_tuple\n",
    "d,e... = my_tuple"
   ]
  },
  {
   "cell_type": "code",
   "execution_count": null,
   "metadata": {},
   "outputs": [],
   "source": [
    "# can i modify a tuple?\n",
    "my_tuple[1] = \">>>???<<<\""
   ]
  },
  {
   "cell_type": "code",
   "execution_count": null,
   "metadata": {},
   "outputs": [],
   "source": [
    "# named tuples\n",
    "my_named_tuple = (α = 0.33, β = 0.9, r = 0.05)\n",
    "my_named_tuple[3]\n",
    "my_named_tuple.β\n",
    "my_named_tuple[:β]\n"
   ]
  },
  {
   "cell_type": "code",
   "execution_count": null,
   "metadata": {},
   "outputs": [],
   "source": [
    "# arrays and vectors\n",
    "\n",
    "my_vector = [1,2,3,4,5.2]\n",
    "typeof(my_vector)"
   ]
  },
  {
   "cell_type": "code",
   "execution_count": null,
   "metadata": {},
   "outputs": [],
   "source": [
    "# make it a bit bigger...?\n",
    "\n",
    "push!(my_vector,2.2)\n",
    "pushfirst!(my_vector,0)\n",
    "\n"
   ]
  },
  {
   "cell_type": "code",
   "execution_count": null,
   "metadata": {},
   "outputs": [],
   "source": [
    "# or smaller\n",
    "pop!(my_vector)"
   ]
  },
  {
   "cell_type": "code",
   "execution_count": null,
   "metadata": {},
   "outputs": [],
   "source": [
    "# this is an array\n",
    "my_array = [1 2 3; 4 5 6]"
   ]
  },
  {
   "cell_type": "code",
   "execution_count": null,
   "metadata": {},
   "outputs": [],
   "source": [
    "#some useful functions\n",
    "println(length(my_array))\n",
    "println(size(my_array))"
   ]
  },
  {
   "cell_type": "code",
   "execution_count": null,
   "metadata": {},
   "outputs": [],
   "source": [
    "#refer to a particular element\n",
    "println(my_array[1,2])\n",
    "my_array[2,2] = 3\n",
    "my_array"
   ]
  },
  {
   "cell_type": "code",
   "execution_count": null,
   "metadata": {},
   "outputs": [],
   "source": [
    "A = zeros(3,3)"
   ]
  },
  {
   "cell_type": "code",
   "execution_count": null,
   "metadata": {},
   "outputs": [],
   "source": [
    "B = ones(4,6)"
   ]
  },
  {
   "cell_type": "code",
   "execution_count": null,
   "metadata": {},
   "outputs": [],
   "source": [
    "M = A[2:end,1:end]\n",
    "N = B[3:end,4:end]\n",
    "U  = M + N\n",
    "\n",
    "x = A[1,:]\n",
    "y = B[:,2]"
   ]
  },
  {
   "cell_type": "code",
   "execution_count": null,
   "metadata": {},
   "outputs": [],
   "source": [
    "#broadcasting\n",
    "x = [1,2,3,4,5,6,7,8,9,10]\n",
    "cos.(x)\n"
   ]
  },
  {
   "cell_type": "code",
   "execution_count": null,
   "metadata": {},
   "outputs": [],
   "source": [
    "A[1:3,1] .= -9\n",
    "A"
   ]
  },
  {
   "cell_type": "code",
   "execution_count": null,
   "metadata": {},
   "outputs": [],
   "source": [
    "# our first package! - you need to add it first\n",
    "using Plots\n",
    "\n",
    "function my_sine_plot(x)\n",
    "    y = sin.(x)\n",
    "    display(plot(x, y))\n",
    "end\n",
    "\n",
    "my_sine_plot([0,π/4,π/2,3π/4,π])\n",
    "\n"
   ]
  },
  {
   "cell_type": "code",
   "execution_count": null,
   "metadata": {},
   "outputs": [],
   "source": [
    "# loops\n",
    "\n",
    "x = 1\n",
    "\n",
    "while x < 10 \n",
    "    x = x + 1\n",
    "    y = x ^ 2 \n",
    "end\n",
    "\n",
    "y"
   ]
  },
  {
   "cell_type": "code",
   "execution_count": null,
   "metadata": {},
   "outputs": [],
   "source": [
    "A = zeros(20,20)\n",
    "for i = 1:20\n",
    "    for j = 1:20\n",
    "    A[i,j] = i ^ 2 - j\n",
    "    end\n",
    "end\n",
    "A"
   ]
  },
  {
   "cell_type": "code",
   "execution_count": null,
   "metadata": {},
   "outputs": [],
   "source": [
    "B = zeros(10,5)\n",
    "for j = 1:5\n",
    "for i = 1:10\n",
    "    if i < 5\n",
    "        B[i,j] = i \n",
    "    else \n",
    "        B[i,j] = i ^ 2\n",
    "    end\n",
    "end\n",
    "end\n",
    "\n",
    "B"
   ]
  },
  {
   "cell_type": "code",
   "execution_count": null,
   "metadata": {},
   "outputs": [],
   "source": [
    "dogs = (\"pug\",\"husky\",\"bulldog\",\"corgi\",\"shiba inu\")\n",
    "for i in eachindex(dogs)\n",
    "    println(\"This is a dog: \", dogs[i])\n",
    "end\n"
   ]
  },
  {
   "cell_type": "code",
   "execution_count": null,
   "metadata": {},
   "outputs": [],
   "source": [
    "# some more complicated examples\n",
    "\n",
    "my_fun(x; y = 0.4) = x^y\n",
    "\n",
    "x = collect(1:0.25:100) # creates a sequence of numbers\n",
    "plot(my_fun.(x)) \n",
    "plot!(my_fun.(x,y=0.5))\n",
    "\n",
    "\n"
   ]
  },
  {
   "cell_type": "code",
   "execution_count": null,
   "metadata": {},
   "outputs": [],
   "source": [
    "# my bisection function\n",
    "function my_bisection(f::Function, a::Number, b::Number; tol::AbstractFloat=1e-5, maxiter::Integer=100)\n",
    "    fa = f(a)\n",
    "    fb = f(b)\n",
    "\n",
    "    fa*fb <= 0 || error(\"No real root in [a,b]!\")\n",
    "    local c\n",
    "    while b-a > tol\n",
    "        c = (a+b)/2\n",
    "        fc = f(c)\n",
    "        if fc == 0\n",
    "            break\n",
    "        elseif fa*fc > 0\n",
    "            a = c\n",
    "            fa = fc\n",
    "        else\n",
    "            b = c\n",
    "        end\n",
    "    \n",
    "    end\n",
    "    return c\n",
    "end\n",
    "\n",
    "# we will test it...\n",
    "funny_fun(x; α = 0.33) =   3*x ^ α - 20 \n",
    "display(plot(funny_fun,0,1000))\n",
    "\n",
    "root = my_bisection(funny_fun,0,1000)\n",
    "\n",
    "println(root)"
   ]
  },
  {
   "cell_type": "code",
   "execution_count": null,
   "metadata": {},
   "outputs": [],
   "source": []
  }
 ],
 "metadata": {
  "kernelspec": {
   "display_name": "Julia 1.7.2",
   "language": "julia",
   "name": "julia-1.7"
  },
  "language_info": {
   "file_extension": ".jl",
   "mimetype": "application/julia",
   "name": "julia",
   "version": "1.7.2"
  },
  "orig_nbformat": 4
 },
 "nbformat": 4,
 "nbformat_minor": 2
}
