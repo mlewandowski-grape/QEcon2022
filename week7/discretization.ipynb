{
 "cells": [
  {
   "attachments": {},
   "cell_type": "markdown",
   "metadata": {},
   "source": [
    "This notebook shows two methods of discretization: Tauchen and Rowuenhurst.\n",
    "Two functions below can be easily moved to a .jl file containing a module."
   ]
  },
  {
   "cell_type": "code",
   "execution_count": 196,
   "metadata": {},
   "outputs": [],
   "source": [
    "using Distributions, Statistics, StatsBase, Random\n",
    "using Plots\n"
   ]
  },
  {
   "cell_type": "code",
   "execution_count": 197,
   "metadata": {},
   "outputs": [],
   "source": [
    "# code for Rouwenhurst is very closely based on Arshia Hashemi's file rouwenhorst_discretization.jl\n",
    "# available at https://github.com/ArshiaHashemi/Heterogeneous-Agent-Macroeconomics-in-Julia/blob/main/code/miscellaneous/rouwenhorst_discretization.jl"
   ]
  },
  {
   "cell_type": "code",
   "execution_count": 198,
   "metadata": {},
   "outputs": [],
   "source": [
    "\n",
    "struct rouwenhurst\n",
    "    # Define output\n",
    "    y::Vector{Float64} # Grid for income\n",
    "    P::Matrix{Float64} # Transition probability matrix\n",
    "    π_vec::Vector{Float64} # Stationary probability mass function\n",
    "    # Define function\n",
    "    # this is a so called \"inner constructor method\"\n",
    "    function rouwenhurst(n, μ, ρ, σ)\n",
    "        # Transitition matrix parameter\n",
    "        p = (1 + ρ) / 2\n",
    "        # Width parameter\n",
    "        ψ = sqrt((n - 1) * σ^2 / (1 - ρ^2))\n",
    "        # Grid for income (before normalization)\n",
    "        y = collect(range((μ - ψ), stop = (μ + ψ), length = n))\n",
    "        # Transition probability matrix for π=2\n",
    "        P_temp = [p (1-p); (1-p) p]\n",
    "        # Two cases for n (do not do anything if n = 2, do things if n > 2)\n",
    "        if n == 2\n",
    "            P = P_temp\n",
    "        elseif n > 2\n",
    "            for i = 1:(n-2)\n",
    "                # (n-1) vector of zeros\n",
    "                zeros_vec = zeros(size(P_temp, 2))\n",
    "                # Update transititon probability matrix\n",
    "                P_temp =\n",
    "                    (p * [P_temp zeros_vec; zeros_vec' 0]) +\n",
    "                    ((1 - p) * [zeros_vec P_temp; 0 zeros_vec']) +\n",
    "                    ((1 - p) * [zeros_vec' 0; P_temp zeros_vec]) +\n",
    "                    (p * [0 zeros_vec'; zeros_vec P_temp])\n",
    "            end\n",
    "            # Ensure elements in each row sum to one\n",
    "            P = Matrix{Float64}(undef, n, n)\n",
    "            P[1, :] = P_temp[1, :]\n",
    "            P[n, :] = P_temp[n, :]\n",
    "            for r = 2:(n-1)\n",
    "                P[r, :] = P_temp[r, :] ./ sum(P_temp[r, :])\n",
    "            end\n",
    "        end\n",
    "        # Stationary probability mass function\n",
    "        π_vec = (ones(n) ./ n)'\n",
    "        for i = 1:1000\n",
    "            π_vec= π_vec * (P^i)\n",
    "        end\n",
    "        # Convert into a column vector\n",
    "        π_vec = π_vec'\n",
    "        # Return output - this \"new\" is special to inner constructor\n",
    "        new(y, P, π_vec)\n",
    "    end\n",
    "end;"
   ]
  },
  {
   "cell_type": "code",
   "execution_count": 199,
   "metadata": {},
   "outputs": [],
   "source": [
    "n = 5;\n",
    "μ = 0;\n",
    "ρ = 0.5;\n",
    "σ = 0.1;\n",
    "rouwenhurst_AR = rouwenhurst(n, μ, ρ, σ);\n",
    "\n",
    "P_rouwenhurst = rouwenhurst_AR.P;\n",
    "y_rouwenhurst = rouwenhurst_AR.y;\n",
    "π_vec_rouwenhurst = rouwenhurst_AR.π_vec;"
   ]
  },
  {
   "cell_type": "code",
   "execution_count": 200,
   "metadata": {},
   "outputs": [],
   "source": [
    "struct tauchen\n",
    "    # Define output\n",
    "    y::Vector{Float64} # Grid for income\n",
    "    P::Matrix{Float64} # Transition probability matrix\n",
    "    π_vec::Vector{Float64} # Stationary probability mass function\n",
    "    # Define function\n",
    "    # this is a so called \"inner constructor method\"\n",
    "\n",
    "    function tauchen(n, μ, ρ, σ; κ = 3)\n",
    "        mean_y = μ /(1-ρ); #mean of y\n",
    "        st_dev_y=σ/sqrt(1-ρ^2); #st. dev. of y\n",
    "          \n",
    "        y=mean_y .+ collect(LinRange(-κ*st_dev_y,κ*st_dev_y,n));\n",
    "        omega=y[2]-y[1]; #Note that all the points are equidistant by construction.\n",
    "          \n",
    "        yi=y*ones(1,n);\n",
    "        yj=ones(n,1)*y';\n",
    "        \n",
    "        P_part1=cdf.(Normal(),((yj.+omega/2 .-ρ*yi).-μ)/σ);\n",
    "        P_part2=cdf.(Normal(),((yj.-omega/2 .-ρ*yi).-μ)/σ);\n",
    "      \n",
    "        P=P_part1-P_part2;\n",
    "        P[:,1]= P_part1[:,1];\n",
    "        P[:,n]= 1 .- P_part2[:,n];\n",
    "      \n",
    "        \n",
    "\n",
    "        # Stationary probability mass function\n",
    "        π_vec = (ones(n) ./ n)'\n",
    "        for i = 1:1000\n",
    "            π_vec= π_vec * (P^i)\n",
    "        end\n",
    "        # Convert into a column vector\n",
    "        π_vec = π_vec'\n",
    "        # Return output - this \"new\" is special to inner constructor\n",
    "        new(y, P, π_vec)\n",
    "    end\n",
    "end;"
   ]
  },
  {
   "cell_type": "code",
   "execution_count": 201,
   "metadata": {},
   "outputs": [],
   "source": [
    "tauchen_AR = tauchen(n, μ, ρ, σ);\n",
    "\n",
    "P_tauchen = tauchen_AR.P;\n",
    "y_tauchen = tauchen_AR.y;\n",
    "π_vec_tauchen = tauchen_AR.π_vec;"
   ]
  },
  {
   "cell_type": "code",
   "execution_count": 202,
   "metadata": {},
   "outputs": [
    {
     "name": "stdout",
     "output_type": "stream",
     "text": [
      "var(y_rouwenhurst, w_rouwenhurst, corrected = false) = 0.013333333333333336\n",
      "var(y_tauchen, w_tauchen, corrected = false) = 0.01660466648688108\n"
     ]
    }
   ],
   "source": [
    "\n",
    "w_rouwenhurst = Weights(π_vec_rouwenhurst);\n",
    "w_tauchen     = Weights(π_vec_tauchen);\n",
    "\n",
    "@show var(y_rouwenhurst, w_rouwenhurst, corrected = false);\n",
    "@show var(y_tauchen, w_tauchen, corrected = false);\n"
   ]
  },
  {
   "cell_type": "code",
   "execution_count": 203,
   "metadata": {},
   "outputs": [
    {
     "data": {
      "text/plain": [
       "mc_sample_path (generic function with 1 method)"
      ]
     },
     "execution_count": 203,
     "metadata": {},
     "output_type": "execute_result"
    }
   ],
   "source": [
    "function mc_sample_path(P; init = 1, sample_size = 1000)\n",
    "    Random.seed!(1111); \n",
    "    @assert size(P)[1] == size(P)[2] # square required\n",
    "    N = size(P)[1] # should be square\n",
    "\n",
    "    # create vector of discrete RVs for each row\n",
    "    dists = [Categorical(P[i, :]) for i in 1:N]\n",
    "\n",
    "    # setup the simulation\n",
    "    X = fill(0, sample_size) # allocate memory, or zeros(Int64, sample_size)\n",
    "    X[1] = init # set the initial state\n",
    "\n",
    "    for t in 2:sample_size\n",
    "        dist = dists[X[t-1]] # get discrete RV from last state's transition distribution\n",
    "        X[t] = rand(dist) # draw new value\n",
    "    end\n",
    "    return X\n",
    "end"
   ]
  },
  {
   "cell_type": "code",
   "execution_count": 230,
   "metadata": {},
   "outputs": [
    {
     "data": {
      "image/svg+xml": "<?xml version=\"1.0\" encoding=\"utf-8\"?>\n<svg xmlns=\"http://www.w3.org/2000/svg\" xmlns:xlink=\"http://www.w3.org/1999/xlink\" width=\"600\" height=\"400\" viewBox=\"0 0 2400 1600\">\n<defs>\n  <clipPath id=\"clip310\">\n    <rect x=\"0\" y=\"0\" width=\"2400\" height=\"1600\"/>\n  </clipPath>\n</defs>\n<path clip-path=\"url(#clip310)\" d=\"\nM0 1600 L2400 1600 L2400 0 L0 0  Z\n  \" fill=\"#ffffff\" fill-rule=\"evenodd\" fill-opacity=\"1\"/>\n<defs>\n  <clipPath id=\"clip311\">\n    <rect x=\"480\" y=\"0\" width=\"1681\" height=\"1600\"/>\n  </clipPath>\n</defs>\n<path clip-path=\"url(#clip310)\" d=\"\nM193.288 1486.45 L2352.76 1486.45 L2352.76 47.2441 L193.288 47.2441  Z\n  \" fill=\"#ffffff\" fill-rule=\"evenodd\" fill-opacity=\"1\"/>\n<defs>\n  <clipPath id=\"clip312\">\n    <rect x=\"193\" y=\"47\" width=\"2160\" height=\"1440\"/>\n  </clipPath>\n</defs>\n<polyline clip-path=\"url(#clip312)\" style=\"stroke:#000000; stroke-linecap:round; stroke-linejoin:round; stroke-width:2; stroke-opacity:0.1; fill:none\" points=\"\n  683.296,1486.45 683.296,47.2441 \n  \"/>\n<polyline clip-path=\"url(#clip312)\" style=\"stroke:#000000; stroke-linecap:round; stroke-linejoin:round; stroke-width:2; stroke-opacity:0.1; fill:none\" points=\"\n  1219.41,1486.45 1219.41,47.2441 \n  \"/>\n<polyline clip-path=\"url(#clip312)\" style=\"stroke:#000000; stroke-linecap:round; stroke-linejoin:round; stroke-width:2; stroke-opacity:0.1; fill:none\" points=\"\n  1755.52,1486.45 1755.52,47.2441 \n  \"/>\n<polyline clip-path=\"url(#clip312)\" style=\"stroke:#000000; stroke-linecap:round; stroke-linejoin:round; stroke-width:2; stroke-opacity:0.1; fill:none\" points=\"\n  2291.64,1486.45 2291.64,47.2441 \n  \"/>\n<polyline clip-path=\"url(#clip310)\" style=\"stroke:#000000; stroke-linecap:round; stroke-linejoin:round; stroke-width:4; stroke-opacity:1; fill:none\" points=\"\n  193.288,1486.45 2352.76,1486.45 \n  \"/>\n<polyline clip-path=\"url(#clip310)\" style=\"stroke:#000000; stroke-linecap:round; stroke-linejoin:round; stroke-width:4; stroke-opacity:1; fill:none\" points=\"\n  683.296,1486.45 683.296,1467.55 \n  \"/>\n<polyline clip-path=\"url(#clip310)\" style=\"stroke:#000000; stroke-linecap:round; stroke-linejoin:round; stroke-width:4; stroke-opacity:1; fill:none\" points=\"\n  1219.41,1486.45 1219.41,1467.55 \n  \"/>\n<polyline clip-path=\"url(#clip310)\" style=\"stroke:#000000; stroke-linecap:round; stroke-linejoin:round; stroke-width:4; stroke-opacity:1; fill:none\" points=\"\n  1755.52,1486.45 1755.52,1467.55 \n  \"/>\n<polyline clip-path=\"url(#clip310)\" style=\"stroke:#000000; stroke-linecap:round; stroke-linejoin:round; stroke-width:4; stroke-opacity:1; fill:none\" points=\"\n  2291.64,1486.45 2291.64,1467.55 \n  \"/>\n<path clip-path=\"url(#clip310)\" d=\"M673.574 1514.29 L691.93 1514.29 L691.93 1518.22 L677.856 1518.22 L677.856 1526.7 Q678.875 1526.35 679.893 1526.19 Q680.912 1526 681.931 1526 Q687.718 1526 691.097 1529.17 Q694.477 1532.34 694.477 1537.76 Q694.477 1543.34 691.005 1546.44 Q687.532 1549.52 681.213 1549.52 Q679.037 1549.52 676.769 1549.15 Q674.523 1548.78 672.116 1548.04 L672.116 1543.34 Q674.199 1544.47 676.421 1545.03 Q678.643 1545.58 681.12 1545.58 Q685.125 1545.58 687.463 1543.48 Q689.801 1541.37 689.801 1537.76 Q689.801 1534.15 687.463 1532.04 Q685.125 1529.94 681.12 1529.94 Q679.245 1529.94 677.37 1530.35 Q675.519 1530.77 673.574 1531.65 L673.574 1514.29 Z\" fill=\"#000000\" fill-rule=\"evenodd\" fill-opacity=\"1\" /><path clip-path=\"url(#clip310)\" d=\"M1194.1 1544.91 L1201.74 1544.91 L1201.74 1518.55 L1193.43 1520.21 L1193.43 1515.95 L1201.69 1514.29 L1206.37 1514.29 L1206.37 1544.91 L1214.01 1544.91 L1214.01 1548.85 L1194.1 1548.85 L1194.1 1544.91 Z\" fill=\"#000000\" fill-rule=\"evenodd\" fill-opacity=\"1\" /><path clip-path=\"url(#clip310)\" d=\"M1233.45 1517.37 Q1229.84 1517.37 1228.01 1520.93 Q1226.2 1524.47 1226.2 1531.6 Q1226.2 1538.71 1228.01 1542.27 Q1229.84 1545.82 1233.45 1545.82 Q1237.08 1545.82 1238.89 1542.27 Q1240.72 1538.71 1240.72 1531.6 Q1240.72 1524.47 1238.89 1520.93 Q1237.08 1517.37 1233.45 1517.37 M1233.45 1513.66 Q1239.26 1513.66 1242.32 1518.27 Q1245.39 1522.85 1245.39 1531.6 Q1245.39 1540.33 1242.32 1544.94 Q1239.26 1549.52 1233.45 1549.52 Q1227.64 1549.52 1224.56 1544.94 Q1221.51 1540.33 1221.51 1531.6 Q1221.51 1522.85 1224.56 1518.27 Q1227.64 1513.66 1233.45 1513.66 Z\" fill=\"#000000\" fill-rule=\"evenodd\" fill-opacity=\"1\" /><path clip-path=\"url(#clip310)\" d=\"M1730.71 1544.91 L1738.35 1544.91 L1738.35 1518.55 L1730.04 1520.21 L1730.04 1515.95 L1738.3 1514.29 L1742.98 1514.29 L1742.98 1544.91 L1750.62 1544.91 L1750.62 1548.85 L1730.71 1548.85 L1730.71 1544.91 Z\" fill=\"#000000\" fill-rule=\"evenodd\" fill-opacity=\"1\" /><path clip-path=\"url(#clip310)\" d=\"M1760.11 1514.29 L1778.46 1514.29 L1778.46 1518.22 L1764.39 1518.22 L1764.39 1526.7 Q1765.41 1526.35 1766.43 1526.19 Q1767.45 1526 1768.46 1526 Q1774.25 1526 1777.63 1529.17 Q1781.01 1532.34 1781.01 1537.76 Q1781.01 1543.34 1777.54 1546.44 Q1774.07 1549.52 1767.75 1549.52 Q1765.57 1549.52 1763.3 1549.15 Q1761.06 1548.78 1758.65 1548.04 L1758.65 1543.34 Q1760.73 1544.47 1762.96 1545.03 Q1765.18 1545.58 1767.65 1545.58 Q1771.66 1545.58 1774 1543.48 Q1776.33 1541.37 1776.33 1537.76 Q1776.33 1534.15 1774 1532.04 Q1771.66 1529.94 1767.65 1529.94 Q1765.78 1529.94 1763.9 1530.35 Q1762.05 1530.77 1760.11 1531.65 L1760.11 1514.29 Z\" fill=\"#000000\" fill-rule=\"evenodd\" fill-opacity=\"1\" /><path clip-path=\"url(#clip310)\" d=\"M2270.41 1544.91 L2286.73 1544.91 L2286.73 1548.85 L2264.79 1548.85 L2264.79 1544.91 Q2267.45 1542.16 2272.03 1537.53 Q2276.64 1532.88 2277.82 1531.53 Q2280.06 1529.01 2280.94 1527.27 Q2281.85 1525.51 2281.85 1523.82 Q2281.85 1521.07 2279.9 1519.33 Q2277.98 1517.6 2274.88 1517.6 Q2272.68 1517.6 2270.23 1518.36 Q2267.8 1519.13 2265.02 1520.68 L2265.02 1515.95 Q2267.84 1514.82 2270.3 1514.24 Q2272.75 1513.66 2274.79 1513.66 Q2280.16 1513.66 2283.35 1516.35 Q2286.55 1519.03 2286.55 1523.52 Q2286.55 1525.65 2285.74 1527.57 Q2284.95 1529.47 2282.84 1532.07 Q2282.26 1532.74 2279.16 1535.95 Q2276.06 1539.15 2270.41 1544.91 Z\" fill=\"#000000\" fill-rule=\"evenodd\" fill-opacity=\"1\" /><path clip-path=\"url(#clip310)\" d=\"M2306.55 1517.37 Q2302.94 1517.37 2301.11 1520.93 Q2299.3 1524.47 2299.3 1531.6 Q2299.3 1538.71 2301.11 1542.27 Q2302.94 1545.82 2306.55 1545.82 Q2310.18 1545.82 2311.99 1542.27 Q2313.81 1538.71 2313.81 1531.6 Q2313.81 1524.47 2311.99 1520.93 Q2310.18 1517.37 2306.55 1517.37 M2306.55 1513.66 Q2312.36 1513.66 2315.41 1518.27 Q2318.49 1522.85 2318.49 1531.6 Q2318.49 1540.33 2315.41 1544.94 Q2312.36 1549.52 2306.55 1549.52 Q2300.74 1549.52 2297.66 1544.94 Q2294.6 1540.33 2294.6 1531.6 Q2294.6 1522.85 2297.66 1518.27 Q2300.74 1513.66 2306.55 1513.66 Z\" fill=\"#000000\" fill-rule=\"evenodd\" fill-opacity=\"1\" /><polyline clip-path=\"url(#clip312)\" style=\"stroke:#000000; stroke-linecap:round; stroke-linejoin:round; stroke-width:2; stroke-opacity:0.1; fill:none\" points=\"\n  193.288,1263.81 2352.76,1263.81 \n  \"/>\n<polyline clip-path=\"url(#clip312)\" style=\"stroke:#000000; stroke-linecap:round; stroke-linejoin:round; stroke-width:2; stroke-opacity:0.1; fill:none\" points=\"\n  193.288,871.867 2352.76,871.867 \n  \"/>\n<polyline clip-path=\"url(#clip312)\" style=\"stroke:#000000; stroke-linecap:round; stroke-linejoin:round; stroke-width:2; stroke-opacity:0.1; fill:none\" points=\"\n  193.288,479.922 2352.76,479.922 \n  \"/>\n<polyline clip-path=\"url(#clip312)\" style=\"stroke:#000000; stroke-linecap:round; stroke-linejoin:round; stroke-width:2; stroke-opacity:0.1; fill:none\" points=\"\n  193.288,87.9763 2352.76,87.9763 \n  \"/>\n<polyline clip-path=\"url(#clip310)\" style=\"stroke:#000000; stroke-linecap:round; stroke-linejoin:round; stroke-width:4; stroke-opacity:1; fill:none\" points=\"\n  193.288,1486.45 193.288,47.2441 \n  \"/>\n<polyline clip-path=\"url(#clip310)\" style=\"stroke:#000000; stroke-linecap:round; stroke-linejoin:round; stroke-width:4; stroke-opacity:1; fill:none\" points=\"\n  193.288,1263.81 212.185,1263.81 \n  \"/>\n<polyline clip-path=\"url(#clip310)\" style=\"stroke:#000000; stroke-linecap:round; stroke-linejoin:round; stroke-width:4; stroke-opacity:1; fill:none\" points=\"\n  193.288,871.867 212.185,871.867 \n  \"/>\n<polyline clip-path=\"url(#clip310)\" style=\"stroke:#000000; stroke-linecap:round; stroke-linejoin:round; stroke-width:4; stroke-opacity:1; fill:none\" points=\"\n  193.288,479.922 212.185,479.922 \n  \"/>\n<polyline clip-path=\"url(#clip310)\" style=\"stroke:#000000; stroke-linecap:round; stroke-linejoin:round; stroke-width:4; stroke-opacity:1; fill:none\" points=\"\n  193.288,87.9763 212.185,87.9763 \n  \"/>\n<path clip-path=\"url(#clip310)\" d=\"M50.9921 1264.26 L80.6679 1264.26 L80.6679 1268.2 L50.9921 1268.2 L50.9921 1264.26 Z\" fill=\"#000000\" fill-rule=\"evenodd\" fill-opacity=\"1\" /><path clip-path=\"url(#clip310)\" d=\"M100.76 1249.61 Q97.1493 1249.61 95.3206 1253.18 Q93.515 1256.72 93.515 1263.85 Q93.515 1270.95 95.3206 1274.52 Q97.1493 1278.06 100.76 1278.06 Q104.395 1278.06 106.2 1274.52 Q108.029 1270.95 108.029 1263.85 Q108.029 1256.72 106.2 1253.18 Q104.395 1249.61 100.76 1249.61 M100.76 1245.91 Q106.571 1245.91 109.626 1250.51 Q112.705 1255.1 112.705 1263.85 Q112.705 1272.57 109.626 1277.18 Q106.571 1281.76 100.76 1281.76 Q94.9502 1281.76 91.8715 1277.18 Q88.816 1272.57 88.816 1263.85 Q88.816 1255.1 91.8715 1250.51 Q94.9502 1245.91 100.76 1245.91 Z\" fill=\"#000000\" fill-rule=\"evenodd\" fill-opacity=\"1\" /><path clip-path=\"url(#clip310)\" d=\"M120.922 1275.21 L125.807 1275.21 L125.807 1281.09 L120.922 1281.09 L120.922 1275.21 Z\" fill=\"#000000\" fill-rule=\"evenodd\" fill-opacity=\"1\" /><path clip-path=\"url(#clip310)\" d=\"M150.158 1262.46 Q153.515 1263.18 155.39 1265.45 Q157.288 1267.71 157.288 1271.05 Q157.288 1276.16 153.769 1278.96 Q150.251 1281.76 143.769 1281.76 Q141.593 1281.76 139.279 1281.32 Q136.987 1280.91 134.533 1280.05 L134.533 1275.54 Q136.478 1276.67 138.793 1277.25 Q141.107 1277.83 143.631 1277.83 Q148.029 1277.83 150.32 1276.09 Q152.635 1274.36 152.635 1271.05 Q152.635 1267.99 150.482 1266.28 Q148.353 1264.54 144.533 1264.54 L140.506 1264.54 L140.506 1260.7 L144.718 1260.7 Q148.168 1260.7 149.996 1259.33 Q151.825 1257.95 151.825 1255.35 Q151.825 1252.69 149.927 1251.28 Q148.052 1249.84 144.533 1249.84 Q142.612 1249.84 140.413 1250.26 Q138.214 1250.68 135.575 1251.56 L135.575 1247.39 Q138.237 1246.65 140.552 1246.28 Q142.89 1245.91 144.95 1245.91 Q150.274 1245.91 153.376 1248.34 Q156.478 1250.75 156.478 1254.87 Q156.478 1257.74 154.834 1259.73 Q153.191 1261.7 150.158 1262.46 Z\" fill=\"#000000\" fill-rule=\"evenodd\" fill-opacity=\"1\" /><path clip-path=\"url(#clip310)\" d=\"M51.9412 872.319 L81.617 872.319 L81.617 876.254 L51.9412 876.254 L51.9412 872.319 Z\" fill=\"#000000\" fill-rule=\"evenodd\" fill-opacity=\"1\" /><path clip-path=\"url(#clip310)\" d=\"M101.709 857.666 Q98.0984 857.666 96.2697 861.231 Q94.4641 864.773 94.4641 871.902 Q94.4641 879.009 96.2697 882.573 Q98.0984 886.115 101.709 886.115 Q105.344 886.115 107.149 882.573 Q108.978 879.009 108.978 871.902 Q108.978 864.773 107.149 861.231 Q105.344 857.666 101.709 857.666 M101.709 853.962 Q107.52 853.962 110.575 858.569 Q113.654 863.152 113.654 871.902 Q113.654 880.629 110.575 885.235 Q107.52 889.819 101.709 889.819 Q95.8993 889.819 92.8206 885.235 Q89.7651 880.629 89.7651 871.902 Q89.7651 863.152 92.8206 858.569 Q95.8993 853.962 101.709 853.962 Z\" fill=\"#000000\" fill-rule=\"evenodd\" fill-opacity=\"1\" /><path clip-path=\"url(#clip310)\" d=\"M121.871 883.268 L126.756 883.268 L126.756 889.147 L121.871 889.147 L121.871 883.268 Z\" fill=\"#000000\" fill-rule=\"evenodd\" fill-opacity=\"1\" /><path clip-path=\"url(#clip310)\" d=\"M140.968 885.212 L157.288 885.212 L157.288 889.147 L135.344 889.147 L135.344 885.212 Q138.006 882.458 142.589 877.828 Q147.195 873.175 148.376 871.833 Q150.621 869.31 151.501 867.574 Q152.404 865.814 152.404 864.124 Q152.404 861.37 150.459 859.634 Q148.538 857.898 145.436 857.898 Q143.237 857.898 140.783 858.662 Q138.353 859.425 135.575 860.976 L135.575 856.254 Q138.399 855.12 140.853 854.541 Q143.306 853.962 145.343 853.962 Q150.714 853.962 153.908 856.648 Q157.103 859.333 157.103 863.824 Q157.103 865.953 156.292 867.874 Q155.505 869.773 153.399 872.365 Q152.82 873.036 149.718 876.254 Q146.617 879.448 140.968 885.212 Z\" fill=\"#000000\" fill-rule=\"evenodd\" fill-opacity=\"1\" /><path clip-path=\"url(#clip310)\" d=\"M51.5708 480.373 L81.2466 480.373 L81.2466 484.308 L51.5708 484.308 L51.5708 480.373 Z\" fill=\"#000000\" fill-rule=\"evenodd\" fill-opacity=\"1\" /><path clip-path=\"url(#clip310)\" d=\"M101.339 465.721 Q97.728 465.721 95.8993 469.285 Q94.0937 472.827 94.0937 479.957 Q94.0937 487.063 95.8993 490.628 Q97.728 494.169 101.339 494.169 Q104.973 494.169 106.779 490.628 Q108.608 487.063 108.608 479.957 Q108.608 472.827 106.779 469.285 Q104.973 465.721 101.339 465.721 M101.339 462.017 Q107.149 462.017 110.205 466.623 Q113.283 471.207 113.283 479.957 Q113.283 488.683 110.205 493.29 Q107.149 497.873 101.339 497.873 Q95.5289 497.873 92.4502 493.29 Q89.3947 488.683 89.3947 479.957 Q89.3947 471.207 92.4502 466.623 Q95.5289 462.017 101.339 462.017 Z\" fill=\"#000000\" fill-rule=\"evenodd\" fill-opacity=\"1\" /><path clip-path=\"url(#clip310)\" d=\"M121.501 491.322 L126.385 491.322 L126.385 497.202 L121.501 497.202 L121.501 491.322 Z\" fill=\"#000000\" fill-rule=\"evenodd\" fill-opacity=\"1\" /><path clip-path=\"url(#clip310)\" d=\"M137.381 493.267 L145.019 493.267 L145.019 466.901 L136.709 468.568 L136.709 464.309 L144.973 462.642 L149.649 462.642 L149.649 493.267 L157.288 493.267 L157.288 497.202 L137.381 497.202 L137.381 493.267 Z\" fill=\"#000000\" fill-rule=\"evenodd\" fill-opacity=\"1\" /><path clip-path=\"url(#clip310)\" d=\"M100.112 73.775 Q96.5011 73.775 94.6724 77.3398 Q92.8669 80.8814 92.8669 88.011 Q92.8669 95.1174 94.6724 98.6822 Q96.5011 102.224 100.112 102.224 Q103.746 102.224 105.552 98.6822 Q107.381 95.1174 107.381 88.011 Q107.381 80.8814 105.552 77.3398 Q103.746 73.775 100.112 73.775 M100.112 70.0713 Q105.922 70.0713 108.978 74.6777 Q112.057 79.261 112.057 88.011 Q112.057 96.7378 108.978 101.344 Q105.922 105.928 100.112 105.928 Q94.3021 105.928 91.2234 101.344 Q88.1679 96.7378 88.1679 88.011 Q88.1679 79.261 91.2234 74.6777 Q94.3021 70.0713 100.112 70.0713 Z\" fill=\"#000000\" fill-rule=\"evenodd\" fill-opacity=\"1\" /><path clip-path=\"url(#clip310)\" d=\"M120.274 99.3767 L125.158 99.3767 L125.158 105.256 L120.274 105.256 L120.274 99.3767 Z\" fill=\"#000000\" fill-rule=\"evenodd\" fill-opacity=\"1\" /><path clip-path=\"url(#clip310)\" d=\"M145.343 73.775 Q141.732 73.775 139.904 77.3398 Q138.098 80.8814 138.098 88.011 Q138.098 95.1174 139.904 98.6822 Q141.732 102.224 145.343 102.224 Q148.978 102.224 150.783 98.6822 Q152.612 95.1174 152.612 88.011 Q152.612 80.8814 150.783 77.3398 Q148.978 73.775 145.343 73.775 M145.343 70.0713 Q151.154 70.0713 154.209 74.6777 Q157.288 79.261 157.288 88.011 Q157.288 96.7378 154.209 101.344 Q151.154 105.928 145.343 105.928 Q139.533 105.928 136.455 101.344 Q133.399 96.7378 133.399 88.011 Q133.399 79.261 136.455 74.6777 Q139.533 70.0713 145.343 70.0713 Z\" fill=\"#000000\" fill-rule=\"evenodd\" fill-opacity=\"1\" /><polyline clip-path=\"url(#clip312)\" style=\"stroke:#009af9; stroke-linecap:round; stroke-linejoin:round; stroke-width:4; stroke-opacity:1; fill:none\" points=\"\n  254.405,993.136 361.628,993.136 468.851,993.136 576.073,87.9763 683.296,540.556 790.519,87.9763 897.742,87.9763 1004.96,87.9763 1112.19,87.9763 1219.41,540.556 \n  1326.63,87.9763 1433.86,87.9763 1541.08,87.9763 1648.3,87.9763 1755.52,87.9763 1862.75,540.556 1969.97,540.556 2077.19,540.556 2184.42,993.136 2291.64,540.556 \n  \n  \"/>\n<polyline clip-path=\"url(#clip312)\" style=\"stroke:#ff0000; stroke-linecap:round; stroke-linejoin:round; stroke-width:4; stroke-opacity:1; fill:none\" points=\"\n  254.405,1445.72 361.628,766.846 468.851,766.846 576.073,87.9763 683.296,87.9763 790.519,87.9763 897.742,87.9763 1004.96,87.9763 1112.19,87.9763 1219.41,766.846 \n  1326.63,87.9763 1433.86,87.9763 1541.08,87.9763 1648.3,87.9763 1755.52,87.9763 1862.75,766.846 1969.97,766.846 2077.19,766.846 2184.42,1445.72 2291.64,766.846 \n  \n  \"/>\n<path clip-path=\"url(#clip310)\" d=\"\nM1765.95 250.738 L2280.77 250.738 L2280.77 95.2176 L1765.95 95.2176  Z\n  \" fill=\"#ffffff\" fill-rule=\"evenodd\" fill-opacity=\"1\"/>\n<polyline clip-path=\"url(#clip310)\" style=\"stroke:#000000; stroke-linecap:round; stroke-linejoin:round; stroke-width:4; stroke-opacity:1; fill:none\" points=\"\n  1765.95,250.738 2280.77,250.738 2280.77,95.2176 1765.95,95.2176 1765.95,250.738 \n  \"/>\n<polyline clip-path=\"url(#clip310)\" style=\"stroke:#009af9; stroke-linecap:round; stroke-linejoin:round; stroke-width:4; stroke-opacity:1; fill:none\" points=\"\n  1789.94,147.058 1933.91,147.058 \n  \"/>\n<path clip-path=\"url(#clip310)\" d=\"M1974.29 148.134 Q1975.8 148.643 1977.21 150.31 Q1978.64 151.977 1980.08 154.893 L1984.82 164.338 L1979.8 164.338 L1975.38 155.472 Q1973.67 152 1972.05 150.865 Q1970.45 149.731 1967.67 149.731 L1962.58 149.731 L1962.58 164.338 L1957.9 164.338 L1957.9 129.778 L1968.46 129.778 Q1974.38 129.778 1977.3 132.254 Q1980.22 134.731 1980.22 139.731 Q1980.22 142.995 1978.69 145.148 Q1977.18 147.301 1974.29 148.134 M1962.58 133.62 L1962.58 145.889 L1968.46 145.889 Q1971.84 145.889 1973.55 144.338 Q1975.29 142.764 1975.29 139.731 Q1975.29 136.699 1973.55 135.171 Q1971.84 133.62 1968.46 133.62 L1962.58 133.62 Z\" fill=\"#000000\" fill-rule=\"evenodd\" fill-opacity=\"1\" /><path clip-path=\"url(#clip310)\" d=\"M1998.57 141.398 Q1995.15 141.398 1993.16 144.083 Q1991.17 146.745 1991.17 151.398 Q1991.17 156.051 1993.13 158.736 Q1995.12 161.398 1998.57 161.398 Q2001.98 161.398 2003.97 158.713 Q2005.96 156.027 2005.96 151.398 Q2005.96 146.791 2003.97 144.106 Q2001.98 141.398 1998.57 141.398 M1998.57 137.787 Q2004.13 137.787 2007.3 141.398 Q2010.47 145.009 2010.47 151.398 Q2010.47 157.764 2007.3 161.398 Q2004.13 165.009 1998.57 165.009 Q1993 165.009 1989.82 161.398 Q1986.68 157.764 1986.68 151.398 Q1986.68 145.009 1989.82 141.398 Q1993 137.787 1998.57 137.787 Z\" fill=\"#000000\" fill-rule=\"evenodd\" fill-opacity=\"1\" /><path clip-path=\"url(#clip310)\" d=\"M2017.09 154.106 L2017.09 138.412 L2021.35 138.412 L2021.35 153.944 Q2021.35 157.625 2022.79 159.476 Q2024.22 161.305 2027.09 161.305 Q2030.54 161.305 2032.53 159.106 Q2034.55 156.907 2034.55 153.111 L2034.55 138.412 L2038.81 138.412 L2038.81 164.338 L2034.55 164.338 L2034.55 160.356 Q2032.99 162.717 2030.93 163.875 Q2028.9 165.009 2026.19 165.009 Q2021.72 165.009 2019.41 162.231 Q2017.09 159.453 2017.09 154.106 M2027.81 137.787 L2027.81 137.787 Z\" fill=\"#000000\" fill-rule=\"evenodd\" fill-opacity=\"1\" /><path clip-path=\"url(#clip310)\" d=\"M2045.1 138.412 L2049.36 138.412 L2054.68 158.643 L2059.99 138.412 L2065.01 138.412 L2070.33 158.643 L2075.63 138.412 L2079.89 138.412 L2073.11 164.338 L2068.09 164.338 L2062.51 143.088 L2056.91 164.338 L2051.88 164.338 L2045.1 138.412 Z\" fill=\"#000000\" fill-rule=\"evenodd\" fill-opacity=\"1\" /><path clip-path=\"url(#clip310)\" d=\"M2108.53 150.31 L2108.53 152.393 L2088.94 152.393 Q2089.22 156.791 2091.58 159.106 Q2093.97 161.398 2098.2 161.398 Q2100.66 161.398 2102.95 160.796 Q2105.26 160.194 2107.53 158.99 L2107.53 163.018 Q2105.24 163.99 2102.83 164.5 Q2100.43 165.009 2097.95 165.009 Q2091.74 165.009 2088.11 161.398 Q2084.5 157.787 2084.5 151.629 Q2084.5 145.264 2087.93 141.537 Q2091.37 137.787 2097.21 137.787 Q2102.44 137.787 2105.47 141.166 Q2108.53 144.523 2108.53 150.31 M2104.27 149.06 Q2104.22 145.565 2102.3 143.481 Q2100.4 141.398 2097.25 141.398 Q2093.69 141.398 2091.54 143.412 Q2089.41 145.426 2089.08 149.083 L2104.27 149.06 Z\" fill=\"#000000\" fill-rule=\"evenodd\" fill-opacity=\"1\" /><path clip-path=\"url(#clip310)\" d=\"M2137.07 148.689 L2137.07 164.338 L2132.81 164.338 L2132.81 148.828 Q2132.81 145.148 2131.37 143.319 Q2129.94 141.49 2127.07 141.49 Q2123.62 141.49 2121.63 143.69 Q2119.64 145.889 2119.64 149.685 L2119.64 164.338 L2115.36 164.338 L2115.36 128.319 L2119.64 128.319 L2119.64 142.44 Q2121.17 140.102 2123.23 138.944 Q2125.31 137.787 2128.02 137.787 Q2132.49 137.787 2134.78 140.565 Q2137.07 143.319 2137.07 148.689 Z\" fill=\"#000000\" fill-rule=\"evenodd\" fill-opacity=\"1\" /><path clip-path=\"url(#clip310)\" d=\"M2145.12 154.106 L2145.12 138.412 L2149.38 138.412 L2149.38 153.944 Q2149.38 157.625 2150.82 159.476 Q2152.25 161.305 2155.12 161.305 Q2158.57 161.305 2160.56 159.106 Q2162.58 156.907 2162.58 153.111 L2162.58 138.412 L2166.84 138.412 L2166.84 164.338 L2162.58 164.338 L2162.58 160.356 Q2161.03 162.717 2158.97 163.875 Q2156.93 165.009 2154.22 165.009 Q2149.75 165.009 2147.44 162.231 Q2145.12 159.453 2145.12 154.106 M2155.84 137.787 L2155.84 137.787 Z\" fill=\"#000000\" fill-rule=\"evenodd\" fill-opacity=\"1\" /><path clip-path=\"url(#clip310)\" d=\"M2190.63 142.393 Q2189.92 141.977 2189.06 141.791 Q2188.23 141.583 2187.21 141.583 Q2183.6 141.583 2181.65 143.944 Q2179.73 146.282 2179.73 150.68 L2179.73 164.338 L2175.45 164.338 L2175.45 138.412 L2179.73 138.412 L2179.73 142.44 Q2181.07 140.078 2183.23 138.944 Q2185.38 137.787 2188.46 137.787 Q2188.9 137.787 2189.43 137.856 Q2189.96 137.903 2190.61 138.018 L2190.63 142.393 Z\" fill=\"#000000\" fill-rule=\"evenodd\" fill-opacity=\"1\" /><path clip-path=\"url(#clip310)\" d=\"M2211.63 139.176 L2211.63 143.203 Q2209.82 142.277 2207.88 141.815 Q2205.93 141.352 2203.85 141.352 Q2200.68 141.352 2199.08 142.324 Q2197.51 143.296 2197.51 145.24 Q2197.51 146.722 2198.64 147.578 Q2199.78 148.412 2203.2 149.176 L2204.66 149.5 Q2209.2 150.472 2211.1 152.254 Q2213.02 154.014 2213.02 157.185 Q2213.02 160.796 2210.15 162.902 Q2207.3 165.009 2202.3 165.009 Q2200.22 165.009 2197.95 164.592 Q2195.7 164.199 2193.2 163.388 L2193.2 158.99 Q2195.56 160.217 2197.86 160.842 Q2200.15 161.444 2202.39 161.444 Q2205.4 161.444 2207.02 160.426 Q2208.64 159.384 2208.64 157.509 Q2208.64 155.773 2207.46 154.847 Q2206.3 153.921 2202.35 153.064 L2200.86 152.717 Q2196.91 151.884 2195.15 150.171 Q2193.39 148.435 2193.39 145.426 Q2193.39 141.768 2195.98 139.778 Q2198.57 137.787 2203.34 137.787 Q2205.7 137.787 2207.79 138.134 Q2209.87 138.481 2211.63 139.176 Z\" fill=\"#000000\" fill-rule=\"evenodd\" fill-opacity=\"1\" /><path clip-path=\"url(#clip310)\" d=\"M2224.01 131.051 L2224.01 138.412 L2232.79 138.412 L2232.79 141.722 L2224.01 141.722 L2224.01 155.796 Q2224.01 158.967 2224.87 159.87 Q2225.75 160.773 2228.41 160.773 L2232.79 160.773 L2232.79 164.338 L2228.41 164.338 Q2223.48 164.338 2221.6 162.509 Q2219.73 160.657 2219.73 155.796 L2219.73 141.722 L2216.6 141.722 L2216.6 138.412 L2219.73 138.412 L2219.73 131.051 L2224.01 131.051 Z\" fill=\"#000000\" fill-rule=\"evenodd\" fill-opacity=\"1\" /><polyline clip-path=\"url(#clip310)\" style=\"stroke:#ff0000; stroke-linecap:round; stroke-linejoin:round; stroke-width:4; stroke-opacity:1; fill:none\" points=\"\n  1789.94,198.898 1933.91,198.898 \n  \"/>\n<path clip-path=\"url(#clip310)\" d=\"M1957.9 181.618 L1987.14 181.618 L1987.14 185.553 L1974.87 185.553 L1974.87 216.178 L1970.17 216.178 L1970.17 185.553 L1957.9 185.553 L1957.9 181.618 Z\" fill=\"#000000\" fill-rule=\"evenodd\" fill-opacity=\"1\" /><path clip-path=\"url(#clip310)\" d=\"M1995.4 203.145 Q1990.24 203.145 1988.25 204.326 Q1986.26 205.506 1986.26 208.354 Q1986.26 210.622 1987.74 211.965 Q1989.25 213.284 1991.81 213.284 Q1995.36 213.284 1997.49 210.784 Q1999.64 208.261 1999.64 204.094 L1999.64 203.145 L1995.4 203.145 M2003.9 201.386 L2003.9 216.178 L1999.64 216.178 L1999.64 212.242 Q1998.18 214.603 1996 215.738 Q1993.83 216.849 1990.68 216.849 Q1986.7 216.849 1984.34 214.627 Q1982 212.381 1982 208.631 Q1982 204.256 1984.92 202.034 Q1987.86 199.812 1993.67 199.812 L1999.64 199.812 L1999.64 199.395 Q1999.64 196.455 1997.69 194.858 Q1995.77 193.238 1992.28 193.238 Q1990.06 193.238 1987.95 193.77 Q1985.84 194.303 1983.9 195.367 L1983.9 191.432 Q1986.24 190.53 1988.43 190.09 Q1990.63 189.627 1992.72 189.627 Q1998.34 189.627 2001.12 192.543 Q2003.9 195.46 2003.9 201.386 Z\" fill=\"#000000\" fill-rule=\"evenodd\" fill-opacity=\"1\" /><path clip-path=\"url(#clip310)\" d=\"M2012.23 205.946 L2012.23 190.252 L2016.49 190.252 L2016.49 205.784 Q2016.49 209.465 2017.93 211.316 Q2019.36 213.145 2022.23 213.145 Q2025.68 213.145 2027.67 210.946 Q2029.68 208.747 2029.68 204.951 L2029.68 190.252 L2033.94 190.252 L2033.94 216.178 L2029.68 216.178 L2029.68 212.196 Q2028.13 214.557 2026.07 215.715 Q2024.04 216.849 2021.33 216.849 Q2016.86 216.849 2014.55 214.071 Q2012.23 211.293 2012.23 205.946 M2022.95 189.627 L2022.95 189.627 Z\" fill=\"#000000\" fill-rule=\"evenodd\" fill-opacity=\"1\" /><path clip-path=\"url(#clip310)\" d=\"M2061.37 191.247 L2061.37 195.229 Q2059.57 194.233 2057.74 193.747 Q2055.93 193.238 2054.08 193.238 Q2049.94 193.238 2047.65 195.877 Q2045.36 198.492 2045.36 203.238 Q2045.36 207.983 2047.65 210.622 Q2049.94 213.238 2054.08 213.238 Q2055.93 213.238 2057.74 212.752 Q2059.57 212.242 2061.37 211.247 L2061.37 215.182 Q2059.59 216.016 2057.67 216.432 Q2055.77 216.849 2053.62 216.849 Q2047.76 216.849 2044.31 213.168 Q2040.87 209.488 2040.87 203.238 Q2040.87 196.895 2044.34 193.261 Q2047.83 189.627 2053.9 189.627 Q2055.87 189.627 2057.74 190.043 Q2059.62 190.437 2061.37 191.247 Z\" fill=\"#000000\" fill-rule=\"evenodd\" fill-opacity=\"1\" /><path clip-path=\"url(#clip310)\" d=\"M2090.33 200.529 L2090.33 216.178 L2086.07 216.178 L2086.07 200.668 Q2086.07 196.988 2084.64 195.159 Q2083.2 193.33 2080.33 193.33 Q2076.88 193.33 2074.89 195.53 Q2072.9 197.729 2072.9 201.525 L2072.9 216.178 L2068.62 216.178 L2068.62 180.159 L2072.9 180.159 L2072.9 194.28 Q2074.43 191.942 2076.49 190.784 Q2078.57 189.627 2081.28 189.627 Q2085.75 189.627 2088.04 192.405 Q2090.33 195.159 2090.33 200.529 Z\" fill=\"#000000\" fill-rule=\"evenodd\" fill-opacity=\"1\" /><path clip-path=\"url(#clip310)\" d=\"M2121 202.15 L2121 204.233 L2101.42 204.233 Q2101.7 208.631 2104.06 210.946 Q2106.44 213.238 2110.68 213.238 Q2113.13 213.238 2115.42 212.636 Q2117.74 212.034 2120.01 210.83 L2120.01 214.858 Q2117.72 215.83 2115.31 216.34 Q2112.9 216.849 2110.43 216.849 Q2104.22 216.849 2100.59 213.238 Q2096.98 209.627 2096.98 203.469 Q2096.98 197.104 2100.4 193.377 Q2103.85 189.627 2109.68 189.627 Q2114.92 189.627 2117.95 193.006 Q2121 196.363 2121 202.15 M2116.74 200.9 Q2116.7 197.405 2114.78 195.321 Q2112.88 193.238 2109.73 193.238 Q2106.17 193.238 2104.01 195.252 Q2101.88 197.266 2101.56 200.923 L2116.74 200.9 Z\" fill=\"#000000\" fill-rule=\"evenodd\" fill-opacity=\"1\" /><path clip-path=\"url(#clip310)\" d=\"M2149.55 200.529 L2149.55 216.178 L2145.29 216.178 L2145.29 200.668 Q2145.29 196.988 2143.85 195.159 Q2142.42 193.33 2139.55 193.33 Q2136.1 193.33 2134.11 195.53 Q2132.11 197.729 2132.11 201.525 L2132.11 216.178 L2127.83 216.178 L2127.83 190.252 L2132.11 190.252 L2132.11 194.28 Q2133.64 191.942 2135.7 190.784 Q2137.79 189.627 2140.49 189.627 Q2144.96 189.627 2147.25 192.405 Q2149.55 195.159 2149.55 200.529 Z\" fill=\"#000000\" fill-rule=\"evenodd\" fill-opacity=\"1\" /></svg>\n"
     },
     "execution_count": 230,
     "metadata": {},
     "output_type": "execute_result"
    }
   ],
   "source": [
    "\n",
    "T = 20\n",
    "path_rouwenhurst = mc_sample_path(P_rouwenhurst; init = 1, sample_size = T)\n",
    "path_tauchen = mc_sample_path(P_tauchen; init = 1, sample_size = T)\n",
    "\n",
    "\n",
    "y_path_rouwenhurst = y_rouwenhurst[path_rouwenhurst];\n",
    "y_path_tauchen = y_tauchen[path_tauchen];\n",
    "\n",
    "\n",
    "plot(y_path_rouwenhurst,label = \"Rouwehurst\")\n",
    "plot!(y_path_tauchen,color=\"red\",label = \"Tauchen\")"
   ]
  },
  {
   "cell_type": "code",
   "execution_count": 205,
   "metadata": {},
   "outputs": [
    {
     "data": {
      "text/plain": [
       "5×5 Matrix{Float64}:\n",
       " 0.316406    0.421875  0.210938  0.046875  0.00390625\n",
       " 0.105469    0.421875  0.351562  0.109375  0.0117188\n",
       " 0.0351562   0.234375  0.460938  0.234375  0.0351562\n",
       " 0.0117188   0.109375  0.351562  0.421875  0.105469\n",
       " 0.00390625  0.046875  0.210938  0.421875  0.316406"
      ]
     },
     "execution_count": 205,
     "metadata": {},
     "output_type": "execute_result"
    }
   ],
   "source": [
    "P_rouwenhurst"
   ]
  }
 ],
 "metadata": {
  "kernelspec": {
   "display_name": "Julia 1.7.3",
   "language": "julia",
   "name": "julia-1.7"
  },
  "language_info": {
   "file_extension": ".jl",
   "mimetype": "application/julia",
   "name": "julia",
   "version": "1.7.3"
  },
  "orig_nbformat": 4
 },
 "nbformat": 4,
 "nbformat_minor": 2
}
